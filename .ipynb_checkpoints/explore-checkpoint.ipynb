{
 "cells": [
  {
   "cell_type": "markdown",
   "id": "0d042c06",
   "metadata": {
    "toc": true
   },
   "source": [
    "<h1>Table of Contents<span class=\"tocSkip\"></span></h1>\n",
    "<div class=\"toc\"><ul class=\"toc-item\"><li><span><a href=\"#标准-node-+-tree-代码\" data-toc-modified-id=\"标准-node-+-tree-代码-1\"><span class=\"toc-item-num\">1&nbsp;&nbsp;</span>标准 node + tree 代码</a></span></li><li><span><a href=\"#Set-底层对比的原理\" data-toc-modified-id=\"Set-底层对比的原理-2\"><span class=\"toc-item-num\">2&nbsp;&nbsp;</span>Set 底层对比的原理</a></span></li><li><span><a href=\"#类的使用-super-和-init-和-MRO\" data-toc-modified-id=\"类的使用-super-和-init-和-MRO-3\"><span class=\"toc-item-num\">3&nbsp;&nbsp;</span>类的使用 super 和 init 和 MRO</a></span><ul class=\"toc-item\"><li><span><a href=\"#理解-super-和-bound-和-描述器\" data-toc-modified-id=\"理解-super-和-bound-和-描述器-3.1\"><span class=\"toc-item-num\">3.1&nbsp;&nbsp;</span>理解 super 和 bound 和 描述器</a></span></li><li><span><a href=\"#绑定(bound)和非绑定(unbound)到底有什么区别\" data-toc-modified-id=\"绑定(bound)和非绑定(unbound)到底有什么区别-3.2\"><span class=\"toc-item-num\">3.2&nbsp;&nbsp;</span>绑定(bound)和非绑定(unbound)到底有什么区别</a></span></li><li><span><a href=\"#super\" data-toc-modified-id=\"super-3.3\"><span class=\"toc-item-num\">3.3&nbsp;&nbsp;</span>super</a></span></li><li><span><a href=\"#自定义-super\" data-toc-modified-id=\"自定义-super-3.4\"><span class=\"toc-item-num\">3.4&nbsp;&nbsp;</span>自定义 super</a></span></li></ul></li><li><span><a href=\"#类-作为-data-structure-链表\" data-toc-modified-id=\"类-作为-data-structure-链表-4\"><span class=\"toc-item-num\">4&nbsp;&nbsp;</span>类 作为 data structure 链表</a></span></li><li><span><a href=\"#matrix-comprehension\" data-toc-modified-id=\"matrix-comprehension-5\"><span class=\"toc-item-num\">5&nbsp;&nbsp;</span>matrix comprehension</a></span></li><li><span><a href=\"#int16-vs-int32\" data-toc-modified-id=\"int16-vs-int32-6\"><span class=\"toc-item-num\">6&nbsp;&nbsp;</span>int16 vs int32</a></span></li><li><span><a href=\"#args-和-*kargs--怎么用\" data-toc-modified-id=\"args-和-*kargs--怎么用-7\"><span class=\"toc-item-num\">7&nbsp;&nbsp;</span><em>args 和 *</em>kargs  怎么用</a></span></li><li><span><a href=\"#Len-magic-build-in-function\" data-toc-modified-id=\"Len-magic-build-in-function-8\"><span class=\"toc-item-num\">8&nbsp;&nbsp;</span>Len magic build in function</a></span></li><li><span><a href=\"#Soft-vs-Deep-copy\" data-toc-modified-id=\"Soft-vs-Deep-copy-9\"><span class=\"toc-item-num\">9&nbsp;&nbsp;</span>Soft vs Deep copy</a></span></li><li><span><a href=\"#9-Code-structure\" data-toc-modified-id=\"9-Code-structure-10\"><span class=\"toc-item-num\">10&nbsp;&nbsp;</span>9 Code structure</a></span><ul class=\"toc-item\"><li><span><a href=\"#samples-of-code-structure\" data-toc-modified-id=\"samples-of-code-structure-10.1\"><span class=\"toc-item-num\">10.1&nbsp;&nbsp;</span>samples of code structure</a></span></li></ul></li><li><span><a href=\"#Heapq\" data-toc-modified-id=\"Heapq-11\"><span class=\"toc-item-num\">11&nbsp;&nbsp;</span>Heapq</a></span><ul class=\"toc-item\"><li><span><a href=\"#Heap-push-pop\" data-toc-modified-id=\"Heap-push-pop-11.1\"><span class=\"toc-item-num\">11.1&nbsp;&nbsp;</span>Heap push pop</a></span></li><li><span><a href=\"#Heap-push-n-sort\" data-toc-modified-id=\"Heap-push-n-sort-11.2\"><span class=\"toc-item-num\">11.2&nbsp;&nbsp;</span>Heap push n sort</a></span></li><li><span><a href=\"#heap-merge\" data-toc-modified-id=\"heap-merge-11.3\"><span class=\"toc-item-num\">11.3&nbsp;&nbsp;</span>heap merge</a></span></li></ul></li><li><span><a href=\"#priority-queue\" data-toc-modified-id=\"priority-queue-12\"><span class=\"toc-item-num\">12&nbsp;&nbsp;</span>priority queue</a></span></li><li><span><a href=\"#flatten-method\" data-toc-modified-id=\"flatten-method-13\"><span class=\"toc-item-num\">13&nbsp;&nbsp;</span>flatten method</a></span></li><li><span><a href=\"#Currying\" data-toc-modified-id=\"Currying-14\"><span class=\"toc-item-num\">14&nbsp;&nbsp;</span>Currying</a></span><ul class=\"toc-item\"><li><span><a href=\"#lambda-实现\" data-toc-modified-id=\"lambda-实现-14.1\"><span class=\"toc-item-num\">14.1&nbsp;&nbsp;</span>lambda 实现</a></span></li><li><span><a href=\"#functools-实现\" data-toc-modified-id=\"functools-实现-14.2\"><span class=\"toc-item-num\">14.2&nbsp;&nbsp;</span>functools 实现</a></span></li><li><span><a href=\"#wrapper-实现\" data-toc-modified-id=\"wrapper-实现-14.3\"><span class=\"toc-item-num\">14.3&nbsp;&nbsp;</span>wrapper 实现</a></span></li><li><span><a href=\"#装饰器实现\" data-toc-modified-id=\"装饰器实现-14.4\"><span class=\"toc-item-num\">14.4&nbsp;&nbsp;</span>装饰器实现</a></span></li><li><span><a href=\"#pymonad-实现\" data-toc-modified-id=\"pymonad-实现-14.5\"><span class=\"toc-item-num\">14.5&nbsp;&nbsp;</span>pymonad 实现</a></span></li><li><span><a href=\"#anti-currying\" data-toc-modified-id=\"anti-currying-14.6\"><span class=\"toc-item-num\">14.6&nbsp;&nbsp;</span>anti-currying</a></span></li></ul></li><li><span><a href=\"#Fold-and-flip\" data-toc-modified-id=\"Fold-and-flip-15\"><span class=\"toc-item-num\">15&nbsp;&nbsp;</span>Fold and flip</a></span></li></ul></div>"
   ]
  },
  {
   "cell_type": "code",
   "execution_count": null,
   "id": "94ae083a",
   "metadata": {},
   "outputs": [],
   "source": []
  },
  {
   "cell_type": "code",
   "execution_count": null,
   "id": "91ca6a71",
   "metadata": {},
   "outputs": [],
   "source": []
  },
  {
   "cell_type": "markdown",
   "id": "794fe3f2",
   "metadata": {},
   "source": [
    "## 标准 node + tree 代码"
   ]
  },
  {
   "cell_type": "code",
   "execution_count": 42,
   "id": "d290a32b",
   "metadata": {
    "ExecuteTime": {
     "end_time": "2021-08-31T21:26:52.130746Z",
     "start_time": "2021-08-31T21:26:52.113679Z"
    }
   },
   "outputs": [],
   "source": [
    "class Node(object):\n",
    "    def __init__(self, item):\n",
    "        self.item = item  # 表示对应的元素\n",
    "        self.left = None  # 表示左节点\n",
    "        self.right = None  # 表示右节点\n",
    "\n",
    "    def __str__(self):\n",
    "        return str(self.item)  # print 一个 Node 类时会打印 __str__ 的返回值\n",
    "\n",
    "\n",
    "class Tree(object):\n",
    "    def __init__(self):\n",
    "        self.root = Node('root')  # 根节点定义为 root 永不删除，作为哨兵使用。\n",
    "\n",
    "    def add(self, item):\n",
    "        node = Node(item)\n",
    "        if self.root is None:  # 如果二叉树为空，那么生成的二叉树最终为新插入树的点\n",
    "            self.root = node\n",
    "        else:\n",
    "            q = [self.root]  # 将q列表，添加二叉树的根节点\n",
    "            while True:\n",
    "                pop_node = q.pop(0)\n",
    "                if pop_node.left is None:  # 左子树为空则将点添加到左子树\n",
    "                    pop_node.left = node\n",
    "                    return\n",
    "                elif pop_node.right is None:  # 右子树为空则将点添加到右子树\n",
    "                    pop_node.right = node\n",
    "                    return\n",
    "                else:\n",
    "                    q.append(pop_node.left)\n",
    "                    q.append(pop_node.right)\n",
    "\n",
    "    def get_parent(self, item):\n",
    "        if self.root.item == item:\n",
    "            return None  # 根节点没有父节点\n",
    "        tmp = [self.root]  # 将tmp列表，添加二叉树的根节点\n",
    "        while tmp:\n",
    "            pop_node = tmp.pop(0)\n",
    "            if pop_node.left and pop_node.left.item == item:  # 某点的左子树为寻找的点\n",
    "                return pop_node  # 返回某点，即为寻找点的父节点\n",
    "            if pop_node.right and pop_node.right.item == item:  # 某点的右子树为寻找的点\n",
    "                return pop_node  # 返回某点，即为寻找点的父节点\n",
    "            if pop_node.left is not None:  # 添加tmp 元素 到 搜索的 queue 中, 直到while loop 遍历完\n",
    "                tmp.append(pop_node.left)\n",
    "            if pop_node.right is not None:\n",
    "                tmp.append(pop_node.right)\n",
    "        return None\n",
    "\n",
    "    def delete(self, item):\n",
    "        if self.root is None:  # 如果根为空，就什么也不做\n",
    "            return False\n",
    "\n",
    "        parent = self.get_parent(item)\n",
    "        if parent:\n",
    "            del_node = parent.left if parent.left.item == item else parent.right  # 待删除节点\n",
    "            if del_node.left is None:\n",
    "                if parent.left.item == item:\n",
    "                    parent.left = del_node.right\n",
    "                else:\n",
    "                    parent.right = del_node.right\n",
    "                del del_node\n",
    "                return True\n",
    "            elif del_node.right is None:\n",
    "                if parent.left.item == item:\n",
    "                    parent.left = del_node.left\n",
    "                else:\n",
    "                    parent.right = del_node.left\n",
    "                del del_node\n",
    "                return True\n",
    "            else:  # 左右子树都不为空\n",
    "                tmp_pre = del_node\n",
    "                tmp_next = del_node.right\n",
    "                if tmp_next.left is None:\n",
    "                    # 替代\n",
    "                    tmp_pre.right = tmp_next.right\n",
    "                    tmp_next.left = del_node.left\n",
    "                    tmp_next.right = del_node.right\n",
    "\n",
    "                else:\n",
    "                    while tmp_next.left:  # 让tmp指向右子树的最后一个叶子\n",
    "                        tmp_pre = tmp_next\n",
    "                        tmp_next = tmp_next.left\n",
    "                    # 替代\n",
    "                    tmp_pre.left = tmp_next.right\n",
    "                    tmp_next.left = del_node.left\n",
    "                    tmp_next.right = del_node.right\n",
    "                if parent.left.item == item:\n",
    "                    parent.left = tmp_next\n",
    "                else:\n",
    "                    parent.right = tmp_next\n",
    "                del del_node\n",
    "                return True\n",
    "        else:\n",
    "            return False\n",
    "        \n",
    "T = Tree()\n",
    "lroot = [4,1,2,3,5,6,8]\n",
    "for idx, val in enumerate(lroot):\n",
    "    T.add(val)"
   ]
  },
  {
   "cell_type": "code",
   "execution_count": 44,
   "id": "bb38fdf4",
   "metadata": {
    "ExecuteTime": {
     "end_time": "2021-08-31T21:30:48.838494Z",
     "start_time": "2021-08-31T21:30:48.834496Z"
    }
   },
   "outputs": [
    {
     "name": "stdout",
     "output_type": "stream",
     "text": [
      "4\n"
     ]
    }
   ],
   "source": [
    "print(T.get_parent(2))"
   ]
  },
  {
   "cell_type": "markdown",
   "id": "d668c5f8",
   "metadata": {},
   "source": [
    "## Set 底层对比的原理\n",
    "- f1,f3的哈希值是相等的，但是set并没有这么简单就判断f1,f3是重复的，而是进一步通过eq方法判断这两个值是否相等，只有相等时才会认为这两个之间实际上是同一个"
   ]
  },
  {
   "cell_type": "code",
   "execution_count": 61,
   "id": "9c330bae",
   "metadata": {
    "ExecuteTime": {
     "end_time": "2021-08-31T22:32:11.811975Z",
     "start_time": "2021-08-31T22:32:11.802457Z"
    }
   },
   "outputs": [
    {
     "name": "stdout",
     "output_type": "stream",
     "text": [
      "f1调用了哈希方法\n",
      "2265542260616\n",
      "f2调用了哈希方法\n",
      "2263468034312\n",
      "f3调用了哈希方法\n",
      "2263468034248\n",
      "{<__main__.Foo object at 0x0000020F7CD77788>, <__main__.Foo object at 0x0000020F01354908>, <__main__.Foo object at 0x0000020F013548C8>}\n",
      "f1调用了哈希方法\n",
      "f2调用了哈希方法\n",
      "f1调用了eq方法\n",
      "f3调用了哈希方法\n",
      "{<__main__.Foo object at 0x0000020F7F5EC288>, <__main__.Foo object at 0x0000020F01354F08>, <__main__.Foo object at 0x0000020F7F5B6388>}\n"
     ]
    }
   ],
   "source": [
    "class Foo:\n",
    "    def __init__(self,name,count):\n",
    "        self.name = name\n",
    "        self.count = count\n",
    "    def __hash__(self):\n",
    "        print(\"%s调用了哈希方法\"%self.name)\n",
    "        print(hash(id(self)))\n",
    "        return hash(id(self))\n",
    "    def __eq__(self, other):\n",
    "        print(\"%s调用了eq方法\")\n",
    "        if self.__dict__ == other.__dict__:\n",
    "            return True\n",
    "        else:\n",
    "            return False\n",
    "f1 = Foo('f1',1)\n",
    "f2 = Foo('f2',2)\n",
    "f3 = Foo('f3',3)\n",
    "ls = [f1,f2,f3]\n",
    "print(set(ls))\n",
    "\n",
    "class Foo:\n",
    "    def __init__(self,name,count):\n",
    "        self.name = name\n",
    "        self.count = count\n",
    "    def __hash__(self):\n",
    "        print(\"%s调用了哈希方法\"%self.name)\n",
    "        return hash(self.count) # 两个count 一致, 所以判断 eq\n",
    "    def __eq__(self, other):\n",
    "        print(\"%s调用了eq方法\"%self.name)\n",
    "        return self.__dict__ == other.__dict__\n",
    "\n",
    "f1 = Foo('f1',1)\n",
    "f2 = Foo('f2',1)\n",
    "f3 = Foo('f3',3)\n",
    "ls = [f1,f2,f3]\n",
    "print(set(ls))"
   ]
  },
  {
   "cell_type": "code",
   "execution_count": null,
   "id": "2aab14f7",
   "metadata": {},
   "outputs": [],
   "source": [
    "hash('42obje')"
   ]
  },
  {
   "cell_type": "code",
   "execution_count": 56,
   "id": "3ff66562",
   "metadata": {
    "ExecuteTime": {
     "end_time": "2021-08-31T22:30:22.207474Z",
     "start_time": "2021-08-31T22:30:22.202477Z"
    },
    "scrolled": true
   },
   "outputs": [
    {
     "data": {
      "text/plain": [
       "4536156542888812512"
      ]
     },
     "execution_count": 56,
     "metadata": {},
     "output_type": "execute_result"
    }
   ],
   "source": [
    "hash('23')"
   ]
  },
  {
   "cell_type": "code",
   "execution_count": 63,
   "id": "06e6a162",
   "metadata": {
    "ExecuteTime": {
     "end_time": "2021-08-31T22:32:23.457088Z",
     "start_time": "2021-08-31T22:32:23.451087Z"
    },
    "scrolled": true
   },
   "outputs": [
    {
     "data": {
      "text/plain": [
       "140711949187120"
      ]
     },
     "execution_count": 63,
     "metadata": {},
     "output_type": "execute_result"
    }
   ],
   "source": [
    "id(2)"
   ]
  },
  {
   "cell_type": "code",
   "execution_count": 280,
   "id": "3c00a035",
   "metadata": {
    "ExecuteTime": {
     "end_time": "2021-09-02T20:17:07.123217Z",
     "start_time": "2021-09-02T20:17:07.115215Z"
    }
   },
   "outputs": [
    {
     "name": "stdout",
     "output_type": "stream",
     "text": [
      "OrderedDict([('apple', 4), ('banana', 3), ('orange', 2), ('pear', 1)])\n",
      "OrderedDict([('apple', 4), ('banana', 3), ('orange', 2), ('pear', 1)])\n"
     ]
    }
   ],
   "source": [
    "from collections import OrderedDict\n",
    "d = {'banana': 3, 'apple': 4, 'pear': 1, 'orange': 2}\n",
    "\n",
    "# dictionary sorted by key\n",
    "print(OrderedDict(sorted(d.items(), key=lambda t: t[0])))\n",
    "print(OrderedDict([('apple', 4), ('banana', 3), ('orange', 2), ('pear', 1)]))\n",
    "dd = OrderedDict(d)\n",
    "dd['banana']"
   ]
  },
  {
   "cell_type": "code",
   "execution_count": 283,
   "id": "b9c8dae8",
   "metadata": {
    "ExecuteTime": {
     "end_time": "2021-09-02T20:17:43.454601Z",
     "start_time": "2021-09-02T20:17:43.447599Z"
    }
   },
   "outputs": [
    {
     "data": {
      "text/plain": [
       "3"
      ]
     },
     "execution_count": 283,
     "metadata": {},
     "output_type": "execute_result"
    }
   ],
   "source": [
    "dd = OrderedDict(d)\n",
    "dd['banana']"
   ]
  },
  {
   "cell_type": "code",
   "execution_count": 285,
   "id": "11a0fa7b",
   "metadata": {
    "ExecuteTime": {
     "end_time": "2021-09-02T20:19:24.408638Z",
     "start_time": "2021-09-02T20:19:24.402637Z"
    }
   },
   "outputs": [
    {
     "data": {
      "text/plain": [
       "{1, 2, 3}"
      ]
     },
     "execution_count": 285,
     "metadata": {},
     "output_type": "execute_result"
    }
   ],
   "source": [
    "set(set([1, 2, 3]))"
   ]
  },
  {
   "cell_type": "code",
   "execution_count": 290,
   "id": "fe4b167f",
   "metadata": {
    "ExecuteTime": {
     "end_time": "2021-09-02T20:21:41.719851Z",
     "start_time": "2021-09-02T20:21:41.713851Z"
    }
   },
   "outputs": [
    {
     "data": {
      "text/plain": [
       "{'pear': 1, 'orange': 2, 'banana': 3, 'apple': 4}"
      ]
     },
     "execution_count": 290,
     "metadata": {},
     "output_type": "execute_result"
    }
   ],
   "source": [
    "d = {'banana': 3, 'apple': 4, 'pear': 1, 'orange': 2}\n",
    "dict(sorted(d.items(), key=lambda t: t[1]))"
   ]
  },
  {
   "cell_type": "code",
   "execution_count": null,
   "id": "0d91291b",
   "metadata": {},
   "outputs": [],
   "source": []
  },
  {
   "cell_type": "markdown",
   "id": "2846b95c",
   "metadata": {},
   "source": [
    "## 类的使用 super 和 init 和 MRO"
   ]
  },
  {
   "cell_type": "code",
   "execution_count": 275,
   "id": "1261c753",
   "metadata": {
    "ExecuteTime": {
     "end_time": "2021-09-02T04:26:52.605450Z",
     "start_time": "2021-09-02T04:26:52.571449Z"
    }
   },
   "outputs": [
    {
     "name": "stdout",
     "output_type": "stream",
     "text": [
      "enter D\n",
      "enter B\n",
      "enter C\n",
      "enter A\n",
      "leave A\n",
      "leave C\n",
      "leave B\n",
      "leave D\n"
     ]
    },
    {
     "data": {
      "text/plain": [
       "{'A': '1', 'C': '1', 'B': '1', 'D': '1'}"
      ]
     },
     "execution_count": 275,
     "metadata": {},
     "output_type": "execute_result"
    }
   ],
   "source": [
    "\n",
    "class A():\n",
    "    def __init__(self):\n",
    "        print('enter A')\n",
    "        self.A = '1'\n",
    "        print('leave A')\n",
    "\n",
    "class A2():\n",
    "    def __init__(self):\n",
    "        print('enter A2')\n",
    "        self.A2 = '1'\n",
    "        print('leave A2')\n",
    "\n",
    "class B(A):\n",
    "    def __init__(self):\n",
    "        print('enter B')\n",
    "        super(B, self).__init__() # 如果运行了这一句, 那么会沿着 MRO 到下一个 是C, 如果没有这一句, 则MRO结束\n",
    "        self.B = '1'\n",
    "        print('leave B')\n",
    "\n",
    "\n",
    "class C(A):\n",
    "    def __init__(self):\n",
    "        print('enter C')\n",
    "        super(C, self).__init__()# MRO 当前为C的下一个的 init-> C2 ?????????????????????\n",
    "        self.C = '1'\n",
    "        print('leave C')\n",
    "\n",
    "class C2(A2):\n",
    "    def __init__(self):\n",
    "        print('enter C2')\n",
    "#         super(C, self).__init__() \n",
    "        super(C2, self).__init__()# 沿着 MRO 找C2下一个, 并且 运行 __init__() # 为什么没有C2\n",
    "        self.C2 = '1'\n",
    "        print('leave C2')\n",
    "        \n",
    "class D(B, C, C2):\n",
    "    '''会同时读取 B和C 的 self init, 然后因为B和C的父类 都是A, 所以A的 init 只会执行一次, 完成所有的类 的属性和方法继承'''\n",
    "    def __init__(self):\n",
    "        print('enter D')\n",
    "#         super().__init__() # 默认找到 第一个 B 的父类, 运行 B.__init__()\n",
    "#         super(B, self).__init__() # 为什么不运行C了\n",
    "#         super(C, self).__init__() # 为什么不运行C了\n",
    "        super(D, self).__init__() # 为什么不运行C了\n",
    "        self.D = '1'\n",
    "        print('leave D')\n",
    "\n",
    "\n",
    "d = D()\n",
    "vars(d)"
   ]
  },
  {
   "cell_type": "code",
   "execution_count": 266,
   "id": "8ba0d485",
   "metadata": {
    "ExecuteTime": {
     "end_time": "2021-09-02T04:23:15.347544Z",
     "start_time": "2021-09-02T04:23:15.338548Z"
    }
   },
   "outputs": [
    {
     "name": "stdout",
     "output_type": "stream",
     "text": [
      "song\n",
      "None\n",
      "Ahahahah\n"
     ]
    }
   ],
   "source": [
    "class Bird:\n",
    "    def __init__(self):\n",
    "        self.hungry = True\n",
    "\n",
    "    def eat(self):\n",
    "        if self.hungry:\n",
    "            print('Ahahahah')\n",
    "        else:\n",
    "            print('No thanks!')\n",
    "\n",
    "    def song(self):\n",
    "        print(\"song\")\n",
    "\n",
    "\n",
    "class SongBird(Bird2):\n",
    "    def __init__(self):\n",
    "        # 会找到 SongBird 继承的 Bird 中的 __init__ 并且将 所有的 方法和属性 重新复制过来\n",
    "        super(SongBird, self).__init__()\n",
    "#         super().__init__()  # 默认是把 自己 和 self 放进去 所以和上面一致\n",
    "        self.sound = 'Squawk'\n",
    "\n",
    "    def sing(self):\n",
    "        print(self.song())\n",
    "\n",
    "        \n",
    "class SongBird(Bird):\n",
    "    def __init__(self):\n",
    "        Bird.__init__(self)\n",
    "        self.sound = 'Squawk'\n",
    "\n",
    "    def sing(self):\n",
    "        print (self.song())\n",
    "        \n",
    "        \n",
    "sb = SongBird()\n",
    "sb.sing()    # 能正常输出\n",
    "sb.eat()     # 报错，因为 songgird 中没有 hungry 特性"
   ]
  },
  {
   "cell_type": "code",
   "execution_count": null,
   "id": "1b2ee7c1",
   "metadata": {},
   "outputs": [],
   "source": []
  },
  {
   "cell_type": "code",
   "execution_count": null,
   "id": "1ec91303",
   "metadata": {},
   "outputs": [],
   "source": []
  },
  {
   "cell_type": "code",
   "execution_count": null,
   "id": "74770301",
   "metadata": {},
   "outputs": [],
   "source": []
  },
  {
   "cell_type": "code",
   "execution_count": 265,
   "id": "1c258ed5",
   "metadata": {
    "ExecuteTime": {
     "end_time": "2021-09-02T04:22:39.577747Z",
     "start_time": "2021-09-02T04:22:39.567747Z"
    }
   },
   "outputs": [
    {
     "name": "stdout",
     "output_type": "stream",
     "text": [
      "Enter D\n",
      "<__main__.D object at 0x0000020F015FD788>\n",
      "Enter B\n",
      "<__main__.D object at 0x0000020F015FD788>\n",
      "Enter C\n",
      "<__main__.D object at 0x0000020F015FD788>\n",
      "Enter A\n",
      "<__main__.D object at 0x0000020F015FD788>\n",
      "Leave A\n",
      "Leave C\n",
      "Leave B\n",
      "Leave D\n"
     ]
    }
   ],
   "source": [
    "class A:\n",
    "    def __init__(self):\n",
    "        print(\"Enter A\")\n",
    "        print(self)\n",
    "        print(\"Leave A\")\n",
    "\n",
    "\n",
    "class B(A):\n",
    "    def __init__(self):\n",
    "        print(\"Enter B\")\n",
    "        print(self)\n",
    "        super().__init__()\n",
    "#         super(B, self).__init__()\n",
    "        print(\"Leave B\")\n",
    "\n",
    "\n",
    "class C(A):\n",
    "    def __init__(self):\n",
    "        print(\"Enter C\")\n",
    "        print(self)\n",
    "#         super(C, self).__init__()\n",
    "        super().__init__()\n",
    "        print(\"Leave C\")\n",
    "\n",
    "\n",
    "class D(B, C):\n",
    "    def __init__(self):\n",
    "        print(\"Enter D\")\n",
    "        print(self)\n",
    "        super(D, self).__init__()\n",
    "        print(\"Leave D\")\n",
    "\n",
    "\n",
    "d = D()\n"
   ]
  },
  {
   "cell_type": "code",
   "execution_count": 104,
   "id": "3ff689d7",
   "metadata": {
    "ExecuteTime": {
     "end_time": "2021-09-01T02:21:22.186091Z",
     "start_time": "2021-09-01T02:21:22.180092Z"
    }
   },
   "outputs": [
    {
     "name": "stdout",
     "output_type": "stream",
     "text": [
      "C.show()\n"
     ]
    }
   ],
   "source": [
    "class A:\n",
    "    def show(self):\n",
    "        print(\"A.show()\")\n",
    "\n",
    "class B(A):\n",
    "    pass\n",
    "\n",
    "class C(A):\n",
    "    def show(self):\n",
    "        print(\"C.show()\")\n",
    "\n",
    "class D(B, C):\n",
    "    pass\n",
    "\n",
    "x = D()\n",
    "x.show()"
   ]
  },
  {
   "cell_type": "code",
   "execution_count": null,
   "id": "1202d4c0",
   "metadata": {},
   "outputs": [],
   "source": []
  },
  {
   "cell_type": "markdown",
   "id": "0bca0fea",
   "metadata": {},
   "source": [
    "### 理解 super 和 bound 和 描述器\n",
    "- https://blog.csdn.net/zhangjg_blog/article/details/83033210"
   ]
  },
  {
   "cell_type": "code",
   "execution_count": 242,
   "id": "a3be8495",
   "metadata": {
    "ExecuteTime": {
     "end_time": "2021-09-01T04:20:10.681106Z",
     "start_time": "2021-09-01T04:20:10.674106Z"
    }
   },
   "outputs": [
    {
     "name": "stdout",
     "output_type": "stream",
     "text": [
      "NameDesc.__set__: <__main__.NameDesc object at 0x0000020F01640648> <__main__.Person object at 0x0000020F01640F08> zhang\n",
      "NameDesc.__get__: <__main__.NameDesc object at 0x0000020F01640648> <__main__.Person object at 0x0000020F01640F08> <class '__main__.Person'>\n",
      "zhang\n",
      "NameDesc.__get__: <__main__.NameDesc object at 0x0000020F01640648> None <class '__main__.Person'>\n",
      "<__main__.NameDesc object at 0x0000020F01640648>\n"
     ]
    }
   ],
   "source": [
    "class NameDesc:\n",
    "    def __get__(self, instance, cls):\n",
    "        print('NameDesc.__get__:', self, instance, cls)\n",
    "        if instance is None: #通过类访问描述器的时候，instance为None\n",
    "            return self\n",
    "        else:\n",
    "            return instance.__dict__['_name']\n",
    "\n",
    "    def __set__(self, instance, value):\n",
    "        print('NameDesc.__set__:', self, instance, value)\n",
    "        if not isinstance(value, str):\n",
    "            raise TypeError('expect str')\n",
    "        instance.__dict__['_name'] = value\n",
    "\n",
    "class Person:\n",
    "    name = NameDesc()\n",
    "\n",
    "p = Person()\n",
    "\n",
    "p.name = 'zhang' ## 运行 __set__\n",
    "print(p.name) ## 运行 __get__\n",
    "print(Person.name) ## 运行 __get__, instance 是 None, 因为这是通过类访问, 而不是 实例 访问\n",
    "\n"
   ]
  },
  {
   "cell_type": "markdown",
   "id": "0b960ede",
   "metadata": {},
   "source": [
    "### 绑定(bound)和非绑定(unbound)到底有什么区别\n",
    "- 所谓绑定，就是把调用函数的对象，绑定到函数的第一个参数上 self\n",
    "- 做一个总结，本节主要讲解了函数，描述器和绑定的概念。结论就是function是一个可以被调用(实现了__call__方法)的描述器(实现了__get__方法)对象，并且通过类获取函数对象的时候，__get__方法会返回function本身，通过实例获取函数对象的时候，__get__方法会返回一个bound method，也就是将实例绑定到这个function上。"
   ]
  },
  {
   "cell_type": "code",
   "execution_count": 244,
   "id": "460d7c25",
   "metadata": {
    "ExecuteTime": {
     "end_time": "2021-09-01T04:24:42.789183Z",
     "start_time": "2021-09-01T04:24:42.784183Z"
    }
   },
   "outputs": [
    {
     "name": "stdout",
     "output_type": "stream",
     "text": [
      "1:   <function A.test at 0x0000020F016A6048>\n",
      "2:   True\n",
      "3:   <bound method A.test of <__main__.A object at 0x0000020F016107C8>>\n"
     ]
    }
   ],
   "source": [
    "class A:\n",
    "        def test(self):\n",
    "            pass\n",
    "\n",
    "print('1:  ', A.test)\n",
    "print('2:  ', A.test is A.__dict__['test'])\n",
    "\n",
    "a = A()\n",
    "print('3:  ', a.test)"
   ]
  },
  {
   "cell_type": "code",
   "execution_count": 246,
   "id": "152c747c",
   "metadata": {
    "ExecuteTime": {
     "end_time": "2021-09-01T04:31:44.256953Z",
     "start_time": "2021-09-01T04:31:44.253951Z"
    }
   },
   "outputs": [],
   "source": [
    "class A:\n",
    "    def test(self):\n",
    "        print('*** test ***')\n",
    "        \n",
    "a = A()"
   ]
  },
  {
   "cell_type": "code",
   "execution_count": 249,
   "id": "ec49b915",
   "metadata": {
    "ExecuteTime": {
     "end_time": "2021-09-01T04:32:11.950231Z",
     "start_time": "2021-09-01T04:32:11.946232Z"
    }
   },
   "outputs": [
    {
     "name": "stdout",
     "output_type": "stream",
     "text": [
      "*** test ***\n"
     ]
    }
   ],
   "source": [
    "# A.test返回一个function对象，是一个未绑定函数，所以调用的时候要传对象(A.test(a))\n",
    "A.test(a)"
   ]
  },
  {
   "cell_type": "code",
   "execution_count": 250,
   "id": "ff467cd1",
   "metadata": {
    "ExecuteTime": {
     "end_time": "2021-09-01T04:32:28.207231Z",
     "start_time": "2021-09-01T04:32:28.203231Z"
    }
   },
   "outputs": [
    {
     "name": "stdout",
     "output_type": "stream",
     "text": [
      "*** test ***\n"
     ]
    }
   ],
   "source": [
    "# a.test返回一个bound method对象，是一个绑定函数，所以调用的时候不需要再传入对象(a.test())\n",
    "a.test()"
   ]
  },
  {
   "cell_type": "code",
   "execution_count": null,
   "id": "7f2faf89",
   "metadata": {},
   "outputs": [],
   "source": []
  },
  {
   "cell_type": "markdown",
   "id": "60f65520",
   "metadata": {},
   "source": [
    "### super"
   ]
  },
  {
   "cell_type": "code",
   "execution_count": 251,
   "id": "d48a8017",
   "metadata": {
    "ExecuteTime": {
     "end_time": "2021-09-01T04:36:19.153170Z",
     "start_time": "2021-09-01T04:36:19.149169Z"
    }
   },
   "outputs": [
    {
     "name": "stdout",
     "output_type": "stream",
     "text": [
      "A.test\n",
      "B.test\n"
     ]
    }
   ],
   "source": [
    "class A:\n",
    "    def test(self):\n",
    "        print('A.test')\n",
    "\n",
    "class B(A):\n",
    "    def test(self):\n",
    "        super().test()\n",
    "        print('B.test')\n",
    "\n",
    "b = B()\n",
    "b.test()"
   ]
  },
  {
   "cell_type": "markdown",
   "id": "b18afae4",
   "metadata": {},
   "source": [
    "- 下面的代码先创建B的对象b，然后调用b.test()，但是B的test函数通过super()，会调到第一个父类TestMixin的test函数，因为TestMixin是B的第一个父类。\n",
    "- TestMixin中的test函数中通过super调到了A中的test函数，但是A不是TestMixin的父类。在这个继承体系中，A和TestMixin都是B的父类，但是A和TestMixin没有任何继承关系。为什么TestMixin中的super会调到A中的test函数呢？"
   ]
  },
  {
   "cell_type": "code",
   "execution_count": 264,
   "id": "ef9ef839",
   "metadata": {
    "ExecuteTime": {
     "end_time": "2021-09-02T04:21:21.229469Z",
     "start_time": "2021-09-02T04:21:21.222472Z"
    }
   },
   "outputs": [
    {
     "name": "stdout",
     "output_type": "stream",
     "text": [
      "B.test\n",
      "TestMixin.test\n",
      "A.test\n",
      "为什么这里会出现A?, 为什么 TestMixin 会调用 A, 但是 A 不是 TestMixin 的父类, A 只是 B 的父类\n",
      "(<class '__main__.B'>, <class '__main__.TestMixin'>, <class '__main__.A'>, <class 'object'>)\n"
     ]
    }
   ],
   "source": [
    "class A:\n",
    "    def test(self):\n",
    "        print('A.test')\n",
    "        \n",
    "\n",
    "class TestMixin:\n",
    "    def test(self):\n",
    "        print('TestMixin.test')\n",
    "        # 这两个等价\n",
    "        super(TestMixin, self).test() \n",
    "#         super().test()\n",
    "\n",
    "class B(TestMixin, A):\n",
    "    def test(self):\n",
    "        print('B.test')\n",
    "        super(B, self).test()\n",
    "\n",
    "\n",
    "b = B()\n",
    "b.test()\n",
    "print(\"为什么这里会出现A?, 为什么 TestMixin 会调用 A, 但是 A 不是 TestMixin 的父类, A 只是 B 的父类\")\n",
    "print(B.__mro__)"
   ]
  },
  {
   "cell_type": "markdown",
   "id": "447bfc6f",
   "metadata": {},
   "source": [
    "### 自定义 super\n",
    "- 以TestMixin的super(TestMixin, self).test()为例，解释这两个参数的意义\n",
    "- 其实这两个参数很关键，第一个参数是当前调用super的类，这个参数就是为了在mro中找到下一个类，然后从这个类开始搜寻函数。第二个参数有两个作用，一是确定从哪个类获取mro列表，二是作为实例 (即 instance b)，绑定到要调用的函数上\n",
    "- 先看第二个参数，需要知道， 当从b.test()一层层的向上调时，self始终是实例b，所以不管调到哪个类中的super，self始终是b，通过这个self获取的mro永远都是B的mro。当获取到mro后，就在mro中找第一个参数TestMixin的下一个类，这里是A, 并且在A里面查找有没有目标函数，如果没有，就在A类的下一个类中找，依次类推。"
   ]
  },
  {
   "cell_type": "code",
   "execution_count": 259,
   "id": "fac4cbc9",
   "metadata": {
    "ExecuteTime": {
     "end_time": "2021-09-01T05:01:33.927606Z",
     "start_time": "2021-09-01T05:01:33.917609Z"
    }
   },
   "outputs": [],
   "source": [
    "class my_super:\n",
    "    def __init__(self, thisclass=None, target=None):\n",
    "        self._thisclass = thisclass\n",
    "        self._target = target\n",
    "\n",
    "    def _get_mro(self):\n",
    "        if issubclass(type, type(self._target)):\n",
    "            return self._target.__mro__  # 第二个参数是类型\n",
    "        else:\n",
    "            return self._target.__class__.__mro__  # 第二个参数是实例\n",
    "\n",
    "    def _get_function(self, name):\n",
    "        mro = self._get_mro()\n",
    "        if not self._thisclass in mro:\n",
    "            return None\n",
    "\n",
    "        index = mro.index(self._thisclass) + 1\n",
    "        while index < len(mro):\n",
    "            cls = mro[index]\n",
    "            if hasattr(cls, name):\n",
    "                attr = cls.__dict__[name]\n",
    "                # 不要用getattr，因为我们这里需要获取未绑定的函数\n",
    "                #如果使用getattr, 并且获取的是classmethod\n",
    "                # 会直接将cls绑定到该函数上\n",
    "                #attr = getattr(cls, name)\n",
    "                if callable(attr) or isinstance(attr, classmethod):\n",
    "                    return attr\n",
    "            index += 1\n",
    "        return None\n",
    "\n",
    "    def __getattr__(self, name):\n",
    "        func = self._get_function(name)\n",
    "        if not func is None:\n",
    "            if issubclass(type, type(self._target)):\n",
    "                return func.__get__(None, self._target)\n",
    "            else:\n",
    "                return func.__get__(self._target, None)"
   ]
  },
  {
   "cell_type": "markdown",
   "id": "3b4f07fd",
   "metadata": {},
   "source": [
    "- 和super一样，上面的my_super的__init__函数接收两个参数，一个是调用super的当前类thisclass， 第二个参数target是调用my_super的函数的第一个参数，也就是self或cls。所以这个参数可能是对象实例，也可能是类(如果在classmethod中调用my_super，第二个参数要传cls)，在my_super中要分两种情况。\n",
    "\n",
    "- my_super中的_get_mro函数，根据传入的第二个参数获取mro。如果第二个参数target是对象实例，就获取它的__class__，然后获取__class__的__mro__，如果target是类，则直接获取target的__mro__。\n",
    "\n",
    "- my_super的_get_function函数，先获取mro，然后在mro上获取位于thisclass后的目标类，并且在目标类中查找函数，参数name是要查找的函数的名字。这里要注意，如果位于thisclass后的类中没有名为name的函数，则继续在下各类中查找，所以使用了while循环\n",
    "\n",
    "- my_super的__getattr__函数，用于截获my_super对象对方法的调用，举例来说，如果my_supe调用的是test，那么这个name就是’test’。在__getattr__中，首先调用_get_function，获取目标函数，然后调用函数的描述器方法__get__，将target实例绑定，然后将绑定后的方法返回。这里也发要分target是实例还是类。如果是实例(这时调用my_super的是实例函数)，则使用function.__get__(instance, None)绑定，如果是类(这是调用my_super的是类函数)，则使用functon.__get__(None, cls)绑定。\n"
   ]
  },
  {
   "cell_type": "code",
   "execution_count": 260,
   "id": "2806bb25",
   "metadata": {
    "ExecuteTime": {
     "end_time": "2021-09-01T05:01:34.970608Z",
     "start_time": "2021-09-01T05:01:34.964606Z"
    }
   },
   "outputs": [
    {
     "name": "stdout",
     "output_type": "stream",
     "text": [
      "(<class '__main__.B'>, <class '__main__.TestMixin'>, <class '__main__.A'>, <class 'object'>)\n",
      "B.test\n",
      "TestMixin.test\n",
      "A.test\n"
     ]
    }
   ],
   "source": [
    "# from my_super import my_super\n",
    "\n",
    "\n",
    "class A:\n",
    "    def test(self):\n",
    "        print('A.test')\n",
    "\n",
    "\n",
    "class TestMixin:\n",
    "    def test(self):\n",
    "        print('TestMixin.test')\n",
    "        my_super(TestMixin, self).test()\n",
    "\n",
    "\n",
    "class B(TestMixin, A):\n",
    "    def test(self):\n",
    "        print('B.test')\n",
    "        my_super(B, self).test()\n",
    "\n",
    "\n",
    "print(B.__mro__)\n",
    "\n",
    "b = B()\n",
    "b.test()"
   ]
  },
  {
   "cell_type": "code",
   "execution_count": null,
   "id": "c7fc2b9a",
   "metadata": {},
   "outputs": [],
   "source": []
  },
  {
   "cell_type": "markdown",
   "id": "91486cfa",
   "metadata": {},
   "source": [
    "## 类 作为 data structure 链表\n",
    "- class 的方法 和属性\n",
    "- instance 的方法和属性\n",
    "    - 所有的 instance, <font color=red>会默认拥有 class 的 方法和属性, 会继承过来</font>\n",
    "    - 每一个 instance 有自己 独有的 __init__ function 带来的 属性, 和 没有写@classmethod 的方法\n"
   ]
  },
  {
   "cell_type": "code",
   "execution_count": 1,
   "id": "f8819a95",
   "metadata": {
    "ExecuteTime": {
     "end_time": "2021-09-30T05:05:27.828433Z",
     "start_time": "2021-09-30T05:05:27.807434Z"
    }
   },
   "outputs": [
    {
     "name": "stdout",
     "output_type": "stream",
     "text": [
      "space\n"
     ]
    }
   ],
   "source": [
    "class Datastructure:\n",
    "    space = 'space'\n",
    "    wall = 'wall'\n",
    "    \n",
    "    def __init__(self):\n",
    "        self.wall = 2\n",
    "        return None\n",
    "    \n",
    "    @classmethod\n",
    "    def get_wall(self):\n",
    "        return self.wall\n",
    "    \n",
    "    def get_space(self):\n",
    "        #print(space)\n",
    "        return self.space\n",
    "    \n",
    "    @classmethod\n",
    "    def get_a(self):\n",
    "        print('a')\n",
    "        \n",
    "    @staticmethod\n",
    "    def get_b():\n",
    "        print('b')\n",
    "\n",
    "# print(Datastructure.wall)\n",
    "# print(Datastructure().wall)\n",
    "# print(Datastructure().space)\n",
    "# print(Datastructure.space)\n",
    "# Datastructure.get_a()\n",
    "# Datastructure.get_b()\n",
    "# print(Datastructure.get_wall())\n",
    "print(Datastructure().get_space())\n",
    "# print(Datastructure().get_wall())\n"
   ]
  },
  {
   "cell_type": "code",
   "execution_count": null,
   "id": "12443552",
   "metadata": {},
   "outputs": [],
   "source": []
  },
  {
   "cell_type": "code",
   "execution_count": 5,
   "id": "fdc8b1cc",
   "metadata": {
    "ExecuteTime": {
     "end_time": "2021-09-30T05:07:50.196374Z",
     "start_time": "2021-09-30T05:07:50.191374Z"
    }
   },
   "outputs": [
    {
     "name": "stdout",
     "output_type": "stream",
     "text": [
      "wall\n"
     ]
    }
   ],
   "source": [
    "class Datastructure:\n",
    "    space = 'space'\n",
    "    wall = 'wall'\n",
    "    \n",
    "    @classmethod\n",
    "    def get_wall(self):\n",
    "        return self.wall\n",
    "    \n",
    "# print(Datastructure.wall)\n",
    "# print(Datastructure().wall)\n",
    "# print(Datastructure().space)\n",
    "# print(Datastructure.space)\n",
    "# Datastructure.get_a()\n",
    "# Datastructure.get_b()\n",
    "# print(Datastructure.get_wall())\n",
    "print(Datastructure.get_wall())\n",
    "# print(Datastructure().get_wall())"
   ]
  },
  {
   "cell_type": "code",
   "execution_count": null,
   "id": "29b40ff8",
   "metadata": {},
   "outputs": [],
   "source": []
  },
  {
   "cell_type": "code",
   "execution_count": null,
   "id": "ec5aaea8",
   "metadata": {},
   "outputs": [],
   "source": []
  },
  {
   "cell_type": "code",
   "execution_count": null,
   "id": "8d81783b",
   "metadata": {},
   "outputs": [],
   "source": []
  },
  {
   "cell_type": "code",
   "execution_count": null,
   "id": "b6984b25",
   "metadata": {},
   "outputs": [],
   "source": []
  },
  {
   "cell_type": "markdown",
   "id": "5f2d09bd",
   "metadata": {
    "ExecuteTime": {
     "end_time": "2021-09-01T03:08:26.212634Z",
     "start_time": "2021-09-01T03:08:26.205633Z"
    }
   },
   "source": [
    "\n",
    "## matrix comprehension"
   ]
  },
  {
   "cell_type": "code",
   "execution_count": 11,
   "id": "23c0b133",
   "metadata": {
    "ExecuteTime": {
     "end_time": "2021-09-30T05:12:05.240408Z",
     "start_time": "2021-09-30T05:12:05.232405Z"
    }
   },
   "outputs": [
    {
     "data": {
      "text/plain": [
       "[[False, False, False, False, False],\n",
       " [False, False, False, False, False],\n",
       " [False, False, False, False, False],\n",
       " [False, False, False, False, False]]"
      ]
     },
     "execution_count": 11,
     "metadata": {},
     "output_type": "execute_result"
    }
   ],
   "source": [
    "n = list(range(1, 5))\n",
    "m = list(range(1, 5))\n",
    "mat = [[j*i for i in n] for j in m]\n",
    "mat = [[False for _ in n] for _ in m]\n",
    "mat = [[False]*5 for _ in m]\n",
    "mat"
   ]
  },
  {
   "cell_type": "code",
   "execution_count": 15,
   "id": "4904ae6a",
   "metadata": {
    "ExecuteTime": {
     "end_time": "2021-09-30T05:12:41.514179Z",
     "start_time": "2021-09-30T05:12:41.508184Z"
    }
   },
   "outputs": [
    {
     "data": {
      "text/plain": [
       "[[False, False, False, False, False],\n",
       " [False, False, False, False, False],\n",
       " [False, False, False, False, False],\n",
       " [False, False, False, False, False],\n",
       " [False, False, False, False, False]]"
      ]
     },
     "execution_count": 15,
     "metadata": {},
     "output_type": "execute_result"
    }
   ],
   "source": [
    "m, n = 5, 5\n",
    "m = n = 5\n",
    "[[False]*n for _ in range(m)]"
   ]
  },
  {
   "cell_type": "code",
   "execution_count": 17,
   "id": "80349477",
   "metadata": {
    "ExecuteTime": {
     "end_time": "2021-09-30T05:13:00.491968Z",
     "start_time": "2021-09-30T05:13:00.487967Z"
    }
   },
   "outputs": [
    {
     "data": {
      "text/plain": [
       "True"
      ]
     },
     "execution_count": 17,
     "metadata": {},
     "output_type": "execute_result"
    }
   ],
   "source": [
    "[[j*i for i in n] for j in m]\n",
    "\n",
    "for j in m:\n",
    "    for i in n:\n",
    "        j*i"
   ]
  },
  {
   "cell_type": "code",
   "execution_count": null,
   "id": "2677fc2d",
   "metadata": {},
   "outputs": [],
   "source": []
  },
  {
   "cell_type": "code",
   "execution_count": null,
   "id": "fee726a1",
   "metadata": {},
   "outputs": [],
   "source": []
  },
  {
   "cell_type": "code",
   "execution_count": 196,
   "id": "15bee9b2",
   "metadata": {
    "ExecuteTime": {
     "end_time": "2021-09-01T03:12:58.232543Z",
     "start_time": "2021-09-01T03:12:58.226543Z"
    }
   },
   "outputs": [
    {
     "data": {
      "text/plain": [
       "[[4], [8], [12], [16]]"
      ]
     },
     "execution_count": 196,
     "metadata": {},
     "output_type": "execute_result"
    }
   ],
   "source": [
    "def get_col(col_idx, mat):\n",
    "    return [[row[col_idx]] for row in mat]\n",
    "def get_row(row_idx, mat):\n",
    "    return mat[row_idx]\n",
    "\n",
    "get_col(3, mat)\n",
    "# get_row(0, mat)"
   ]
  },
  {
   "cell_type": "code",
   "execution_count": null,
   "id": "9f4353a7",
   "metadata": {},
   "outputs": [],
   "source": []
  },
  {
   "cell_type": "markdown",
   "id": "c598389b",
   "metadata": {},
   "source": [
    "## int16 vs int32"
   ]
  },
  {
   "cell_type": "code",
   "execution_count": 41,
   "id": "7da13a71",
   "metadata": {
    "ExecuteTime": {
     "end_time": "2021-09-10T15:41:47.305546Z",
     "start_time": "2021-09-10T15:41:47.299547Z"
    }
   },
   "outputs": [
    {
     "name": "stdout",
     "output_type": "stream",
     "text": [
      "a:  2**15-1 = 32767\n",
      "    np.int16(a)  :  32767\n",
      "    np.int16(a)  :  32767\n",
      "    np.int32(a)  :  32767\n"
     ]
    }
   ],
   "source": [
    "a_str = \"2**15-1\"\n",
    "a = eval(a_str)\n",
    "print(\"a: \", a_str, '=', a)    \n",
    "print(\"    np.int16(a)  : \", np.int16(a))\n",
    "print(\"    np.int16(a)  : \", np.int16(a))\n",
    "print(\"    np.int32(a)  : \", np.int32(a))"
   ]
  },
  {
   "cell_type": "code",
   "execution_count": 91,
   "id": "5cdee78a",
   "metadata": {
    "ExecuteTime": {
     "end_time": "2021-09-10T16:06:49.320124Z",
     "start_time": "2021-09-10T16:06:49.300583Z"
    }
   },
   "outputs": [
    {
     "name": "stdout",
     "output_type": "stream",
     "text": [
      "a:  -2**15-1 = -32769\n",
      "    np.int16(a)  :  32767\n",
      "    np.int16(a)  :  32767\n",
      "    np.int32(a)  :  -32769\n",
      "bin(a):   -0b1000000000000001\n",
      "a:  -2**15 = -32768\n",
      "    np.int16(a)  :  -32768\n",
      "    np.int16(a)  :  -32768\n",
      "    np.int32(a)  :  -32768\n",
      "bin(a):   -0b1000000000000000\n",
      "a:  2**15+1 = 32769\n",
      "    np.int16(a)  :  -32767\n",
      "    np.int16(a)  :  -32767\n",
      "    np.int32(a)  :  32769\n",
      "bin(a):   0b1000000000000001\n",
      "a:  2**15 = 32768\n",
      "    np.int16(a)  :  -32768\n",
      "    np.int16(a)  :  -32768\n",
      "    np.int32(a)  :  32768\n",
      "bin(a):   0b1000000000000000\n",
      "a:  2**15-1 = 32767\n",
      "    np.int16(a)  :  32767\n",
      "    np.int16(a)  :  32767\n",
      "    np.int32(a)  :  32767\n",
      "bin(a):   0b111111111111111\n",
      "a:  -1 = -1\n",
      "    np.int16(a)  :  -1\n",
      "    np.int16(a)  :  -1\n",
      "    np.int32(a)  :  -1\n",
      "bin(a):   -0b1\n",
      "a:  1 = 1\n",
      "    np.int16(a)  :  1\n",
      "    np.int16(a)  :  1\n",
      "    np.int32(a)  :  1\n",
      "bin(a):   0b1\n",
      "a:  3 = 3\n",
      "    np.int16(a)  :  3\n",
      "    np.int16(a)  :  3\n",
      "    np.int32(a)  :  3\n",
      "bin(a):   0b11\n"
     ]
    }
   ],
   "source": [
    "a_str = \"-2**15-1\"\n",
    "a = eval(a_str)\n",
    "print(\"a: \", a_str, '=', a)    \n",
    "print(\"    np.int16(a)  : \", np.int16(a))\n",
    "print(\"    np.int16(a)  : \", np.int16(a))\n",
    "print(\"    np.int32(a)  : \", np.int32(a))\n",
    "print(\"bin(a):  \", bin(a))\n",
    "\n",
    "a_str = \"-2**15\"\n",
    "a = eval(a_str)\n",
    "print(\"a: \", a_str, '=', a)    \n",
    "print(\"    np.int16(a)  : \", np.int16(a))\n",
    "print(\"    np.int16(a)  : \", np.int16(a))\n",
    "print(\"    np.int32(a)  : \", np.int32(a))\n",
    "print(\"bin(a):  \", bin(a))\n",
    "\n",
    "a_str = \"2**15+1\"\n",
    "a = eval(a_str)\n",
    "print(\"a: \", a_str, '=', a)    \n",
    "print(\"    np.int16(a)  : \", np.int16(a))\n",
    "print(\"    np.int16(a)  : \", np.int16(a))\n",
    "print(\"    np.int32(a)  : \", np.int32(a))\n",
    "print(\"bin(a):  \", bin(a))\n",
    "\n",
    "a_str = \"2**15\"\n",
    "a = eval(a_str)\n",
    "print(\"a: \", a_str, '=', a)    \n",
    "print(\"    np.int16(a)  : \", np.int16(a))\n",
    "print(\"    np.int16(a)  : \", np.int16(a))\n",
    "print(\"    np.int32(a)  : \", np.int32(a))\n",
    "print(\"bin(a):  \", bin(a))\n",
    "\n",
    "a_str = \"2**15-1\"\n",
    "a = eval(a_str)\n",
    "print(\"a: \", a_str, '=', a)    \n",
    "print(\"    np.int16(a)  : \", np.int16(a))\n",
    "print(\"    np.int16(a)  : \", np.int16(a))\n",
    "print(\"    np.int32(a)  : \", np.int32(a))\n",
    "print(\"bin(a):  \", bin(a))\n",
    "\n",
    "\n",
    "a_str = \"-1\"\n",
    "a = eval(a_str)\n",
    "print(\"a: \", a_str, '=', a)    \n",
    "print(\"    np.int16(a)  : \", np.int16(a))\n",
    "print(\"    np.int16(a)  : \", np.int16(a))\n",
    "print(\"    np.int32(a)  : \", np.int32(a))\n",
    "print(\"bin(a):  \", bin(a))\n",
    "\n",
    "\n",
    "a_str = \"1\"\n",
    "a = eval(a_str)\n",
    "print(\"a: \", a_str, '=', a)    \n",
    "print(\"    np.int16(a)  : \", np.int16(a))\n",
    "print(\"    np.int16(a)  : \", np.int16(a))\n",
    "print(\"    np.int32(a)  : \", np.int32(a))\n",
    "print(\"bin(a):  \", bin(a))\n",
    "\n",
    "a_str = \"3\"\n",
    "a = eval(a_str)\n",
    "print(\"a: \", a_str, '=', a)    \n",
    "print(\"    np.int16(a)  : \", np.int16(a))\n",
    "print(\"    np.int16(a)  : \", np.int16(a))\n",
    "print(\"    np.int32(a)  : \", np.int32(a))\n",
    "print(\"bin(a):  \", bin(a))"
   ]
  },
  {
   "cell_type": "code",
   "execution_count": null,
   "id": "fd38eb61",
   "metadata": {},
   "outputs": [],
   "source": []
  },
  {
   "cell_type": "markdown",
   "id": "5b94856b",
   "metadata": {},
   "source": [
    "## *args 和 **kargs  怎么用"
   ]
  },
  {
   "cell_type": "code",
   "execution_count": null,
   "id": "0ea910b0",
   "metadata": {},
   "outputs": [],
   "source": [
    "def f(a,b,*args, **kargs):\n",
    "    print(a)\n",
    "    print(args)\n",
    "    print(kargs)\n",
    "    \n",
    "d = [123]\n",
    "f(1,2,3,4,5, d=d, e=[234])\n",
    "dict(d=d)d"
   ]
  },
  {
   "cell_type": "code",
   "execution_count": null,
   "id": "73e6a199",
   "metadata": {},
   "outputs": [],
   "source": []
  },
  {
   "cell_type": "markdown",
   "id": "3ac619aa",
   "metadata": {},
   "source": [
    "## Len magic build in function "
   ]
  },
  {
   "cell_type": "code",
   "execution_count": 34,
   "id": "3f0001e4",
   "metadata": {
    "ExecuteTime": {
     "end_time": "2021-09-25T03:47:07.182816Z",
     "start_time": "2021-09-25T03:47:07.177811Z"
    }
   },
   "outputs": [],
   "source": [
    "class A:\n",
    "    def __init__(self, size):\n",
    "        self.size = size\n",
    "        \n",
    "    def __len__(self):\n",
    "        print(\"This is run by len magic method? 222\" )\n",
    "        return self.size"
   ]
  },
  {
   "cell_type": "code",
   "execution_count": 35,
   "id": "aac8bf95",
   "metadata": {
    "ExecuteTime": {
     "end_time": "2021-09-25T03:47:07.339812Z",
     "start_time": "2021-09-25T03:47:07.335809Z"
    }
   },
   "outputs": [
    {
     "name": "stdout",
     "output_type": "stream",
     "text": [
      "This is run by len magic method? 222\n"
     ]
    },
    {
     "data": {
      "text/plain": [
       "4"
      ]
     },
     "execution_count": 35,
     "metadata": {},
     "output_type": "execute_result"
    }
   ],
   "source": [
    "a = A(4)\n",
    "a.__len__()"
   ]
  },
  {
   "cell_type": "code",
   "execution_count": 36,
   "id": "c486aeb4",
   "metadata": {
    "ExecuteTime": {
     "end_time": "2021-09-25T03:47:07.448810Z",
     "start_time": "2021-09-25T03:47:07.443810Z"
    }
   },
   "outputs": [
    {
     "name": "stdout",
     "output_type": "stream",
     "text": [
      "build in magic override\n",
      "This is run by len magic method? 222\n"
     ]
    },
    {
     "data": {
      "text/plain": [
       "4"
      ]
     },
     "execution_count": 36,
     "metadata": {},
     "output_type": "execute_result"
    }
   ],
   "source": [
    "def len(x):\n",
    "    print(\"build in magic override\")\n",
    "    return x.__len__()\n",
    "\n",
    "len(a)"
   ]
  },
  {
   "cell_type": "markdown",
   "id": "ed113b67",
   "metadata": {},
   "source": [
    "## Soft vs Deep copy\n",
    "- 每一个key 重新new一遍, 然后内容进行 copy\n",
    "- soft copy 不会 copy 对应的value, 只会copy key"
   ]
  },
  {
   "cell_type": "code",
   "execution_count": 55,
   "id": "91a1677f",
   "metadata": {
    "ExecuteTime": {
     "end_time": "2021-09-25T04:03:00.600646Z",
     "start_time": "2021-09-25T04:03:00.596646Z"
    }
   },
   "outputs": [],
   "source": [
    "import copy"
   ]
  },
  {
   "cell_type": "code",
   "execution_count": 69,
   "id": "d45cda6a",
   "metadata": {
    "ExecuteTime": {
     "end_time": "2021-09-25T04:07:18.950368Z",
     "start_time": "2021-09-25T04:07:18.945368Z"
    }
   },
   "outputs": [
    {
     "name": "stdout",
     "output_type": "stream",
     "text": [
      "{1: 1, 2: 2, 3: 3}\n",
      "{1: 1, 2: 2, 3: 3}\n",
      "{1: 11, 2: 2, 3: 3}\n",
      "{1: 1, 2: 2, 3: 3}\n"
     ]
    }
   ],
   "source": [
    "a = [1,2,3]\n",
    "a = dict(zip(a,a))\n",
    "\n",
    "# soft copy\n",
    "# b = a\n",
    "\n",
    "# hard copy\n",
    "b = a.copy() \n",
    "# b = copy.copy(a) # shallow copy\n",
    "# b = copy.deepcopy(a)\n",
    "print(a)\n",
    "print(b)\n",
    "\n",
    "a[1] = 11\n",
    "print(a)\n",
    "print(b) # 对应的 b也会被改变\n"
   ]
  },
  {
   "cell_type": "code",
   "execution_count": 68,
   "id": "2ecb737d",
   "metadata": {
    "ExecuteTime": {
     "end_time": "2021-09-25T04:07:10.165716Z",
     "start_time": "2021-09-25T04:07:10.160718Z"
    }
   },
   "outputs": [
    {
     "name": "stdout",
     "output_type": "stream",
     "text": [
      "{1: 1, 2: 2, 3: 3}\n",
      "{1: 1, 2: 2, 3: 3}\n",
      "{1: 11, 2: 2, 3: 3}\n",
      "{1: 11, 2: 2, 3: 3}\n"
     ]
    }
   ],
   "source": [
    "a = [1,2,3]\n",
    "a = dict(zip(a,a))\n",
    "\n",
    "# soft copy\n",
    "b = a\n",
    "\n",
    "# hard copy\n",
    "# b = a.copy() \n",
    "# b = copy.copy(a) # shallow copy\n",
    "# b = copy.deepcopy(a)\n",
    "print(a)\n",
    "print(b)\n",
    "\n",
    "a[1] = 11\n",
    "print(a)\n",
    "print(b) # 对应的 b也会被改变\n"
   ]
  },
  {
   "cell_type": "markdown",
   "id": "5277bc7f",
   "metadata": {},
   "source": [
    "## 9 Code structure\n",
    "- 将函数分开, 不需要注释 就能看懂 = 好程序"
   ]
  },
  {
   "cell_type": "code",
   "execution_count": 89,
   "id": "08cfe363",
   "metadata": {
    "ExecuteTime": {
     "end_time": "2021-09-25T04:26:04.600509Z",
     "start_time": "2021-09-25T04:26:04.590512Z"
    }
   },
   "outputs": [
    {
     "name": "stdout",
     "output_type": "stream",
     "text": [
      "This is the bridge with size:  5\n",
      "It contains: \n",
      "{0: '', 1: 'elephant', 2: 'apple', 3: '', 4: ''}\n"
     ]
    }
   ],
   "source": [
    "class codeStructure():\n",
    "    def __init__(self, size):\n",
    "        self.bridge_size = size\n",
    "        self.bridge_state = False\n",
    "        self.bridge_contains = {i: '' for i in range(size)}\n",
    "\n",
    "    def openBridge(self):\n",
    "        self.bridge_state = True\n",
    "\n",
    "    def putIn(self, key, item):\n",
    "        if self.bridge_state == True and self.bridge_contains[key] == '':\n",
    "            self.bridge_contains[key] = item\n",
    "        elif self.bridge_state == False:\n",
    "            print(\"bridge is not open\")\n",
    "        else:\n",
    "            print(\"The place is full for the key: \", key)\n",
    "        return None\n",
    "    \n",
    "    def closeBridge(self):\n",
    "        self.bridge_state = False\n",
    "        \n",
    "    def __str__(self):\n",
    "        print('This is the bridge with size: ', self.bridge_size)\n",
    "        print('It contains: ')\n",
    "        return str(self.bridge_contains)\n",
    "\n",
    "    def __repr__(self):\n",
    "        return self.__str__()\n",
    "    \n",
    "    def __getitem__(self, i):\n",
    "        return self.bridge_contains[i]\n",
    "        \n",
    "        \n",
    "def my_main_task():\n",
    "    mybridge = codeStructure(size=5)\n",
    "    mybridge.openBridge()\n",
    "    mybridge.putIn(1, 'elephant')\n",
    "    mybridge.putIn(2, 'apple')\n",
    "    mybridge.closeBridge()\n",
    "    return mybridge\n",
    "\n",
    "mybridge = my_main_task()\n",
    "print(mybridge)"
   ]
  },
  {
   "cell_type": "code",
   "execution_count": 90,
   "id": "9dac342f",
   "metadata": {
    "ExecuteTime": {
     "end_time": "2021-09-25T04:26:22.933099Z",
     "start_time": "2021-09-25T04:26:22.929099Z"
    }
   },
   "outputs": [
    {
     "data": {
      "text/plain": [
       "'elephant'"
      ]
     },
     "execution_count": 90,
     "metadata": {},
     "output_type": "execute_result"
    }
   ],
   "source": [
    "mybridge[1]"
   ]
  },
  {
   "cell_type": "markdown",
   "id": "f050c5fc",
   "metadata": {},
   "source": [
    "### samples of code structure"
   ]
  },
  {
   "cell_type": "code",
   "execution_count": null,
   "id": "5d416d30",
   "metadata": {},
   "outputs": [],
   "source": [
    "class Solution:\n",
    "    \"\"\"\n",
    "    @param nums: an array of integers\n",
    "    @param s: An integer\n",
    "    @return: an integer representing the minimum size of subarray\n",
    "    @start end: 指的是原数组的下标\n",
    "    @left right: 指的是 prefix_sum 的下标\n",
    "    \"\"\"\n",
    "\n",
    "    def minimumSize(self, nums, s):\n",
    "        # write your code here\n",
    "        min_len = float('inf')\n",
    "        n = len(nums)\n",
    "        prefix_sum = self.prefixSum(nums)\n",
    "        if s > prefix_sum[-1]:\n",
    "            return -1\n",
    "\n",
    "        for start in range(n): # O(N)\n",
    "            # 可行解分组\n",
    "            # end = left most or start\n",
    "            end = self.getEndOfSubarray(start, s, prefix_sum)\n",
    "            if prefix_sum[end+1] - prefix_sum[start] >= s:   # end+1 减去 start 才是 原数组的下标\n",
    "                min_len = min(end + 1 - start, min_len)\n",
    "\n",
    "        if min_len == float('inf'):\n",
    "            return -1\n",
    "\n",
    "        return min_len\n",
    "\n",
    "    def prefixSum(self, nums):\n",
    "        prefix_sum = [0]\n",
    "        for i in nums:\n",
    "            prefix_sum.append(prefix_sum[-1]+i)\n",
    "        return prefix_sum\n",
    "\n",
    "    def getEndOfSubarray(self, start, s, prefix_sum): # O(logN)\n",
    "        # start 一直没改变, 改变的是 left 和 right 两个指针\n",
    "        # 这个二分法 考虑的是从 start 到 left 和 right 的东西, 是个双指针, 而不是单纯的 通过 left 和 right 两个指针定位. \n",
    "        \n",
    "\n",
    "        left = start\n",
    "        # 这个指针为什么要减2? 他减去2 确实就是原来的数组 index. 0~length-1\n",
    "        right = len(prefix_sum) - 2\n",
    "\n",
    "        while (left + 1 < right):\n",
    "            \n",
    "            # 这样写更好理解 , 因为是 从 left 开始, 然后加上 right-left 的中点.\n",
    "            mid = left + int((right - left)/2) # 这里应该无所谓考虑 Int 上下限\n",
    "    #         mid = int((right+ left)/2) # 如果直接写成  int((right + left)/2), 那要想清楚他们求和 的东西是什么, 是overlap 的东西\n",
    "            # 左侧的数字求和 比 s 要大, 则 缩小搜索范围, right = mid\n",
    "            if prefix_sum[mid+1] - prefix_sum[start] >= s:\n",
    "                right = mid  # 更新 right 为 end\n",
    "            else:  # 右侧, 则需要 增大搜索范围 update left 的点, 从而右移 update mid 的坐标.\n",
    "                left = mid\n",
    "    #         print(left,'--' ,right)\n",
    "\n",
    "    #     # 如果这个得不到满足,意味着 left 从来没被更新过 那自然 只能return left\n",
    "        if prefix_sum[left+1] - prefix_sum[start] >= s:\n",
    "            return left\n",
    "        return right\n",
    "\n",
    "#         if left == start:\n",
    "#             left = right\n",
    "#         return left\n",
    "\n",
    "\n",
    "Solution().minimumSize(nums, s)"
   ]
  },
  {
   "cell_type": "markdown",
   "id": "62eec9b2",
   "metadata": {},
   "source": [
    "## Heapq\n",
    "- https://github.com/python/cpython/blob/main/Lib/heapq.py"
   ]
  },
  {
   "cell_type": "code",
   "execution_count": 73,
   "id": "625d51d2",
   "metadata": {
    "ExecuteTime": {
     "end_time": "2021-09-30T21:08:39.397074Z",
     "start_time": "2021-09-30T21:08:39.387071Z"
    }
   },
   "outputs": [],
   "source": [
    "__all__ = ['heappush', 'heappop', 'heapify', 'heapreplace', 'merge',\n",
    "           'nlargest', 'nsmallest', 'heappushpop']\n",
    "\n",
    "def heappush(heap, item):\n",
    "    \"\"\"Push item onto heap, maintaining the heap invariant.\"\"\"\n",
    "    heap.append(item)\n",
    "    _siftdown(heap, 0, len(heap)-1)\n",
    "\n",
    "def heappop(heap):\n",
    "    \"\"\"Pop the smallest item off the heap, maintaining the heap invariant.\"\"\"\n",
    "    lastelt = heap.pop()    # raises appropriate IndexError if heap is empty\n",
    "    if heap:\n",
    "        returnitem = heap[0]\n",
    "        heap[0] = lastelt\n",
    "        _siftup(heap, 0)\n",
    "        return returnitem\n",
    "    return lastelt\n",
    "\n",
    "def heapreplace(heap, item):\n",
    "    \"\"\"Pop and return the current smallest value, and add the new item.\n",
    "    This is more efficient than heappop() followed by heappush(), and can be\n",
    "    more appropriate when using a fixed-size heap.  Note that the value\n",
    "    returned may be larger than item!  That constrains reasonable uses of\n",
    "    this routine unless written as part of a conditional replacement:\n",
    "        if item > heap[0]:\n",
    "            item = heapreplace(heap, item)\n",
    "    \"\"\"\n",
    "    returnitem = heap[0]    # raises appropriate IndexError if heap is empty\n",
    "    heap[0] = item\n",
    "    _siftup(heap, 0)\n",
    "    return returnitem\n",
    "\n",
    "def heappushpop(heap, item):\n",
    "    \"\"\"Fast version of a heappush followed by a heappop.\"\"\"\n",
    "    if heap and heap[0] < item:\n",
    "        item, heap[0] = heap[0], item\n",
    "        _siftup(heap, 0)\n",
    "    return item\n",
    "\n",
    "def heapify(x):\n",
    "    \"\"\"Transform list into a heap, in-place, in O(len(x)) time.\"\"\"\n",
    "    n = len(x)\n",
    "    # Transform bottom-up.  The largest index there's any point to looking at\n",
    "    # is the largest with a child index in-range, so must have 2*i + 1 < n,\n",
    "    # or i < (n-1)/2.  If n is even = 2*j, this is (2*j-1)/2 = j-1/2 so\n",
    "    # j-1 is the largest, which is n//2 - 1.  If n is odd = 2*j+1, this is\n",
    "    # (2*j+1-1)/2 = j so j-1 is the largest, and that's again n//2-1.\n",
    "    for i in reversed(range(n//2)):\n",
    "        _siftup(x, i)\n",
    "\n",
    "def _heappop_max(heap):\n",
    "    \"\"\"Maxheap version of a heappop.\"\"\"\n",
    "    lastelt = heap.pop()    # raises appropriate IndexError if heap is empty\n",
    "    if heap:\n",
    "        returnitem = heap[0]\n",
    "        heap[0] = lastelt\n",
    "        _siftup_max(heap, 0)\n",
    "        return returnitem\n",
    "    return lastelt\n",
    "\n",
    "def _heapreplace_max(heap, item):\n",
    "    \"\"\"Maxheap version of a heappop followed by a heappush.\"\"\"\n",
    "    returnitem = heap[0]    # raises appropriate IndexError if heap is empty\n",
    "    heap[0] = item\n",
    "    _siftup_max(heap, 0)\n",
    "    return returnitem\n",
    "\n",
    "def _heapify_max(x):\n",
    "    \"\"\"Transform list into a maxheap, in-place, in O(len(x)) time.\"\"\"\n",
    "    n = len(x)\n",
    "    for i in reversed(range(n//2)):\n",
    "        _siftup_max(x, i)\n",
    "\n",
    "# 'heap' is a heap at all indices >= startpos, except possibly for pos.  pos\n",
    "# is the index of a leaf with a possibly out-of-order value.  Restore the\n",
    "# heap invariant.\n",
    "def _siftdown(heap, startpos, pos):\n",
    "    newitem = heap[pos]\n",
    "    # Follow the path to the root, moving parents down until finding a place\n",
    "    # newitem fits.\n",
    "    while pos > startpos:\n",
    "        parentpos = (pos - 1) >> 1\n",
    "        parent = heap[parentpos]\n",
    "        if newitem < parent:\n",
    "            heap[pos] = parent\n",
    "            pos = parentpos\n",
    "            continue\n",
    "        break\n",
    "    heap[pos] = newitem\n",
    "\n",
    "    \n",
    "def _siftup(heap, pos):\n",
    "    endpos = len(heap)\n",
    "    startpos = pos\n",
    "    newitem = heap[pos]\n",
    "    # Bubble up the smaller child until hitting a leaf.\n",
    "    childpos = 2*pos + 1    # leftmost child position\n",
    "    while childpos < endpos:\n",
    "        # Set childpos to index of smaller child.\n",
    "        rightpos = childpos + 1\n",
    "        if rightpos < endpos and not heap[childpos] < heap[rightpos]:\n",
    "            childpos = rightpos\n",
    "        # Move the smaller child up.\n",
    "        heap[pos] = heap[childpos]\n",
    "        pos = childpos\n",
    "        childpos = 2*pos + 1\n",
    "    # The leaf at pos is empty now.  Put newitem there, and bubble it up\n",
    "    # to its final resting place (by sifting its parents down).\n",
    "    heap[pos] = newitem\n",
    "    _siftdown(heap, startpos, pos)\n",
    "\n",
    "def _siftdown_max(heap, startpos, pos):\n",
    "    'Maxheap variant of _siftdown'\n",
    "    newitem = heap[pos]\n",
    "    # Follow the path to the root, moving parents down until finding a place\n",
    "    # newitem fits.\n",
    "    while pos > startpos:\n",
    "        parentpos = (pos - 1) >> 1\n",
    "        parent = heap[parentpos]\n",
    "        if parent < newitem:\n",
    "            heap[pos] = parent\n",
    "            pos = parentpos\n",
    "            continue\n",
    "        break\n",
    "    heap[pos] = newitem\n",
    "\n",
    "def _siftup_max(heap, pos):\n",
    "    'Maxheap variant of _siftup'\n",
    "    endpos = len(heap)\n",
    "    startpos = pos\n",
    "    newitem = heap[pos]\n",
    "    # Bubble up the larger child until hitting a leaf.\n",
    "    childpos = 2*pos + 1    # leftmost child position\n",
    "    while childpos < endpos:\n",
    "        # Set childpos to index of larger child.\n",
    "        rightpos = childpos + 1\n",
    "        if rightpos < endpos and not heap[rightpos] < heap[childpos]:\n",
    "            childpos = rightpos\n",
    "        # Move the larger child up.\n",
    "        heap[pos] = heap[childpos]\n",
    "        pos = childpos\n",
    "        childpos = 2*pos + 1\n",
    "    # The leaf at pos is empty now.  Put newitem there, and bubble it up\n",
    "    # to its final resting place (by sifting its parents down).\n",
    "    heap[pos] = newitem\n",
    "    _siftdown_max(heap, startpos, pos)\n"
   ]
  },
  {
   "cell_type": "code",
   "execution_count": 18,
   "id": "45fa9631",
   "metadata": {
    "ExecuteTime": {
     "end_time": "2021-09-30T19:18:23.986943Z",
     "start_time": "2021-09-30T19:18:23.974944Z"
    }
   },
   "outputs": [
    {
     "name": "stdout",
     "output_type": "stream",
     "text": [
      "The popped item using heappushpop() is : 2\n",
      "The popped item using heapreplace() is : 3\n"
     ]
    }
   ],
   "source": [
    "# Python code to demonstrate working of\n",
    "# heappushpop() and heapreplce()\n",
    "# importing \"heapq\" to implement heap queue\n",
    "\n",
    "# initializing list 1\n",
    "li1 = [5, 7, 9, 4, 3]\n",
    "# initializing list 2\n",
    "li2 = [5, 7, 9, 4, 3]\n",
    "# using heapify() to convert list into heap\n",
    "heapq.heapify(li1)\n",
    "heapq.heapify(li2)\n",
    "\n",
    "# using heappushpop() to push and pop items simultaneously\n",
    "# pops 2\n",
    "print(\"The popped item using heappushpop() is : \", end=\"\")\n",
    "print(heapq.heappushpop(li1, 2))\n",
    "\n",
    "# using heapreplace() to push and pop items simultaneously\n",
    "# pops 3\n",
    "print(\"The popped item using heapreplace() is : \", end=\"\")\n",
    "print(heapq.heapreplace(li2, 2))"
   ]
  },
  {
   "cell_type": "code",
   "execution_count": null,
   "id": "7c87264d",
   "metadata": {},
   "outputs": [],
   "source": []
  },
  {
   "cell_type": "code",
   "execution_count": null,
   "id": "6b5f0487",
   "metadata": {},
   "outputs": [],
   "source": []
  },
  {
   "cell_type": "code",
   "execution_count": 69,
   "id": "029f1698",
   "metadata": {
    "ExecuteTime": {
     "end_time": "2021-09-30T20:57:32.482452Z",
     "start_time": "2021-09-30T20:57:32.479450Z"
    }
   },
   "outputs": [],
   "source": [
    "import heapq\n",
    "li1 = [5, 7, 9, 4, 3]\n",
    "heapq.heapify(li1)"
   ]
  },
  {
   "cell_type": "markdown",
   "id": "bf12a722",
   "metadata": {},
   "source": [
    "### Heap push pop"
   ]
  },
  {
   "cell_type": "code",
   "execution_count": 19,
   "id": "36934c11",
   "metadata": {
    "ExecuteTime": {
     "end_time": "2021-09-30T19:18:25.269967Z",
     "start_time": "2021-09-30T19:18:25.263965Z"
    }
   },
   "outputs": [
    {
     "name": "stdout",
     "output_type": "stream",
     "text": [
      "The created heap is : [1, 3, 9, 7, 5]\n",
      "The modified heap after push is : [1, 3, 4, 7, 5, 9]\n",
      "The popped and smallest element is : 1\n"
     ]
    }
   ],
   "source": [
    "# Python code to demonstrate working of\n",
    "# heapify(), heappush() and heappop()\n",
    "\n",
    "# importing \"heapq\" to implement heap queue\n",
    "import heapq\n",
    "\n",
    "# initializing list\n",
    "li = [5, 7, 9, 1, 3]\n",
    "\n",
    "# using heapify to convert list into heap\n",
    "heapq.heapify(li)\n",
    "\n",
    "# printing created heap\n",
    "print (\"The created heap is : \",end=\"\")\n",
    "print (list(li))\n",
    "\n",
    "# using heappush() to push elements into heap\n",
    "# pushes 4\n",
    "heapq.heappush(li,4)\n",
    "\n",
    "# printing modified heap\n",
    "print (\"The modified heap after push is : \",end=\"\")\n",
    "print (list(li))\n",
    "\n",
    "# using heappop() to pop smallest element\n",
    "print (\"The popped and smallest element is : \",end=\"\")\n",
    "print (heapq.heappop(li))\n"
   ]
  },
  {
   "cell_type": "markdown",
   "id": "36ccc64b",
   "metadata": {},
   "source": [
    "### Heap push n sort"
   ]
  },
  {
   "cell_type": "code",
   "execution_count": 66,
   "id": "047c1170",
   "metadata": {
    "ExecuteTime": {
     "end_time": "2021-09-30T20:57:05.349813Z",
     "start_time": "2021-09-30T20:57:05.340811Z"
    }
   },
   "outputs": [
    {
     "name": "stdout",
     "output_type": "stream",
     "text": [
      "[49, 42, 41]\n",
      "[5, 9, 11]\n"
     ]
    }
   ],
   "source": [
    "import heapq\n",
    "# list of numbers\n",
    "li = [14, 5, 9, 49, 41, 40, 11, 13, 42, 15]\n",
    "\n",
    "# find largest 3 and smallest 3 items\n",
    "nlarge = heapq.nlargest(3, li)\n",
    "nsmall = heapq.nsmallest(3, li)\n",
    "\n",
    "# print vaues\n",
    "print(nlarge)\n",
    "print(nsmall)\n",
    "\n",
    "\n",
    "# list of country and population in millions\n",
    "li = [{\"country\": \"Germany\", \"population\": 83},\n",
    "      {\"country\": \"China\", \"population\": 1370},\n",
    "      {\"country\": \"Japan\", \"population\": 127},\n",
    "      {\"country\": \"India\", \"population\": 1299},\n",
    "      {\"country\": \"USA\", \"population\": 328},\n",
    "      {\"country\": \"Russia\", \"population\": 146}]\n",
    "\n",
    "\n",
    "# find largest 3 and smallest 3 items\n",
    "nlarge = heapq.nlargest(3, li, key=lambda item: item[\"population\"])\n",
    "nsmall = heapq.nsmallest(3, li, key=lambda item: item[\"population\"])"
   ]
  },
  {
   "cell_type": "markdown",
   "id": "5611e481",
   "metadata": {
    "ExecuteTime": {
     "end_time": "2021-09-30T20:57:02.115462Z",
     "start_time": "2021-09-30T20:57:02.108463Z"
    }
   },
   "source": [
    "### heap merge "
   ]
  },
  {
   "cell_type": "code",
   "execution_count": 71,
   "id": "a455aee1",
   "metadata": {
    "ExecuteTime": {
     "end_time": "2021-09-30T20:58:22.948572Z",
     "start_time": "2021-09-30T20:58:22.941577Z"
    }
   },
   "outputs": [
    {
     "name": "stdout",
     "output_type": "stream",
     "text": [
      "returned object type generator\n",
      "[2, 2, 3, 5, 8, 9, 10, 11, 26, 40, 41, 41, 45, 48, 49]\n"
     ]
    }
   ],
   "source": [
    "import heapq\n",
    "#already sorted lists\n",
    "l1 = [5, 9, 11, 41, 49]\n",
    "l2 = [2, 3, 10, 40, 48]\n",
    "l3 = [2, 8, 26, 41, 45]\n",
    "\n",
    "#merge the sorted lists into single sorted list\n",
    "li=heapq.merge(l1,l2,l3)\n",
    "\n",
    "#merge returns generator object\n",
    "print(\"returned object type {}\".format(type(li).__name__))\n",
    "\n",
    "#convert generator object to list\n",
    "print(list(li))"
   ]
  },
  {
   "cell_type": "markdown",
   "id": "d6360542",
   "metadata": {},
   "source": [
    "## priority queue\n",
    "1. In Queue, the oldest element is dequeued first. While, in Priority Queue, element based on <font color=red> highest priority</font> is dequeued.\n",
    "2. When elements are popped out of a priority queue then result obtained in either sorted in Increasing order or in Decreasing Order. While, when elements are popped from a simple queue, a FIFO order of data is obtained in the result.\n",
    "3. only pop difference"
   ]
  },
  {
   "cell_type": "code",
   "execution_count": 72,
   "id": "e8b0eb14",
   "metadata": {
    "ExecuteTime": {
     "end_time": "2021-09-30T21:01:37.396475Z",
     "start_time": "2021-09-30T21:01:37.387474Z"
    }
   },
   "outputs": [
    {
     "name": "stdout",
     "output_type": "stream",
     "text": [
      "12 1 14 7\n",
      "14\n",
      "12\n",
      "7\n",
      "1\n"
     ]
    }
   ],
   "source": [
    "# A simple implementation of Priority Queue\n",
    "# using Queue.\n",
    "class PriorityQueue(object):\n",
    "    def __init__(self):\n",
    "        self.queue = []\n",
    "\n",
    "    def __str__(self):\n",
    "        return ' '.join([str(i) for i in self.queue])\n",
    "\n",
    "    # for checking if the queue is empty\n",
    "    def isEmpty(self):\n",
    "        return len(self.queue) == 0\n",
    "\n",
    "    # for inserting an element in the queue\n",
    "    def insert(self, data):\n",
    "        self.queue.append(data)\n",
    "\n",
    "    # for popping an element based on Priority\n",
    "    def delete(self):\n",
    "        try:\n",
    "            max = 0\n",
    "            for i in range(len(self.queue)):\n",
    "                if self.queue[i] > self.queue[max]:\n",
    "                    max = i\n",
    "            item = self.queue[max]\n",
    "            del self.queue[max]\n",
    "            return item\n",
    "        except IndexError:\n",
    "            print()\n",
    "            exit()\n",
    "\n",
    "\n",
    "if __name__ == '__main__':\n",
    "    myQueue = PriorityQueue()\n",
    "    myQueue.insert(12)\n",
    "    myQueue.insert(1)\n",
    "    myQueue.insert(14)\n",
    "    myQueue.insert(7)\n",
    "    print(myQueue)\n",
    "    while not myQueue.isEmpty():\n",
    "        print(myQueue.delete())"
   ]
  },
  {
   "cell_type": "markdown",
   "id": "c4ac5435",
   "metadata": {},
   "source": [
    "## flatten method"
   ]
  },
  {
   "cell_type": "code",
   "execution_count": 84,
   "id": "c074defb",
   "metadata": {
    "ExecuteTime": {
     "end_time": "2021-10-01T04:32:48.946637Z",
     "start_time": "2021-10-01T04:32:48.939637Z"
    }
   },
   "outputs": [
    {
     "name": "stdout",
     "output_type": "stream",
     "text": [
      "[1, 2, 3, 8, 0, 4, 7, 6, 5]\n",
      "[1, 2, 3, 8, 0, 4, 7, 6, 5]\n",
      "[1, 2, 3, 8, 0, 4, 7, 6, 5]\n"
     ]
    }
   ],
   "source": [
    "func1 = lambda mat: [v for row in mat for v in row]\n",
    "func2 = lambda mat: eval('['+repr(mat).replace('[', '').replace(']', '')+']') \n",
    "func3 = lambda mat: eval('[%s]'%repr(mat).replace('[', '').replace(']', ''))\n",
    "mat = [[1, 2, 3],\n",
    "       [8, 0, 4],\n",
    "       [7, 6, 5],]\n",
    "\n",
    "print(func1(mat))\n",
    "print(func2(mat))\n",
    "print(func3(mat))\n"
   ]
  },
  {
   "cell_type": "code",
   "execution_count": 89,
   "id": "f0f06256",
   "metadata": {
    "ExecuteTime": {
     "end_time": "2021-10-01T04:34:51.282314Z",
     "start_time": "2021-10-01T04:34:51.274317Z"
    }
   },
   "outputs": [
    {
     "name": "stdout",
     "output_type": "stream",
     "text": [
      "123804765\n",
      "123804765\n",
      "123804765\n"
     ]
    }
   ],
   "source": [
    "ff1 = lambda mat: \"\".join([str(v) for row in mat for v in row])\n",
    "ff2 = lambda mat: \"\".join(repr(mat).replace('[', '').replace(']', '').split(', '))\n",
    "ff3 = lambda mat: \"\".join(repr(mat).replace('[', '').replace(']', '').split(', '))\n",
    "mat = [[1, 2, 3],\n",
    "       [8, 0, 4],\n",
    "       [7, 6, 5],]\n",
    "\n",
    "print(ff1(mat))\n",
    "print(ff2(mat))\n",
    "print(ff3(mat))\n"
   ]
  },
  {
   "cell_type": "code",
   "execution_count": null,
   "id": "2874ac5c",
   "metadata": {},
   "outputs": [],
   "source": []
  },
  {
   "cell_type": "markdown",
   "id": "b6dac7db",
   "metadata": {},
   "source": [
    "## Currying\n",
    "- 函数柯里化（currying）又称部分求值。 一个currying 的函数首先会接受一些参数，接受了这些参数之后，该函数并不会立即求值，而是继续返回另外一个函数，刚才传入的参数在函数形成的闭包中被保存起来。 待到函数被真正需要求值的时候，之前传入的所有参数都会被一次性用于求值\n",
    "- f(x, y) = (x*x*x) + (y*y*y)\n",
    "- h(x) = (x*x*x)\n",
    "- h(y) = (y*y*y)\n",
    "- h(x)(y) = h(x)+h(y)\n",
    "- f(x, y) = h(x)(y)\n",
    "- Curry f = h(x)(y)"
   ]
  },
  {
   "cell_type": "markdown",
   "id": "d9b7c112",
   "metadata": {},
   "source": [
    "### lambda 实现"
   ]
  },
  {
   "cell_type": "code",
   "execution_count": 33,
   "id": "5ae7a2cf",
   "metadata": {
    "ExecuteTime": {
     "end_time": "2021-10-06T02:21:49.631788Z",
     "start_time": "2021-10-06T02:21:49.626788Z"
    },
    "scrolled": false
   },
   "outputs": [
    {
     "name": "stdout",
     "output_type": "stream",
     "text": [
      "691\n"
     ]
    }
   ],
   "source": [
    "def add1(a, b, c):\n",
    "    return a + b + c\n",
    " \n",
    "def add2(a, b):\n",
    "    return add1(a, 666, b)\n",
    "\n",
    " # 使用lambda表达式柯里化，固定第二个参数b=666\n",
    "def add2(x, y): return add1(x, 666, y)\n",
    "\n",
    "result = add2(12,13)\n",
    "print(result)"
   ]
  },
  {
   "cell_type": "code",
   "execution_count": 54,
   "id": "4eb1d24d",
   "metadata": {
    "ExecuteTime": {
     "end_time": "2021-10-06T02:32:51.655140Z",
     "start_time": "2021-10-06T02:32:51.650139Z"
    }
   },
   "outputs": [
    {
     "data": {
      "text/plain": [
       "<function __main__.add(x)>"
      ]
     },
     "execution_count": 54,
     "metadata": {},
     "output_type": "execute_result"
    }
   ],
   "source": []
  },
  {
   "cell_type": "code",
   "execution_count": 55,
   "id": "6548bed3",
   "metadata": {
    "ExecuteTime": {
     "end_time": "2021-10-06T02:32:56.890123Z",
     "start_time": "2021-10-06T02:32:56.885124Z"
    }
   },
   "outputs": [
    {
     "name": "stdout",
     "output_type": "stream",
     "text": [
      "<function add at 0x000001E6E4BBF438>\n",
      "<function add.<locals>._add at 0x000001E6E4BBF1F8>\n",
      "9\n"
     ]
    }
   ],
   "source": [
    "def add(x):\n",
    "    def _add(y):\n",
    "        return x + y\n",
    "    return _add\n",
    "print(add)\n",
    "print(add(4))\n",
    "print(add(4)(5))\n"
   ]
  },
  {
   "cell_type": "markdown",
   "id": "6f100d09",
   "metadata": {},
   "source": [
    "### functools 实现"
   ]
  },
  {
   "cell_type": "code",
   "execution_count": 34,
   "id": "ab4fc4a8",
   "metadata": {
    "ExecuteTime": {
     "end_time": "2021-10-06T02:22:05.874375Z",
     "start_time": "2021-10-06T02:22:05.869377Z"
    },
    "scrolled": true
   },
   "outputs": [
    {
     "name": "stdout",
     "output_type": "stream",
     "text": [
      "691\n"
     ]
    }
   ],
   "source": [
    "from functools import partial\n",
    " \n",
    "def add1(a, b, c):\n",
    "    return a + b + c\n",
    " \n",
    "add2 = partial(add1, b=666)\n",
    "# 使用 partial 来实现偏函数时，要指定参数名\n",
    "result = add2(a = 12, c = 13)\n",
    "print(result)"
   ]
  },
  {
   "cell_type": "markdown",
   "id": "1813a603",
   "metadata": {},
   "source": [
    "### wrapper 实现"
   ]
  },
  {
   "cell_type": "code",
   "execution_count": null,
   "id": "ece81708",
   "metadata": {},
   "outputs": [],
   "source": [
    "def add(a, b, c):\n",
    "    return a + b + c\n",
    "\n",
    "\n",
    "def currying_add(func):\n",
    "    def wrapper(a, c, b=666):\n",
    "        return func(a, b, c)\n",
    "    return wrapper\n",
    "\n",
    "\n",
    "result = currying_add(add)(1, 2)\n",
    "print(result)  # 669"
   ]
  },
  {
   "cell_type": "markdown",
   "id": "efeec512",
   "metadata": {},
   "source": [
    "### 装饰器实现"
   ]
  },
  {
   "cell_type": "code",
   "execution_count": 38,
   "id": "b9acd727",
   "metadata": {
    "ExecuteTime": {
     "end_time": "2021-10-06T02:23:46.232136Z",
     "start_time": "2021-10-06T02:23:46.226138Z"
    }
   },
   "outputs": [
    {
     "name": "stdout",
     "output_type": "stream",
     "text": [
      "669\n"
     ]
    }
   ],
   "source": [
    "def currying_add(func): # input \n",
    "    def wrapper(a, c, b=666):\n",
    "        return func(a, b, c) # output \n",
    "    return wrapper # 这里调用这个  wrapper 函数\n",
    " \n",
    "# 使用装饰器符号来定义函数add，add = currying_add(add)\n",
    "@currying_add\n",
    "def add(a, b, c):\n",
    "    return a + b + c\n",
    " \n",
    "result = add(1,2)\n",
    "print(result)  # 669"
   ]
  },
  {
   "cell_type": "markdown",
   "id": "089df973",
   "metadata": {},
   "source": [
    "### pymonad 实现"
   ]
  },
  {
   "cell_type": "code",
   "execution_count": null,
   "id": "c31bd3a5",
   "metadata": {
    "ExecuteTime": {
     "end_time": "2021-10-06T02:30:50.124168Z",
     "start_time": "2021-10-06T02:30:50.124168Z"
    }
   },
   "outputs": [],
   "source": [
    "# !conda install PyMonad -y"
   ]
  },
  {
   "cell_type": "code",
   "execution_count": 58,
   "id": "6c4e20cc",
   "metadata": {
    "ExecuteTime": {
     "end_time": "2021-10-06T02:33:15.181119Z",
     "start_time": "2021-10-06T02:33:15.179118Z"
    }
   },
   "outputs": [],
   "source": [
    "# from pymonad import curry\n",
    "\n",
    "\n",
    "# @curry\n",
    "# def systolic_bp(bmi, age, gender_male, treatment):\n",
    "#     return (\n",
    "#         68.15+0.58*bmi+0.65*age+0.94*gender_male+6.44*treatment\n",
    "#     )"
   ]
  },
  {
   "cell_type": "code",
   "execution_count": null,
   "id": "749a41f0",
   "metadata": {},
   "outputs": [],
   "source": [
    "$ git reset --hard HEAD       (going back to HEAD)\n",
    "\n",
    "$ git reset --hard HEAD^      (going back to the commit before HEAD)\n",
    "$ git reset --hard HEAD~1     (equivalent to \"^\")\n",
    "\n",
    "$ git reset --hard HEAD~2     (going back two commits before HEAD)"
   ]
  },
  {
   "cell_type": "code",
   "execution_count": null,
   "id": "dc69bdf5",
   "metadata": {},
   "outputs": [],
   "source": []
  },
  {
   "cell_type": "code",
   "execution_count": 61,
   "id": "73030c7c",
   "metadata": {
    "ExecuteTime": {
     "end_time": "2021-10-06T02:33:46.753018Z",
     "start_time": "2021-10-06T02:33:46.747017Z"
    },
    "scrolled": true
   },
   "outputs": [
    {
     "name": "stdout",
     "output_type": "stream",
     "text": [
      "10 20 30 40 50\n"
     ]
    }
   ],
   "source": [
    "# Currying in Python - Many to Single Argument\n",
    "def change(a):\n",
    "    def w(b):\n",
    "        def x(c):\n",
    "            def y(d):\n",
    "                def z(e):\n",
    "                    print(a, b, c, d, e)\n",
    "                return z\n",
    "            return y\n",
    "        return x\n",
    "    return w\n",
    "\n",
    "change(10)(20)(30)(40)(50)"
   ]
  },
  {
   "cell_type": "code",
   "execution_count": 9,
   "id": "ffa3015a",
   "metadata": {
    "ExecuteTime": {
     "end_time": "2021-10-06T02:13:33.443846Z",
     "start_time": "2021-10-06T02:13:33.440847Z"
    }
   },
   "outputs": [],
   "source": [
    "def compose(g, f):\n",
    "    def h(x):\n",
    "        return g(f(x))\n",
    "    return h\n"
   ]
  },
  {
   "cell_type": "code",
   "execution_count": 31,
   "id": "4e37734b",
   "metadata": {
    "ExecuteTime": {
     "end_time": "2021-10-06T02:19:23.875172Z",
     "start_time": "2021-10-06T02:19:23.868173Z"
    }
   },
   "outputs": [
    {
     "name": "stdout",
     "output_type": "stream",
     "text": [
      "1853674.5406824148\n"
     ]
    }
   ],
   "source": [
    "# Demonstrate Currying of composition of function\n",
    "def change(b, c, d):\n",
    "    def a(x):\n",
    "        return b(c(d(x)))\n",
    "    return a\n",
    "\n",
    "\n",
    "def kilometer2meter(dist):\n",
    "    \"\"\" Function that converts km to m. \"\"\"\n",
    "    return dist * 1000\n",
    "\n",
    "\n",
    "def meter2centimeter(dist):\n",
    "    \"\"\" Function that converts m to cm. \"\"\"\n",
    "    return dist * 100\n",
    "\n",
    "\n",
    "def centimeter2feet(dist):\n",
    "    \"\"\" Function that converts cm to ft. \"\"\"\n",
    "    return dist / 30.48\n",
    "\n",
    "\n",
    "if __name__ == '__main__':\n",
    "    transform = change(centimeter2feet, meter2centimeter, kilometer2meter)\n",
    "    e = transform(565)\n",
    "    print(e)"
   ]
  },
  {
   "cell_type": "code",
   "execution_count": null,
   "id": "1e8b12a2",
   "metadata": {},
   "outputs": [],
   "source": []
  },
  {
   "cell_type": "code",
   "execution_count": 32,
   "id": "21203ec9",
   "metadata": {
    "ExecuteTime": {
     "end_time": "2021-10-06T02:19:30.284995Z",
     "start_time": "2021-10-06T02:19:30.277994Z"
    },
    "scrolled": true
   },
   "outputs": [
    {
     "name": "stdout",
     "output_type": "stream",
     "text": [
      "864000\n"
     ]
    }
   ],
   "source": [
    "# Demonstrate Currying of composition of function\n",
    "\n",
    "def change(b, c, d):\n",
    "    def a(x):\n",
    "        return b(c(d(x)))\n",
    "    return a\n",
    "\n",
    "\n",
    "def daystohour(time):\n",
    "    \"\"\" Function that converts days to hours. \"\"\"\n",
    "    return time * 24\n",
    "\n",
    "\n",
    "def hourstominutes(time):\n",
    "    \"\"\" Function that converts hours to minutes. \"\"\"\n",
    "    return time * 60\n",
    "\n",
    "\n",
    "def minutestoseconds(time):\n",
    "    \"\"\" Function that converts minutes to seconds. \"\"\"\n",
    "    return time * 60\n",
    "\n",
    "\n",
    "if __name__ == '__main__':\n",
    "    transform = change(minutestoseconds, hourstominutes, daystohour)\n",
    "    e = transform(10)\n",
    "    print(e)"
   ]
  },
  {
   "cell_type": "markdown",
   "id": "4918f07d",
   "metadata": {},
   "source": [
    "### anti-currying"
   ]
  },
  {
   "cell_type": "code",
   "execution_count": 39,
   "id": "e4a6e911",
   "metadata": {
    "ExecuteTime": {
     "end_time": "2021-10-06T02:26:45.196829Z",
     "start_time": "2021-10-06T02:26:45.190831Z"
    }
   },
   "outputs": [
    {
     "name": "stdout",
     "output_type": "stream",
     "text": [
      "5\n"
     ]
    }
   ],
   "source": [
    "# 定义加法函数\n",
    "def add(x, y):\n",
    "    return x + y\n",
    " \n",
    "# 柯里化\n",
    "def currying_add(x):\n",
    "    def inc(y):\n",
    "        return x + y\n",
    "    return inc  # 返回函数\n",
    " \n",
    "# 因为currying_add()是一个柯里化函数，现在我针对他定义一个反柯里化函数，如下：\n",
    "def anti_currying_add(x,y):\n",
    "    return currying_add(x)(y)\n",
    " \n",
    "result = anti_currying_add(2,3)  # 调用反柯里化函数\n",
    " \n",
    "print(result)   # 5"
   ]
  },
  {
   "cell_type": "code",
   "execution_count": null,
   "id": "7700fc8f",
   "metadata": {},
   "outputs": [],
   "source": []
  },
  {
   "cell_type": "code",
   "execution_count": null,
   "id": "eb5fea20",
   "metadata": {},
   "outputs": [],
   "source": []
  },
  {
   "cell_type": "code",
   "execution_count": null,
   "id": "bb1b6f88",
   "metadata": {},
   "outputs": [],
   "source": []
  },
  {
   "cell_type": "code",
   "execution_count": 15,
   "id": "745f1105",
   "metadata": {
    "ExecuteTime": {
     "end_time": "2021-10-06T02:14:17.477849Z",
     "start_time": "2021-10-06T02:14:17.471847Z"
    }
   },
   "outputs": [
    {
     "data": {
      "text/plain": [
       "'L123'"
      ]
     },
     "execution_count": 15,
     "metadata": {},
     "output_type": "execute_result"
    }
   ],
   "source": [
    "import functools\n",
    "import operator\n",
    "foldl = lambda func, acc, xs: functools.reduce(func, xs, acc)\n",
    "foldl(operator.sub, 0, [1,2,3])\n",
    "foldl(operator.add, 'L', ['1','2','3'])"
   ]
  },
  {
   "cell_type": "code",
   "execution_count": 22,
   "id": "443b0c45",
   "metadata": {
    "ExecuteTime": {
     "end_time": "2021-10-06T02:16:16.997073Z",
     "start_time": "2021-10-06T02:16:16.991073Z"
    }
   },
   "outputs": [
    {
     "data": {
      "text/plain": [
       "0"
      ]
     },
     "execution_count": 22,
     "metadata": {},
     "output_type": "execute_result"
    }
   ],
   "source": [
    "functools.reduce(lambda x, y: x, [1,2,3], 0)"
   ]
  },
  {
   "cell_type": "code",
   "execution_count": 16,
   "id": "73608e26",
   "metadata": {
    "ExecuteTime": {
     "end_time": "2021-10-06T02:14:24.983107Z",
     "start_time": "2021-10-06T02:14:24.977109Z"
    }
   },
   "outputs": [
    {
     "data": {
      "text/plain": [
       "'123R'"
      ]
     },
     "execution_count": 16,
     "metadata": {},
     "output_type": "execute_result"
    }
   ],
   "source": [
    "import functools\n",
    "import operator\n",
    "foldr = lambda func, acc, xs: functools.reduce(lambda x, y: func(y, x), xs[::-1], acc)\n",
    "foldr(operator.sub, 0, [1,2,3])\n",
    "foldr(operator.add, 'R', ['1', '2', '3'])"
   ]
  },
  {
   "cell_type": "code",
   "execution_count": null,
   "id": "b131927b",
   "metadata": {},
   "outputs": [],
   "source": []
  },
  {
   "cell_type": "code",
   "execution_count": null,
   "id": "0ecd0bd8",
   "metadata": {},
   "outputs": [],
   "source": []
  },
  {
   "cell_type": "markdown",
   "id": "30bb1e79",
   "metadata": {},
   "source": [
    "## Fold and flip \n",
    "- 找到"
   ]
  },
  {
   "cell_type": "code",
   "execution_count": 62,
   "id": "329b1fe7",
   "metadata": {
    "ExecuteTime": {
     "end_time": "2021-10-06T05:31:49.570223Z",
     "start_time": "2021-10-06T05:31:49.554718Z"
    }
   },
   "outputs": [
    {
     "name": "stdout",
     "output_type": "stream",
     "text": [
      "7\n",
      "4\n",
      "99\n"
     ]
    }
   ],
   "source": [
    "import functools\n",
    "\n",
    "\n",
    "def foldl(func, acc, xs):\n",
    "    return functools.reduce(func, xs, acc)\n",
    "\n",
    "\n",
    "def flip(func):\n",
    "    @functools.wraps(func)\n",
    "    def newfunc(x, y):\n",
    "        return func(y, x)\n",
    "    return newfunc\n",
    "\n",
    "\n",
    "def foldr(func, acc, xs):\n",
    "    return functools.reduce(flip(func), reversed(xs), acc)\n",
    "\n",
    "\n",
    "def first(func, acc, xs):\n",
    "    return foldr(lambda x, y: x if func(x) else y, acc, xs)\n",
    "\n",
    "\n",
    "def last(func, acc, xs):\n",
    "    return foldl(lambda x, y: y if func(y) else x, acc, xs)\n",
    "\n",
    "\n",
    "print(last(lambda x: x < 8, 99, [1, 2, 3, 4, 5, 6, 7, 8, 9]))   # => 7 # 找到最后一个小于 8 的数值\n",
    "print(first(lambda x: x > 3, 99, [1, 2, 3, 4, 5, 6, 7, 8, 9]))  # => 4\n",
    "print(first(lambda x: x > 20, 99, [1, 2, 3, 4, 5, 6, 7, 8, 9]))  # => 99"
   ]
  },
  {
   "cell_type": "code",
   "execution_count": null,
   "id": "d7d7edd9",
   "metadata": {},
   "outputs": [],
   "source": []
  },
  {
   "cell_type": "code",
   "execution_count": null,
   "id": "33f0dcc6",
   "metadata": {},
   "outputs": [],
   "source": []
  },
  {
   "cell_type": "code",
   "execution_count": null,
   "id": "3410c271",
   "metadata": {},
   "outputs": [],
   "source": []
  }
 ],
 "metadata": {
  "kernelspec": {
   "display_name": "Python 3 (ipykernel)",
   "language": "python",
   "name": "python3"
  },
  "language_info": {
   "codemirror_mode": {
    "name": "ipython",
    "version": 3
   },
   "file_extension": ".py",
   "mimetype": "text/x-python",
   "name": "python",
   "nbconvert_exporter": "python",
   "pygments_lexer": "ipython3",
   "version": "3.7.10"
  },
  "latex_envs": {
   "LaTeX_envs_menu_present": true,
   "autoclose": false,
   "autocomplete": true,
   "bibliofile": "biblio.bib",
   "cite_by": "apalike",
   "current_citInitial": 1,
   "eqLabelWithNumbers": true,
   "eqNumInitial": 1,
   "hotkeys": {
    "equation": "Ctrl-E",
    "itemize": "Ctrl-I"
   },
   "labels_anchors": false,
   "latex_user_defs": false,
   "report_style_numbering": false,
   "user_envs_cfg": false
  },
  "toc": {
   "base_numbering": 1,
   "nav_menu": {},
   "number_sections": true,
   "sideBar": true,
   "skip_h1_title": false,
   "title_cell": "Table of Contents",
   "title_sidebar": "Contents",
   "toc_cell": true,
   "toc_position": {
    "height": "calc(100% - 180px)",
    "left": "10px",
    "top": "150px",
    "width": "392.625px"
   },
   "toc_section_display": true,
   "toc_window_display": true
  }
 },
 "nbformat": 4,
 "nbformat_minor": 5
}
