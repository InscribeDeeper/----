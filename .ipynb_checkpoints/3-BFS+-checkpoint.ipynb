{
 "cells": [
  {
   "cell_type": "markdown",
   "id": "5f2e8f2a",
   "metadata": {},
   "source": [
    "# BFS"
   ]
  },
  {
   "cell_type": "markdown",
   "id": "e60575bb",
   "metadata": {},
   "source": [
    "## graph 的 BFS 模板\n",
    "- 以当前节点拓展到 周围的 节点上\n",
    "- O(N+M)\n",
    "- for 循环中 加法 复杂度"
   ]
  },
  {
   "cell_type": "code",
   "execution_count": 2,
   "id": "c479dc3e",
   "metadata": {
    "ExecuteTime": {
     "end_time": "2021-09-26T18:20:38.548404Z",
     "start_time": "2021-09-26T18:20:38.539198Z"
    }
   },
   "outputs": [
    {
     "ename": "NameError",
     "evalue": "name 'node' is not defined",
     "output_type": "error",
     "traceback": [
      "\u001b[0;31m---------------------------------------------------------------------------\u001b[0m",
      "\u001b[0;31mNameError\u001b[0m                                 Traceback (most recent call last)",
      "\u001b[0;32m<ipython-input-2-b2d104927cc4>\u001b[0m in \u001b[0;36m<module>\u001b[0;34m\u001b[0m\n\u001b[1;32m      1\u001b[0m \u001b[0;32mimport\u001b[0m \u001b[0mcollections\u001b[0m\u001b[0;34m\u001b[0m\u001b[0;34m\u001b[0m\u001b[0m\n\u001b[0;32m----> 2\u001b[0;31m \u001b[0mqueue\u001b[0m \u001b[0;34m=\u001b[0m \u001b[0mcollections\u001b[0m\u001b[0;34m.\u001b[0m\u001b[0mdeque\u001b[0m\u001b[0;34m(\u001b[0m\u001b[0;34m[\u001b[0m\u001b[0mnode\u001b[0m\u001b[0;34m]\u001b[0m\u001b[0;34m)\u001b[0m \u001b[0;31m# 放入 root\u001b[0m\u001b[0;34m\u001b[0m\u001b[0;34m\u001b[0m\u001b[0m\n\u001b[0m\u001b[1;32m      3\u001b[0m \u001b[0mdistance\u001b[0m \u001b[0;34m=\u001b[0m \u001b[0;34m{\u001b[0m\u001b[0mnode\u001b[0m \u001b[0;34m:\u001b[0m\u001b[0;36m0\u001b[0m\u001b[0;34m}\u001b[0m \u001b[0;31m# 这个 distance 记录是 level 的深度\u001b[0m\u001b[0;34m\u001b[0m\u001b[0;34m\u001b[0m\u001b[0m\n\u001b[1;32m      4\u001b[0m \u001b[0;34m\u001b[0m\u001b[0m\n\u001b[1;32m      5\u001b[0m \u001b[0;32mwhile\u001b[0m \u001b[0mqueue\u001b[0m\u001b[0;34m:\u001b[0m \u001b[0;31m# 当 非空\u001b[0m\u001b[0;34m\u001b[0m\u001b[0;34m\u001b[0m\u001b[0m\n",
      "\u001b[0;31mNameError\u001b[0m: name 'node' is not defined"
     ]
    }
   ],
   "source": [
    "import collections \n",
    "queue = collections.deque([node]) # 放入 root\n",
    "distance = {node :0} # 这个 distance 记录是 level 的深度\n",
    "\n",
    "while queue: # 当 非空\n",
    "    node = queue.popleft() # deque 左边 pop => 当成 queue 来操作\n",
    "    for neighbor in node.get_neighbors(): # 通过 树的 function 获取 neighbors\n",
    "        if neighbor in distance:  # 如果已经存在在这个 hashmap 过, 则跳过当前节点的处理 = 意味着这个 node 已经被处理过 -> 因为是 graph\n",
    "            continue\n",
    "    distance[neighbor] = distance[node] + 1\n",
    "    queue.append(neighbor)\n",
    "    \n",
    "    "
   ]
  },
  {
   "cell_type": "markdown",
   "id": "0063d288",
   "metadata": {},
   "source": [
    "### 储存结构\n",
    "- 邻接表: 都是 map 里面 套一个 set\n",
    "- 邻接矩阵\n",
    "- 难点是: 怎么把与当前 node 相同距离的点 放到同一层\n"
   ]
  },
  {
   "cell_type": "markdown",
   "id": "32fbe8f8",
   "metadata": {},
   "source": [
    "### 在不同的地方 return 考虑的细节不一样\n",
    "- 第一次访问到终点的时候, 一定是最优的 = distance + 1\n",
    "- "
   ]
  },
  {
   "cell_type": "markdown",
   "id": "617f7fc1",
   "metadata": {},
   "source": [
    "## 1565  modern ludo\n",
    "- 转换为 BFS 套着 BFS 的解法\n",
    "- 步骤\n",
    "    - 先转换为 graph, 因为题目原来不是 graph\n",
    "    - 然后利用 dict(set) 来记录信息, 用 queue 来操作当前过程, queue 左端第一个作为当前处理对象\n",
    "- 思路\n",
    "    - 一个 BFS 找最短路径\n",
    "    - 一个 BFS 找 联通块"
   ]
  },
  {
   "cell_type": "markdown",
   "id": "dae4471b",
   "metadata": {},
   "source": [
    "### BFS 解法 ( 待重写)"
   ]
  },
  {
   "cell_type": "code",
   "execution_count": 22,
   "id": "1de3f330",
   "metadata": {
    "ExecuteTime": {
     "end_time": "2021-09-26T20:44:22.287787Z",
     "start_time": "2021-09-26T20:44:22.273745Z"
    }
   },
   "outputs": [
    {
     "data": {
      "text/plain": [
       "2"
      ]
     },
     "execution_count": 22,
     "metadata": {},
     "output_type": "execute_result"
    }
   ],
   "source": [
    "from collections import deque\n",
    "class Solution:\n",
    "    \"\"\"\n",
    "    @param length: the length of board\n",
    "    @param connections: the connections of the positions\n",
    "    @return: the minimum steps to reach the end\n",
    "    # \n",
    "    \"\"\"\n",
    "\n",
    "    def modernLudo(self, length, connections):\n",
    "        # Write your code here\n",
    "        graph = self.build_graph(length, connections)\n",
    "        queue = deque([1])\n",
    "        distance = {1:0}\n",
    "        while queue: # 找 最短路径\n",
    "            node = queue.popleft() # 这个 node 是一个数字\n",
    "            limit = min(node + 1 + 6, length +1) # 当前 node 最远能到 1~6, \n",
    "            for neighbor in range(node+1, limit):\n",
    "                connected_nodes = self.get_unvisited_nodes(graph, distance, neighbor) # 获取当前能一步到达的节点\n",
    "                for connected_node in connected_nodes:\n",
    "                    if connected_node == length:\n",
    "                        return distance[node] + 1\n",
    "                    distance[connected_node] = distance[node] + 1 # 与当前 node 的距离 相差 1次 骰子\n",
    "                    queue.append(connected_node) # 把 相差一次 骰子的 点, 全部加到 queue 中去\n",
    "        return distance[length]\n",
    "    \n",
    "    # 找联通块\n",
    "    def get_unvisited_nodes(self, graph, distance, node): # O(M+N) \n",
    "        # 获取所有 与 当前 node 相连的 node, 无论是 children 还是 更深的 children, 只要相连\n",
    "        unvisited_nodes = set()\n",
    "        queue = deque([node])\n",
    "        while queue:\n",
    "            curr_node = queue.popleft()\n",
    "#             print(queue, distance, curr_node)\n",
    "            if curr_node in distance: # 已经搜索过, 则跳过\n",
    "                continue\n",
    "            unvisited_nodes.add(curr_node) # 未搜索过, 则添加到这个 unvisited_nodes 中, 到 queue 中区\n",
    "            for neighbor in graph[curr_node]: # 并且把这个 未搜索过的 node 的 能 直达的点, 都进行更新, 作为当前一步到达的目标\n",
    "#                 print(distance)\n",
    "                if neighbor not in distance:\n",
    "                    queue.append(neighbor)\n",
    "                    unvisited_nodes.add(neighbor)\n",
    "        return unvisited_nodes\n",
    "    \n",
    "    def build_graph(self, length, connections):\n",
    "        graph = {i: set() for i in range(1, length+1)}\n",
    "        for a,b in connections:\n",
    "            graph[a].add(b)\n",
    "        return graph\n",
    "    \n",
    "    \n",
    "\n",
    "length = 15\n",
    "connections = [[2, 8], [6, 9]]\n",
    "Solution().modernLudo(length, connections)"
   ]
  },
  {
   "cell_type": "markdown",
   "id": "178515b1",
   "metadata": {},
   "source": [
    "### dp 解法"
   ]
  },
  {
   "cell_type": "code",
   "execution_count": 14,
   "id": "856d4adf",
   "metadata": {
    "ExecuteTime": {
     "end_time": "2021-09-26T20:35:19.815089Z",
     "start_time": "2021-09-26T20:35:19.809318Z"
    }
   },
   "outputs": [],
   "source": [
    "class Solution:\n",
    "    \"\"\"\n",
    "    @param length: the length of board\n",
    "    @param connections: the connections of the positions\n",
    "    @return: the minimum steps to reach the end\n",
    "    \"\"\"\n",
    "    def modernLudo(self, length, connections):\n",
    "        # Write your code here\n",
    "        if length == 1:\n",
    "            return 0\n",
    "        dic = {}\n",
    "        for s, t in connections:\n",
    "            if t in dic:\n",
    "                dic[t].append(s)\n",
    "                continue\n",
    "            dic[t] = [s]\n",
    "        dp = [sys.maxsize]*(length+1)\n",
    "        dp[0] = dp[1] = 0\n",
    "        \n",
    "        for i in range(2, length+1):\n",
    "            if i in dic:\n",
    "                for j in dic[i]:\n",
    "                    dp[i] = min(dp[i], dp[j])\n",
    "            for j in range(1, 7):\n",
    "                if i - j > 0:\n",
    "                    dp[i] = min(dp[i], dp[i-j] + 1)\n",
    "        return dp[-1]"
   ]
  },
  {
   "attachments": {},
   "cell_type": "markdown",
   "id": "01151c3d",
   "metadata": {},
   "source": [
    "### SPFA\n",
    "- 如果当前能直达, 并且小于之前的记录, 则更新这个 distance 就行了\n"
   ]
  },
  {
   "cell_type": "code",
   "execution_count": 33,
   "id": "6e7d8beb",
   "metadata": {
    "ExecuteTime": {
     "end_time": "2021-09-26T21:10:12.415145Z",
     "start_time": "2021-09-26T21:10:12.400612Z"
    }
   },
   "outputs": [
    {
     "name": "stdout",
     "output_type": "stream",
     "text": [
      "{1: set(), 2: set(), 3: set(), 4: set(), 5: set(), 6: set(), 7: {9}, 8: set(), 9: set(), 10: set(), 11: set(), 12: set(), 13: set(), 14: set(), 15: set()}\n",
      "deque([1])\n",
      "{1: 0, 2: inf, 3: inf, 4: inf, 5: inf, 6: inf, 7: inf, 8: inf, 9: inf, 10: inf, 11: inf, 12: inf, 13: inf, 14: inf, 15: inf}\n",
      "deque([2, 3, 4, 5, 6, 7])\n",
      "{1: 0, 2: 1, 3: 1, 4: 1, 5: 1, 6: 1, 7: 1, 8: inf, 9: inf, 10: inf, 11: inf, 12: inf, 13: inf, 14: inf, 15: inf}\n",
      "deque([3, 4, 5, 6, 7, 8])\n",
      "{1: 0, 2: 1, 3: 1, 4: 1, 5: 1, 6: 1, 7: 1, 8: 2, 9: inf, 10: inf, 11: inf, 12: inf, 13: inf, 14: inf, 15: inf}\n",
      "deque([4, 5, 6, 7, 8, 9])\n",
      "{1: 0, 2: 1, 3: 1, 4: 1, 5: 1, 6: 1, 7: 1, 8: 2, 9: 2, 10: inf, 11: inf, 12: inf, 13: inf, 14: inf, 15: inf}\n",
      "deque([5, 6, 7, 8, 9, 10])\n",
      "{1: 0, 2: 1, 3: 1, 4: 1, 5: 1, 6: 1, 7: 1, 8: 2, 9: 2, 10: 2, 11: inf, 12: inf, 13: inf, 14: inf, 15: inf}\n",
      "deque([6, 7, 8, 9, 10, 11])\n",
      "{1: 0, 2: 1, 3: 1, 4: 1, 5: 1, 6: 1, 7: 1, 8: 2, 9: 2, 10: 2, 11: 2, 12: inf, 13: inf, 14: inf, 15: inf}\n",
      "deque([7, 8, 9, 10, 11, 12])\n",
      "{1: 0, 2: 1, 3: 1, 4: 1, 5: 1, 6: 1, 7: 1, 8: 2, 9: 2, 10: 2, 11: 2, 12: 2, 13: inf, 14: inf, 15: inf}\n",
      "deque([8, 9, 10, 11, 12, 9, 13])\n",
      "{1: 0, 2: 1, 3: 1, 4: 1, 5: 1, 6: 1, 7: 1, 8: 2, 9: 1, 10: 2, 11: 2, 12: 2, 13: 2, 14: inf, 15: inf}\n",
      "deque([9, 10, 11, 12, 9, 13, 14])\n",
      "{1: 0, 2: 1, 3: 1, 4: 1, 5: 1, 6: 1, 7: 1, 8: 2, 9: 1, 10: 2, 11: 2, 12: 2, 13: 2, 14: 3, 15: inf}\n",
      "deque([10, 11, 12, 9, 13, 14, 14, 15])\n",
      "{1: 0, 2: 1, 3: 1, 4: 1, 5: 1, 6: 1, 7: 1, 8: 2, 9: 1, 10: 2, 11: 2, 12: 2, 13: 2, 14: 2, 15: 2}\n",
      "deque([11, 12, 9, 13, 14, 14, 15])\n",
      "{1: 0, 2: 1, 3: 1, 4: 1, 5: 1, 6: 1, 7: 1, 8: 2, 9: 1, 10: 2, 11: 2, 12: 2, 13: 2, 14: 2, 15: 2}\n",
      "deque([12, 9, 13, 14, 14, 15])\n",
      "{1: 0, 2: 1, 3: 1, 4: 1, 5: 1, 6: 1, 7: 1, 8: 2, 9: 1, 10: 2, 11: 2, 12: 2, 13: 2, 14: 2, 15: 2}\n",
      "deque([9, 13, 14, 14, 15])\n",
      "{1: 0, 2: 1, 3: 1, 4: 1, 5: 1, 6: 1, 7: 1, 8: 2, 9: 1, 10: 2, 11: 2, 12: 2, 13: 2, 14: 2, 15: 2}\n",
      "deque([13, 14, 14, 15])\n",
      "{1: 0, 2: 1, 3: 1, 4: 1, 5: 1, 6: 1, 7: 1, 8: 2, 9: 1, 10: 2, 11: 2, 12: 2, 13: 2, 14: 2, 15: 2}\n",
      "deque([14, 14, 15])\n",
      "{1: 0, 2: 1, 3: 1, 4: 1, 5: 1, 6: 1, 7: 1, 8: 2, 9: 1, 10: 2, 11: 2, 12: 2, 13: 2, 14: 2, 15: 2}\n",
      "deque([14, 15])\n",
      "{1: 0, 2: 1, 3: 1, 4: 1, 5: 1, 6: 1, 7: 1, 8: 2, 9: 1, 10: 2, 11: 2, 12: 2, 13: 2, 14: 2, 15: 2}\n",
      "deque([15])\n",
      "{1: 0, 2: 1, 3: 1, 4: 1, 5: 1, 6: 1, 7: 1, 8: 2, 9: 1, 10: 2, 11: 2, 12: 2, 13: 2, 14: 2, 15: 2}\n"
     ]
    },
    {
     "data": {
      "text/plain": [
       "2"
      ]
     },
     "execution_count": 33,
     "metadata": {},
     "output_type": "execute_result"
    }
   ],
   "source": [
    "from collections import deque\n",
    "class Solution:\n",
    "    \"\"\"\n",
    "    @param length: the length of board\n",
    "    @param connections: the connections of the positions\n",
    "    @return: the minimum steps to reach the end\n",
    "    # 用 heap(priority queue) 替换 queue 可以更快找到最短路径. \n",
    "    \"\"\"\n",
    "\n",
    "    def modernLudo(self, length, connections):\n",
    "        # Write your code here\n",
    "        graph = self.build_graph(length, connections)\n",
    "        print(graph)\n",
    "        queue = deque([1])\n",
    "        distance = {i: float(\"inf\") for i in range(1, length+1)}\n",
    "        distance[1] = 0\n",
    "        \n",
    "        while queue: # 找 最短路径, 队列里面会 重复 出现 两个 9\n",
    "            # 只要更好, 就更新 node 对应的 distance, 并且重新加入队列. 这样就算重复加入, 因为他的 distance 已经是最优的, 所以多跑一遍 loop 也不会影响很多\n",
    "            print(queue)\n",
    "            print(distance)\n",
    "            node = queue.popleft() # 这个 node 是一个数字\n",
    "            \n",
    "            ## 解决直连 跳跃部分\n",
    "            for next_node in graph[node]: \n",
    "                # 如果之前没入 queue = 没被 BFS 扫到过, 则\n",
    "                if distance[next_node]> distance[node]: \n",
    "                    distance[next_node] = distance[node]\n",
    "                    queue.append(next_node)\n",
    "            right_limit = min(node+1+6, length+1)\n",
    "            \n",
    "            ## 解决摇骰子 连续前进的 graph 部分\n",
    "            for next_node in range(node + 1, right_limit): \n",
    "                if distance[next_node]> distance[node]+1:\n",
    "                    distance[next_node] = distance[node] + 1\n",
    "                    queue.append(next_node)\n",
    "        return distance[length]\n",
    "    \n",
    "    \n",
    "    def build_graph(self, length, connections):\n",
    "        graph = {i: set() for i in range(1, length+1)}\n",
    "        for a,b in connections:\n",
    "            graph[a].add(b)\n",
    "        return graph\n",
    "    \n",
    "    \n",
    "\n",
    "length = 15\n",
    "connections = [[7,9]]\n",
    "Solution().modernLudo(length, connections)"
   ]
  },
  {
   "cell_type": "code",
   "execution_count": 36,
   "id": "27be4f82",
   "metadata": {
    "ExecuteTime": {
     "end_time": "2021-09-26T21:20:42.372150Z",
     "start_time": "2021-09-26T21:20:42.357504Z"
    }
   },
   "outputs": [
    {
     "name": "stdout",
     "output_type": "stream",
     "text": [
      "{1: set(), 2: set(), 3: set(), 4: set(), 5: set(), 6: set(), 7: {9}, 8: set(), 9: set(), 10: set(), 11: set(), 12: set(), 13: set(), 14: set(), 15: set()}\n",
      "[(0, 1)]\n",
      "{1: 0, 2: inf, 3: inf, 4: inf, 5: inf, 6: inf, 7: inf, 8: inf, 9: inf, 10: inf, 11: inf, 12: inf, 13: inf, 14: inf, 15: inf}\n",
      "[(1, 2), (1, 3), (1, 4), (1, 5), (1, 6), (1, 7)]\n",
      "{1: 0, 2: 1, 3: 1, 4: 1, 5: 1, 6: 1, 7: 1, 8: inf, 9: inf, 10: inf, 11: inf, 12: inf, 13: inf, 14: inf, 15: inf}\n",
      "[(1, 3), (1, 5), (1, 4), (1, 7), (1, 6), (2, 8)]\n",
      "{1: 0, 2: 1, 3: 1, 4: 1, 5: 1, 6: 1, 7: 1, 8: 2, 9: inf, 10: inf, 11: inf, 12: inf, 13: inf, 14: inf, 15: inf}\n",
      "[(1, 4), (1, 5), (2, 8), (1, 7), (1, 6), (2, 9)]\n",
      "{1: 0, 2: 1, 3: 1, 4: 1, 5: 1, 6: 1, 7: 1, 8: 2, 9: 2, 10: inf, 11: inf, 12: inf, 13: inf, 14: inf, 15: inf}\n",
      "[(1, 5), (1, 6), (2, 8), (1, 7), (2, 9), (2, 10)]\n",
      "{1: 0, 2: 1, 3: 1, 4: 1, 5: 1, 6: 1, 7: 1, 8: 2, 9: 2, 10: 2, 11: inf, 12: inf, 13: inf, 14: inf, 15: inf}\n",
      "[(1, 6), (1, 7), (2, 8), (2, 10), (2, 9), (2, 11)]\n",
      "{1: 0, 2: 1, 3: 1, 4: 1, 5: 1, 6: 1, 7: 1, 8: 2, 9: 2, 10: 2, 11: 2, 12: inf, 13: inf, 14: inf, 15: inf}\n",
      "[(1, 7), (2, 9), (2, 8), (2, 10), (2, 11), (2, 12)]\n",
      "{1: 0, 2: 1, 3: 1, 4: 1, 5: 1, 6: 1, 7: 1, 8: 2, 9: 2, 10: 2, 11: 2, 12: 2, 13: inf, 14: inf, 15: inf}\n",
      "[(1, 9), (2, 9), (2, 8), (2, 10), (2, 11), (2, 12), (2, 13)]\n",
      "{1: 0, 2: 1, 3: 1, 4: 1, 5: 1, 6: 1, 7: 1, 8: 2, 9: 1, 10: 2, 11: 2, 12: 2, 13: 2, 14: inf, 15: inf}\n",
      "[(2, 8), (2, 9), (2, 12), (2, 10), (2, 11), (2, 13), (2, 14), (2, 15)]\n",
      "{1: 0, 2: 1, 3: 1, 4: 1, 5: 1, 6: 1, 7: 1, 8: 2, 9: 1, 10: 2, 11: 2, 12: 2, 13: 2, 14: 2, 15: 2}\n",
      "[(2, 9), (2, 10), (2, 12), (2, 15), (2, 11), (2, 13), (2, 14)]\n",
      "{1: 0, 2: 1, 3: 1, 4: 1, 5: 1, 6: 1, 7: 1, 8: 2, 9: 1, 10: 2, 11: 2, 12: 2, 13: 2, 14: 2, 15: 2}\n",
      "[(2, 10), (2, 11), (2, 12), (2, 15), (2, 14), (2, 13)]\n",
      "{1: 0, 2: 1, 3: 1, 4: 1, 5: 1, 6: 1, 7: 1, 8: 2, 9: 1, 10: 2, 11: 2, 12: 2, 13: 2, 14: 2, 15: 2}\n",
      "[(2, 11), (2, 13), (2, 12), (2, 15), (2, 14)]\n",
      "{1: 0, 2: 1, 3: 1, 4: 1, 5: 1, 6: 1, 7: 1, 8: 2, 9: 1, 10: 2, 11: 2, 12: 2, 13: 2, 14: 2, 15: 2}\n",
      "[(2, 12), (2, 13), (2, 14), (2, 15)]\n",
      "{1: 0, 2: 1, 3: 1, 4: 1, 5: 1, 6: 1, 7: 1, 8: 2, 9: 1, 10: 2, 11: 2, 12: 2, 13: 2, 14: 2, 15: 2}\n",
      "[(2, 13), (2, 15), (2, 14)]\n",
      "{1: 0, 2: 1, 3: 1, 4: 1, 5: 1, 6: 1, 7: 1, 8: 2, 9: 1, 10: 2, 11: 2, 12: 2, 13: 2, 14: 2, 15: 2}\n",
      "[(2, 14), (2, 15)]\n",
      "{1: 0, 2: 1, 3: 1, 4: 1, 5: 1, 6: 1, 7: 1, 8: 2, 9: 1, 10: 2, 11: 2, 12: 2, 13: 2, 14: 2, 15: 2}\n",
      "[(2, 15)]\n",
      "{1: 0, 2: 1, 3: 1, 4: 1, 5: 1, 6: 1, 7: 1, 8: 2, 9: 1, 10: 2, 11: 2, 12: 2, 13: 2, 14: 2, 15: 2}\n"
     ]
    },
    {
     "data": {
      "text/plain": [
       "2"
      ]
     },
     "execution_count": 36,
     "metadata": {},
     "output_type": "execute_result"
    }
   ],
   "source": [
    "from collections import deque\n",
    "import heapq\n",
    "class Solution:\n",
    "    \n",
    "    \"\"\"\n",
    "    @param length: the length of board\n",
    "    @param connections: the connections of the positions\n",
    "    @return: the minimum steps to reach the end\n",
    "    # 用 heap(priority queue) 替换 queue 可以更快找到最短路径. \n",
    "    \"\"\"\n",
    "\n",
    "    def modernLudo(self, length, connections):\n",
    "        # Write your code here\n",
    "        graph = self.build_graph(length, connections)\n",
    "        print(graph)\n",
    "        queue = [(0,1)]\n",
    "        distance = {i: float(\"inf\") for i in range(1, length+1)}\n",
    "        distance[1] = 0\n",
    "        \n",
    "        while queue: # 找 最短路径, 队列里面会 重复 出现 两个 9\n",
    "            # 只要更好, 就更新 node 对应的 distance, 并且重新加入队列. 这样就算重复加入, 因为他的 distance 已经是最优的, 所以多跑一遍 loop 也不会影响很多\n",
    "            print(queue)\n",
    "            print(distance)\n",
    "            dist, node = heapq.heappop(queue) # 这个 node 是一个数字\n",
    "            \n",
    "            ## 解决直连 跳跃部分\n",
    "            for next_node in graph[node]: \n",
    "                # 如果之前没入 queue = 没被 BFS 扫到过, 则\n",
    "                if distance[next_node]> dist: \n",
    "                    distance[next_node] = dist\n",
    "#                     queue.append(next_node)\n",
    "                    heapq.heappush(queue, (dist, next_node))\n",
    "            right_limit = min(node+1+6, length+1)\n",
    "            \n",
    "            ## 解决摇骰子 连续前进的 graph 部分\n",
    "            for next_node in range(node + 1, right_limit): \n",
    "                if distance[next_node]> dist +1:\n",
    "                    distance[next_node] = dist + 1\n",
    "                    heapq.heappush(queue, (dist+1, next_node))\n",
    "        return distance[length]\n",
    "    \n",
    "    \n",
    "    def build_graph(self, length, connections):\n",
    "        graph = {i: set() for i in range(1, length+1)}\n",
    "        for a,b in connections:\n",
    "            graph[a].add(b)\n",
    "        return graph\n",
    "    \n",
    "    \n",
    "\n",
    "length = 15\n",
    "connections = [[7,9]]\n",
    "Solution().modernLudo(length, connections)"
   ]
  },
  {
   "cell_type": "code",
   "execution_count": null,
   "id": "a9d9eafb",
   "metadata": {},
   "outputs": [],
   "source": [
    "https://zhuanlan.zhihu.com/p/151789602"
   ]
  }
 ],
 "metadata": {
  "kernelspec": {
   "display_name": "Python 3",
   "language": "python",
   "name": "python3"
  },
  "language_info": {
   "codemirror_mode": {
    "name": "ipython",
    "version": 3
   },
   "file_extension": ".py",
   "mimetype": "text/x-python",
   "name": "python",
   "nbconvert_exporter": "python",
   "pygments_lexer": "ipython3",
   "version": "3.6.10"
  },
  "latex_envs": {
   "LaTeX_envs_menu_present": true,
   "autoclose": false,
   "autocomplete": true,
   "bibliofile": "biblio.bib",
   "cite_by": "apalike",
   "current_citInitial": 1,
   "eqLabelWithNumbers": true,
   "eqNumInitial": 1,
   "hotkeys": {
    "equation": "Ctrl-E",
    "itemize": "Ctrl-I"
   },
   "labels_anchors": false,
   "latex_user_defs": false,
   "report_style_numbering": false,
   "user_envs_cfg": false
  },
  "toc": {
   "base_numbering": 1,
   "nav_menu": {},
   "number_sections": true,
   "sideBar": true,
   "skip_h1_title": false,
   "title_cell": "Table of Contents",
   "title_sidebar": "Contents",
   "toc_cell": false,
   "toc_position": {},
   "toc_section_display": true,
   "toc_window_display": true
  },
  "varInspector": {
   "cols": {
    "lenName": 16,
    "lenType": 16,
    "lenVar": 40
   },
   "kernels_config": {
    "python": {
     "delete_cmd_postfix": "",
     "delete_cmd_prefix": "del ",
     "library": "var_list.py",
     "varRefreshCmd": "print(var_dic_list())"
    },
    "r": {
     "delete_cmd_postfix": ") ",
     "delete_cmd_prefix": "rm(",
     "library": "var_list.r",
     "varRefreshCmd": "cat(var_dic_list()) "
    }
   },
   "types_to_exclude": [
    "module",
    "function",
    "builtin_function_or_method",
    "instance",
    "_Feature"
   ],
   "window_display": false
  }
 },
 "nbformat": 4,
 "nbformat_minor": 5
}
