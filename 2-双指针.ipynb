{
 "cells": [
  {
   "cell_type": "markdown",
   "id": "6d54ef51",
   "metadata": {
    "toc": true
   },
   "source": [
    "<h1>Table of Contents<span class=\"tocSkip\"></span></h1>\n",
    "<div class=\"toc\"><ul class=\"toc-item\"><li><span><a href=\"#406-最小子数组\" data-toc-modified-id=\"406-最小子数组-1\"><span class=\"toc-item-num\">1&nbsp;&nbsp;</span>406 最小子数组</a></span><ul class=\"toc-item\"><li><span><a href=\"#前缀和-prefix-sum\" data-toc-modified-id=\"前缀和-prefix-sum-1.1\"><span class=\"toc-item-num\">1.1&nbsp;&nbsp;</span>前缀和 prefix sum</a></span><ul class=\"toc-item\"><li><span><a href=\"#普通-prefixSum-O(n^2)\" data-toc-modified-id=\"普通-prefixSum-O(n^2)-1.1.1\"><span class=\"toc-item-num\">1.1.1&nbsp;&nbsp;</span>普通 prefixSum O(n^2)</a></span></li><li><span><a href=\"#二分法-O(NlogN)\" data-toc-modified-id=\"二分法-O(NlogN)-1.1.2\"><span class=\"toc-item-num\">1.1.2&nbsp;&nbsp;</span>二分法 O(NlogN)</a></span></li></ul></li><li><span><a href=\"#同向双指针-O(2N)\" data-toc-modified-id=\"同向双指针-O(2N)-1.2\"><span class=\"toc-item-num\">1.2&nbsp;&nbsp;</span>同向双指针 O(2N)</a></span><ul class=\"toc-item\"><li><span><a href=\"#start-固定,-end-不断延长\" data-toc-modified-id=\"start-固定,-end-不断延长-1.2.1\"><span class=\"toc-item-num\">1.2.1&nbsp;&nbsp;</span>start 固定, end 不断延长</a></span></li><li><span><a href=\"#end-固定,-start-不断右移\" data-toc-modified-id=\"end-固定,-start-不断右移-1.2.2\"><span class=\"toc-item-num\">1.2.2&nbsp;&nbsp;</span>end 固定, start 不断右移</a></span></li></ul></li></ul></li><li><span><a href=\"#1375-至少k个不同字符的字串\" data-toc-modified-id=\"1375-至少k个不同字符的字串-2\"><span class=\"toc-item-num\">2&nbsp;&nbsp;</span>1375 至少k个不同字符的字串</a></span><ul class=\"toc-item\"><li><span><a href=\"#同向-单指针--O(N^2)\" data-toc-modified-id=\"同向-单指针--O(N^2)-2.1\"><span class=\"toc-item-num\">2.1&nbsp;&nbsp;</span>同向 单指针  O(N^2)</a></span></li><li><span><a href=\"#同向双指针-O(2N)\" data-toc-modified-id=\"同向双指针-O(2N)-2.2\"><span class=\"toc-item-num\">2.2&nbsp;&nbsp;</span>同向双指针 O(2N)</a></span></li></ul></li><li><span><a href=\"#substring-覆盖\" data-toc-modified-id=\"substring-覆盖-3\"><span class=\"toc-item-num\">3&nbsp;&nbsp;</span>substring 覆盖</a></span><ul class=\"toc-item\"><li><span><a href=\"#*32-简便答案\" data-toc-modified-id=\"*32-简便答案-3.1\"><span class=\"toc-item-num\">3.1&nbsp;&nbsp;</span>*32 简便答案</a></span></li><li><span><a href=\"#32-最小-substring-覆盖---time-在-set-那里太大了\" data-toc-modified-id=\"32-最小-substring-覆盖---time-在-set-那里太大了-3.2\"><span class=\"toc-item-num\">3.2&nbsp;&nbsp;</span>32 最小 substring 覆盖 - time 在 set 那里太大了</a></span></li><li><span><a href=\"#32-标准答案\" data-toc-modified-id=\"32-标准答案-3.3\"><span class=\"toc-item-num\">3.3&nbsp;&nbsp;</span>32 标准答案</a></span></li><li><span><a href=\"#*32-九章解法---固定-end-精简version\" data-toc-modified-id=\"*32-九章解法---固定-end-精简version-3.4\"><span class=\"toc-item-num\">3.4&nbsp;&nbsp;</span>*32 九章解法 - 固定 end 精简version</a></span></li><li><span><a href=\"#32-九章解法---固定-start-精简version\" data-toc-modified-id=\"32-九章解法---固定-start-精简version-3.5\"><span class=\"toc-item-num\">3.5&nbsp;&nbsp;</span>32 九章解法 - 固定 start 精简version</a></span></li><li><span><a href=\"#连续-最小-substring-覆盖---error\" data-toc-modified-id=\"连续-最小-substring-覆盖---error-3.6\"><span class=\"toc-item-num\">3.6&nbsp;&nbsp;</span>连续 最小 substring 覆盖 - error</a></span></li></ul></li><li><span><a href=\"#comprehension\" data-toc-modified-id=\"comprehension-4\"><span class=\"toc-item-num\">4&nbsp;&nbsp;</span>comprehension</a></span></li><li><span><a href=\"#1219-Heater-location\" data-toc-modified-id=\"1219-Heater-location-5\"><span class=\"toc-item-num\">5&nbsp;&nbsp;</span>1219 Heater location</a></span><ul class=\"toc-item\"><li><span><a href=\"#二分\" data-toc-modified-id=\"二分-5.1\"><span class=\"toc-item-num\">5.1&nbsp;&nbsp;</span>二分</a></span></li><li><span><a href=\"#*双指针最优-flag-version\" data-toc-modified-id=\"*双指针最优-flag-version-5.2\"><span class=\"toc-item-num\">5.2&nbsp;&nbsp;</span>*双指针最优 flag-version</a></span></li><li><span><a href=\"#双指针\" data-toc-modified-id=\"双指针-5.3\"><span class=\"toc-item-num\">5.3&nbsp;&nbsp;</span>双指针</a></span></li><li><span><a href=\"#九章模板\" data-toc-modified-id=\"九章模板-5.4\"><span class=\"toc-item-num\">5.4&nbsp;&nbsp;</span>九章模板</a></span></li></ul></li><li><span><a href=\"#386\" data-toc-modified-id=\"386-6\"><span class=\"toc-item-num\">6&nbsp;&nbsp;</span>386</a></span><ul class=\"toc-item\"><li><span><a href=\"#慢L1---固定-end\" data-toc-modified-id=\"慢L1---固定-end-6.1\"><span class=\"toc-item-num\">6.1&nbsp;&nbsp;</span>慢L1 - 固定 end</a></span></li><li><span><a href=\"#快L1---固定-end\" data-toc-modified-id=\"快L1---固定-end-6.2\"><span class=\"toc-item-num\">6.2&nbsp;&nbsp;</span>快L1 - 固定 end</a></span></li></ul></li></ul></div>"
   ]
  },
  {
   "cell_type": "markdown",
   "id": "4a2893eb",
   "metadata": {},
   "source": [
    "# 406 最小子数组"
   ]
  },
  {
   "cell_type": "code",
   "execution_count": 1,
   "id": "9b54aae4",
   "metadata": {
    "ExecuteTime": {
     "end_time": "2021-09-27T06:18:14.140629Z",
     "start_time": "2021-09-27T06:18:14.128629Z"
    }
   },
   "outputs": [
    {
     "data": {
      "text/plain": [
       "[1, 4, 7, 11, 12, 13, 15, 20, 25]"
      ]
     },
     "execution_count": 1,
     "metadata": {},
     "output_type": "execute_result"
    }
   ],
   "source": [
    "sorted([11,1,4,7,25,13,12,15,20])"
   ]
  },
  {
   "cell_type": "markdown",
   "id": "2b4b4960",
   "metadata": {},
   "source": [
    "## 前缀和 prefix sum \n"
   ]
  },
  {
   "cell_type": "code",
   "execution_count": 1,
   "id": "dba433d9",
   "metadata": {
    "ExecuteTime": {
     "end_time": "2021-09-22T23:15:35.286690Z",
     "start_time": "2021-09-22T23:15:35.283690Z"
    }
   },
   "outputs": [],
   "source": [
    "nums = [2, 3, 1, 2, 4, 3]\n",
    "s = 7"
   ]
  },
  {
   "cell_type": "markdown",
   "id": "ce8c75b4",
   "metadata": {},
   "source": [
    "### 普通 prefixSum O(n^2)"
   ]
  },
  {
   "cell_type": "code",
   "execution_count": 2,
   "id": "72bfdc59",
   "metadata": {
    "ExecuteTime": {
     "end_time": "2021-09-22T23:15:35.397695Z",
     "start_time": "2021-09-22T23:15:35.378689Z"
    }
   },
   "outputs": [
    {
     "data": {
      "text/plain": [
       "2"
      ]
     },
     "execution_count": 2,
     "metadata": {},
     "output_type": "execute_result"
    }
   ],
   "source": [
    "class Solution:\n",
    "    \"\"\"\n",
    "    @param nums: an array of integers\n",
    "    @param s: An integer\n",
    "    @return: an integer representing the minimum size of subarray\n",
    "    \"\"\"\n",
    "\n",
    "    def minimumSize(self, nums, s):\n",
    "        # write your code here\n",
    "        min_len = float('inf')\n",
    "        n = len(nums)\n",
    "        prefix_sum = self.prefixSum(nums)\n",
    "\n",
    "        if s > prefix_sum[-1]:\n",
    "            return -1\n",
    "\n",
    "        for start in range(n):\n",
    "            for end in range(start, n):\n",
    "                if prefix_sum[end+1] - prefix_sum[start] >= s:\n",
    "                    min_len = min(end + 1 - start, min_len) # 这样就不需要 判断 if min_len>end+1-start, min_len = end+1-start 了 \n",
    "                    break\n",
    "\n",
    "        if min_len == float('inf'):\n",
    "            return -1\n",
    "\n",
    "        return min_len\n",
    "\n",
    "    def prefixSum(self, nums):\n",
    "        prefix_sum = [0]\n",
    "        for i in nums:\n",
    "            prefix_sum.append(prefix_sum[-1]+i)\n",
    "        return prefix_sum\n",
    "\n",
    "\n",
    "Solution().minimumSize(nums, s)"
   ]
  },
  {
   "cell_type": "markdown",
   "id": "0bbde0d9",
   "metadata": {
    "ExecuteTime": {
     "end_time": "2021-09-21T21:19:02.018130Z",
     "start_time": "2021-09-21T21:19:02.016129Z"
    }
   },
   "source": [
    "### 二分法 O(NlogN)"
   ]
  },
  {
   "cell_type": "code",
   "execution_count": 3,
   "id": "d2506f62",
   "metadata": {
    "ExecuteTime": {
     "end_time": "2021-09-22T23:15:35.524690Z",
     "start_time": "2021-09-22T23:15:35.508691Z"
    }
   },
   "outputs": [
    {
     "data": {
      "text/plain": [
       "2"
      ]
     },
     "execution_count": 3,
     "metadata": {},
     "output_type": "execute_result"
    }
   ],
   "source": [
    "class Solution:\n",
    "    \"\"\"\n",
    "    @param nums: an array of integers\n",
    "    @param s: An integer\n",
    "    @return: an integer representing the minimum size of subarray\n",
    "    @start end: 指的是原数组的下标\n",
    "    @left right: 指的是 prefix_sum 的下标\n",
    "    \"\"\"\n",
    "\n",
    "    def minimumSize(self, nums, s):\n",
    "        # write your code here\n",
    "        min_len = float('inf')\n",
    "        n = len(nums)\n",
    "        prefix_sum = self.prefixSum(nums)\n",
    "        if s > prefix_sum[-1]:\n",
    "            return -1\n",
    "\n",
    "        for start in range(n): # O(N)\n",
    "            # 可行解分组\n",
    "            # end = left most or start\n",
    "            end = self.getEndOfSubarray(start, s, prefix_sum)\n",
    "            if prefix_sum[end+1] - prefix_sum[start] >= s:   # end+1 减去 start 才是 原数组的下标\n",
    "                min_len = min(end + 1 - start, min_len)\n",
    "\n",
    "        if min_len == float('inf'):\n",
    "            return -1\n",
    "\n",
    "        return min_len\n",
    "\n",
    "    def prefixSum(self, nums):\n",
    "        prefix_sum = [0]\n",
    "        for i in nums:\n",
    "            prefix_sum.append(prefix_sum[-1]+i)\n",
    "        return prefix_sum\n",
    "\n",
    "    def getEndOfSubarray(self, start, s, prefix_sum): # O(logN)\n",
    "        # start 一直没改变, 改变的是 left 和 right 两个指针\n",
    "        # 这个二分法 考虑的是从 start 到 left 和 right 的东西, 是个双指针, 而不是单纯的 通过 left 和 right 两个指针定位. \n",
    "        \n",
    "\n",
    "        left = start\n",
    "        # 这个指针为什么要减2? 他减去2 确实就是原来的数组 index. 0~length-1\n",
    "        right = len(prefix_sum) - 2\n",
    "\n",
    "        while (left + 1 < right):\n",
    "            \n",
    "            # 这样写更好理解 , 因为是 从 left 开始, 然后加上 right-left 的中点.\n",
    "            mid = left + int((right - left)/2) # 这里应该无所谓考虑 Int 上下限\n",
    "    #         mid = int((right+ left)/2) # 如果直接写成  int((right + left)/2), 那要想清楚他们求和 的东西是什么, 是overlap 的东西\n",
    "            # 左侧的数字求和 比 s 要大, 则 缩小搜索范围, right = mid\n",
    "            if prefix_sum[mid+1] - prefix_sum[start] >= s:\n",
    "                right = mid  # 更新 right 为 end\n",
    "            else:  # 右侧, 则需要 增大搜索范围 update left 的点, 从而右移 update mid 的坐标.\n",
    "                left = mid\n",
    "    #         print(left,'--' ,right)\n",
    "\n",
    "    #     # 如果这个得不到满足,意味着 left 从来没被更新过 那自然 只能return left\n",
    "        if prefix_sum[left+1] - prefix_sum[start] >= s:\n",
    "            return left\n",
    "        return right\n",
    "\n",
    "#         if left == start:\n",
    "#             left = right\n",
    "#         return left\n",
    "\n",
    "\n",
    "Solution().minimumSize(nums, s)"
   ]
  },
  {
   "cell_type": "code",
   "execution_count": 4,
   "id": "bfaaba17",
   "metadata": {
    "ExecuteTime": {
     "end_time": "2021-09-22T23:15:35.531689Z",
     "start_time": "2021-09-22T23:15:35.526691Z"
    }
   },
   "outputs": [],
   "source": [
    "def err_v_getEndOfSubarray(start, end, s, prefix_sum):\n",
    "    \n",
    "    if end == len(prefix_sum):\n",
    "        return float('inf')\n",
    "\n",
    "    mid =start+ int((end - start)/2)\n",
    "    if prefix_sum[end]:\n",
    "        print(mid)\n",
    "\n",
    "    if prefix_sum[mid] < s:  # 右侧\n",
    "        end = getEndOfSubarray(mid, end, s, prefix_sum)\n",
    "    else:  # 左侧\n",
    "        end = getEndOfSubarray(start, mid, s, prefix_sum)\n",
    "    return end"
   ]
  },
  {
   "cell_type": "code",
   "execution_count": null,
   "id": "af5c985a",
   "metadata": {},
   "outputs": [],
   "source": []
  },
  {
   "cell_type": "markdown",
   "id": "db7d75fb",
   "metadata": {},
   "source": [
    "## 同向双指针 O(2N)"
   ]
  },
  {
   "cell_type": "markdown",
   "id": "070b5ea1",
   "metadata": {},
   "source": [
    "- 固定起点, 不断往后面找end, 延长end之类的\n",
    "```python\n",
    "end = 0\n",
    "for start in range(0, len-1):\n",
    "    while end < len and func(start, end):  # 不满足条件：\n",
    "        process_sub()\n",
    "        end += 1  # （越界也有可能）\n",
    "    if func(start, end):  # 满足条件：\n",
    "        process_sub2()\n",
    "        pass  # 处理当前的 func(start, end)\n",
    "\n",
    "    # 越界 则返回 -1\n",
    "\n",
    "    ```\n",
    "- 也不可以解决负数的 list 问题\n",
    "    - 找反例\n",
    "    - [5, -1, 5, 5], s=7\n",
    "    - [4, -1, 2, 5], s=7 会返回4"
   ]
  },
  {
   "cell_type": "markdown",
   "id": "9c6f7544",
   "metadata": {},
   "source": [
    "### start 固定, end 不断延长"
   ]
  },
  {
   "cell_type": "code",
   "execution_count": 5,
   "id": "06a704f2",
   "metadata": {
    "ExecuteTime": {
     "end_time": "2021-09-22T23:15:35.837688Z",
     "start_time": "2021-09-22T23:15:35.823689Z"
    }
   },
   "outputs": [
    {
     "name": "stdout",
     "output_type": "stream",
     "text": [
      "[2, 3, 1, 2, 4, 3]\n",
      "[2, 3, 1, 2]\n",
      "[3, 1, 2, 4]\n",
      "[1, 2, 4]\n",
      "[2, 4, 3]\n",
      "[4, 3]\n",
      "[3]\n"
     ]
    },
    {
     "data": {
      "text/plain": [
       "2"
      ]
     },
     "execution_count": 5,
     "metadata": {},
     "output_type": "execute_result"
    }
   ],
   "source": [
    "class Solution:\n",
    "    \"\"\"\n",
    "    @param nums: an array of integers\n",
    "    @param s: An integer\n",
    "    @return: an integer representing the minimum size of subarray\n",
    "    \"\"\"\n",
    "\n",
    "    def minimumSize(self, nums, s):\n",
    "        '''\n",
    "        同向双指针, 因为不停的共同向右边移动, \n",
    "        但是必须满足 左侧指针 不停的pop\n",
    "\n",
    "        '''\n",
    "        # write your code here\n",
    "        if nums is None or len(nums) == 0:\n",
    "            return -1\n",
    "        \n",
    "        print(nums) # print 也会消耗内存\n",
    "        min_len = float('inf')\n",
    "        n = len(nums)\n",
    "\n",
    "        end = 0\n",
    "        sub_sum = 0\n",
    "\n",
    "        for start in range(n):\n",
    "            while end < n and sub_sum < s:\n",
    "                sub_sum += nums[end]\n",
    "                end += 1\n",
    "            if sub_sum >= s:  # 避免越界, 必须再次检验\n",
    "                min_len = min(min_len, end - start) # 为什么是 end - start. 因为上面已经有 end +=1 了\n",
    "            print(nums[start:end]) # print 也会消耗内存\n",
    "            sub_sum -= nums[start]  # 因为每个都大于0, 所以减去第一个开头的, 就行了\n",
    "\n",
    "        if min_len == float('inf'):\n",
    "            return -1\n",
    "\n",
    "        return min_len\n",
    "\n",
    "\n",
    "Solution().minimumSize(nums, s)"
   ]
  },
  {
   "cell_type": "markdown",
   "id": "7164d8bb",
   "metadata": {},
   "source": [
    "### end 固定, start 不断右移"
   ]
  },
  {
   "cell_type": "code",
   "execution_count": 6,
   "id": "30cf10d5",
   "metadata": {
    "ExecuteTime": {
     "end_time": "2021-09-22T23:15:35.935689Z",
     "start_time": "2021-09-22T23:15:35.925690Z"
    }
   },
   "outputs": [
    {
     "name": "stdout",
     "output_type": "stream",
     "text": [
      "[2, 3, 1, 2, 4, 3]\n",
      "inf\n",
      "inf\n",
      "inf\n",
      "[3, 1]\n",
      "4\n",
      "[1, 2]\n",
      "[2]\n",
      "3\n",
      "[4]\n",
      "[]\n",
      "2\n"
     ]
    },
    {
     "data": {
      "text/plain": [
       "2"
      ]
     },
     "execution_count": 6,
     "metadata": {},
     "output_type": "execute_result"
    }
   ],
   "source": [
    "class Solution: # 确定end 找 start\n",
    "    \"\"\"\n",
    "    @param nums: an array of integers\n",
    "    @param s: An integer\n",
    "    @return: an integer representing the minimum size of subarray\n",
    "    \"\"\"\n",
    "\n",
    "    def minimumSize(self, nums, s):\n",
    "        '''\n",
    "        同向双指针, 因为不停的共同向右边移动, \n",
    "        但是必须满足 左侧指针 不停的pop\n",
    "\n",
    "        '''\n",
    "        # write your code here\n",
    "        if nums is None or len(nums) == 0:\n",
    "            return -1\n",
    "        \n",
    "        print(nums) # print 也会消耗内存\n",
    "        min_len = float('inf')\n",
    "        n = len(nums)\n",
    "\n",
    "        start = 0\n",
    "        sub_sum = 0\n",
    "\n",
    "        for end in range(n):\n",
    "            sub_sum += nums[end]\n",
    "            while start < n and sub_sum >= s:\n",
    "                min_len = min(min_len, end - start+1) # 为什么是 end - start. 因为上面已经有 end +=1 了\n",
    "                sub_sum -= nums[start]\n",
    "                start += 1\n",
    "                print(nums[start:end]) # print 也会消耗内存\n",
    "            print(min_len)\n",
    "\n",
    "        if min_len == float('inf'):\n",
    "            return -1\n",
    "\n",
    "        return min_len\n",
    "\n",
    "\n",
    "Solution().minimumSize(nums, s)"
   ]
  },
  {
   "cell_type": "markdown",
   "id": "af42a1b0",
   "metadata": {},
   "source": [
    "# 1375 至少k个不同字符的字串\n",
    "- substring 是连续的\n",
    "- 怎么转换为最短\n",
    "    - 找到最短的那个, 如果满足条件, 那么后面的都满足条件\n",
    "    - 然后就直接 sum 就行"
   ]
  },
  {
   "cell_type": "markdown",
   "id": "1e4d5e66",
   "metadata": {
    "ExecuteTime": {
     "end_time": "2021-09-22T02:29:26.286527Z",
     "start_time": "2021-09-22T02:29:26.282526Z"
    }
   },
   "source": [
    "## 同向 单指针  O(N^2)"
   ]
  },
  {
   "cell_type": "code",
   "execution_count": 7,
   "id": "3723aef7",
   "metadata": {
    "ExecuteTime": {
     "end_time": "2021-09-22T23:15:36.125691Z",
     "start_time": "2021-09-22T23:15:36.123691Z"
    }
   },
   "outputs": [],
   "source": [
    "\n",
    "s = \"abcabcabcabc\"\n",
    "k = 3"
   ]
  },
  {
   "cell_type": "code",
   "execution_count": 8,
   "id": "ff4bdac3",
   "metadata": {
    "ExecuteTime": {
     "end_time": "2021-09-22T23:15:36.137688Z",
     "start_time": "2021-09-22T23:15:36.127690Z"
    }
   },
   "outputs": [
    {
     "data": {
      "text/plain": [
       "55"
      ]
     },
     "execution_count": 8,
     "metadata": {},
     "output_type": "execute_result"
    }
   ],
   "source": [
    "class Solution:\n",
    "    \"\"\"\n",
    "    @param s: a string\n",
    "    @param k: an integer\n",
    "    @return: the number of substrings there are that contain at least k distinct characters\n",
    "    \"\"\"\n",
    "\n",
    "    def kDistinctCharacters(self, s, k):\n",
    "        # write your code here\n",
    "        if s is None or len(s) <= k:\n",
    "            return -1\n",
    "\n",
    "        sub_count = 0\n",
    "        n = len(s)\n",
    "        for start in range(n):\n",
    "            # 最好是用一个变量 记住 unique set 的大小, 然后增加条件 判断 增减. 不然 len(set())的开销太大了\n",
    "            # 这个写法 每个 start loop 都要重新 创建一个 set\n",
    "            s_set = set() \n",
    "            end = start  # 这是 O(N^2)\n",
    "            while end < n and len(s_set) < k: \n",
    "                # 以start为起点, 最小满足unique set的 end 点在哪里, 这个最小子集 之后 的所有集合 都能加进来\n",
    "                s_set.add(s[end])\n",
    "                end += 1\n",
    "\n",
    "            if len(s_set) == k: # 判断溢出条件\n",
    "#             if end - start >= k:  # 这个不能判断溢出条件, 因为前面可能是 end == n了, 那样的话, end - start 一定大于k. 每一个 [start_i, n] 大于 4 的combination 都会被计算, 所以13-4 =9\n",
    "                # (n-1) 表示 最后一个index, end-1表示结束的时候的index, 两个idx 做差要加1\n",
    "                sub_count += (n-1) - (end-1) + 1\n",
    "\n",
    "        return sub_count\n",
    "\n",
    "Solution().kDistinctCharacters(s, k)"
   ]
  },
  {
   "cell_type": "markdown",
   "id": "fb6f73be",
   "metadata": {},
   "source": [
    "## 同向双指针 O(2N)\n",
    "- 不能用set完成\n",
    "- 一定只能用 hashmap 来储存, 并且要有记录 pop start 和 add end\n"
   ]
  },
  {
   "cell_type": "code",
   "execution_count": 9,
   "id": "b2218e9e",
   "metadata": {
    "ExecuteTime": {
     "end_time": "2021-09-22T23:15:36.242700Z",
     "start_time": "2021-09-22T23:15:36.230701Z"
    }
   },
   "outputs": [
    {
     "data": {
      "text/plain": [
       "55"
      ]
     },
     "execution_count": 9,
     "metadata": {},
     "output_type": "execute_result"
    }
   ],
   "source": [
    "class Solution:\n",
    "    \"\"\"\n",
    "    @param s: a string\n",
    "    @param k: an integer\n",
    "    @return: the number of substrings there are that contain at least k distinct characters\n",
    "    \"\"\"\n",
    "\n",
    "    def kDistinctCharacters(self, s, k):\n",
    "        # write your code here\n",
    "        if s is None or len(s) <= k:\n",
    "            return -1\n",
    "\n",
    "        sub_count = 0\n",
    "        char_count = [0] * 26\n",
    "        n = len(s)\n",
    "        end = 0\n",
    "        unique_len = 0\n",
    "        for start in range(n):\n",
    "            while end < n and unique_len < k:\n",
    "                end_idx = ord(s[end]) - ord('a')  # end 要准备右移, 所以要提前把 end 对应的index 减去. \n",
    "                char_count[end_idx] += 1\n",
    "                end +=1\n",
    "                \n",
    "                if char_count[end_idx] == 1:\n",
    "                    unique_len += 1\n",
    "\n",
    "            if unique_len == k: # 判断溢出条件\n",
    "                sub_count += (n-1) - (end-1) + 1\n",
    "            \n",
    "            \n",
    "            start_idx = ord(s[start]) - ord('a') # start 要准备右移, 所以要提前把 start 对应的index 减去. \n",
    "            char_count[start_idx] -= 1 # 用这样的 hash map 就不需要 重新统计 set 的大小, 因为这样就快了?\n",
    "            if char_count[start_idx] == 0:\n",
    "                unique_len -= 1\n",
    "                \n",
    "        return sub_count\n",
    "\n",
    "Solution().kDistinctCharacters(s, k)"
   ]
  },
  {
   "cell_type": "code",
   "execution_count": null,
   "id": "7a898e80",
   "metadata": {},
   "outputs": [],
   "source": []
  },
  {
   "cell_type": "code",
   "execution_count": null,
   "id": "f0b16b80",
   "metadata": {},
   "outputs": [],
   "source": []
  },
  {
   "cell_type": "markdown",
   "id": "9042bf4c",
   "metadata": {},
   "source": [
    "# substring 覆盖\n",
    "- 因为不要求连续存在, 所以这里不能直接 t_set.items() == (char_set.items() & t_set.items())\n",
    "- all([char_set[i] >= tt_set[i] for i in range(26)])\n",
    "- \n",
    "        如果用all或者any这样的pythonic写法，会先生成一个[True, False, True, ...] 数组，无法剪枝。\n",
    "        比如这个例子里面，第二个就是False，直接返回就完事，但是用了all要跑满一个O(n)的时间。\n",
    "        换成一般的for之后可以AC。\n",
    "- "
   ]
  },
  {
   "cell_type": "markdown",
   "id": "1df3f2e9",
   "metadata": {
    "ExecuteTime": {
     "end_time": "2021-09-22T21:17:51.408829Z",
     "start_time": "2021-09-22T21:17:51.406828Z"
    }
   },
   "source": [
    "## *32 简便答案\n",
    "- 固定 end, 移动 start\n",
    "- 写起来更简洁"
   ]
  },
  {
   "cell_type": "code",
   "execution_count": 121,
   "id": "de55fee9",
   "metadata": {
    "ExecuteTime": {
     "end_time": "2021-09-23T00:47:19.479241Z",
     "start_time": "2021-09-23T00:47:19.465241Z"
    }
   },
   "outputs": [
    {
     "name": "stdout",
     "output_type": "stream",
     "text": [
      "0 0 a\n",
      "0 1 ad\n",
      "0 2 ado\n",
      "0 3 adob\n",
      "0 4 adobe\n",
      "0 5 adobec\n",
      "1 5 dobec\n",
      "1 6 dobeco\n",
      "1 7 dobecod\n",
      "1 8 dobecode\n",
      "1 9 dobecodeb\n",
      "1 10 dobecodeba\n",
      "2 10 obecodeba\n",
      "3 10 becodeba\n",
      "4 10 ecodeba\n",
      "5 10 codeba\n",
      "6 10 odeba\n",
      "6 11 odeban\n",
      "6 12 odebanc\n",
      "7 12 debanc\n",
      "8 12 ebanc\n",
      "9 12 banc\n",
      "10 12 anc\n",
      "11 12 nc\n"
     ]
    },
    {
     "data": {
      "text/plain": [
       "'anc'"
      ]
     },
     "execution_count": 121,
     "metadata": {},
     "output_type": "execute_result"
    }
   ],
   "source": [
    "class Solution:\n",
    "    \"\"\"\n",
    "    @param source : A string\n",
    "    @param target: A string\n",
    "    @return: A string denote the minimum window, return \"\" if there is no such a string\n",
    "    \"\"\"\n",
    "\n",
    "    def minWindow(self, source, target):\n",
    "        # write your code here\n",
    "        s = collections.Counter(source)\n",
    "        t = collections.Counter(target)\n",
    "        if any(s[x] < t[x] for x in s):\n",
    "            return \"\"\n",
    "\n",
    "        res = source\n",
    "        start = 0\n",
    "        count = collections.defaultdict(int)\n",
    "        for end, v in enumerate(source): # 刚开始因为不满足条件, 所以 end 会不断右移.  \n",
    "            # end 直到第一次满足条件, 开始尝试缩减 start, 记录最短的 res\n",
    "            # 然后当缩减 start的时候, 导致不满足的时候, end 开始继续增加\n",
    "            count[v] += 1\n",
    "            # 当最新的count的数量 是否都大于 target, 如果是则记录res, 从end到 start, 如果不是, 则start 右移, 直到start 追上 end, end 要继续往后移动\n",
    "            while start <= end and all([t[x] <= count[x] for x in t]):\n",
    "                res = source[start:end+1] if end-start+1 < len(res) else res\n",
    "                print(start, end, source[start:end+1])\n",
    "                count[source[start]] -= 1\n",
    "                start += 1\n",
    "            print(start, end, source[start:end+1])\n",
    "\n",
    "        return res\n",
    "    \n",
    "import collections\n",
    "# source = 'abc'\n",
    "source = \"adobecodebanc\"\n",
    "target = \"ac\"\n",
    "Solution().minWindow(source, target)\n"
   ]
  },
  {
   "cell_type": "code",
   "execution_count": null,
   "id": "824d32f7",
   "metadata": {},
   "outputs": [],
   "source": []
  },
  {
   "cell_type": "markdown",
   "id": "590e0193",
   "metadata": {},
   "source": [
    "## 32 最小 substring 覆盖 - time 在 set 那里太大了\n",
    "``` python\n",
    "- source[0: len(source)] \n",
    "- len(source[start: end]) = end - start\n",
    "- source[len(source)-1]\n",
    "- 一定注意  while end < n 的时候, end不能等于n, 从而判断条件不会进行更新\n",
    "```"
   ]
  },
  {
   "cell_type": "code",
   "execution_count": 116,
   "id": "fb3cd88a",
   "metadata": {
    "ExecuteTime": {
     "end_time": "2021-09-23T00:46:09.700981Z",
     "start_time": "2021-09-23T00:46:09.649066Z"
    }
   },
   "outputs": [
    {
     "data": {
      "text/plain": [
       "''"
      ]
     },
     "execution_count": 116,
     "metadata": {},
     "output_type": "execute_result"
    }
   ],
   "source": [
    "class Solution:\n",
    "    \"\"\"\n",
    "    @param source : A string\n",
    "    @param target: A string\n",
    "    @return: A string denote the minimum window, return \"\" if there is no such a string\n",
    "    \"\"\"\n",
    "\n",
    "    def minWindow(self, source, target):\n",
    "        # write your code here\n",
    "\n",
    "        n = len(source)\n",
    "        t_set = {ord(i)-ord(' '): target.count(i) for i in target}\n",
    "        span_set = [0] * 128\n",
    "        target_set = span_set.copy()\n",
    "        for k, v in t_set.items():\n",
    "            target_set[k] = v\n",
    "        min_str = source + ' '\n",
    "        end = 0\n",
    "\n",
    "        for start in range(n):\n",
    "            while end < n and any([span_set[i] < target_set[i] for i in range(128)]): # 只要有一个小于, 则end 右移\n",
    "                span_set[ord(source[end]) - ord(' ')] += 1\n",
    "                end += 1\n",
    "\n",
    "            if all([span_set[i] >= target_set[i] for i in range(128)]) and (end)-start < len(min_str):\n",
    "                min_str = source[start: end]\n",
    "                \n",
    "            span_set[ord(source[start]) - ord(' ')] -= 1\n",
    "\n",
    "        if len(min_str) > n:\n",
    "            return \"\"\n",
    "\n",
    "        return min_str\n",
    "\n",
    "\n",
    "source = 'kgfidhktkjhlkbgjkylgdracfzjduycghkomrbfbkoowqwgaurizliesjnveoxmvjdjaepdqftmvsuyoogobrutahogxnvuxyezevfuaaiyufwjtezuxtpycfgasburzytdvazwakuxpsiiyhewctwgycgsgdkhdfnzfmvhwrellmvjvzfzsdgqgolorxvxciwjxtqvmxhxlcijeqiytqrzfcpyzlvbvrksmcoybxxpbgyfwgepzvrezgcytabptnjgpxgtweiykgfiolxniqthzwfswihpvtxlseepkopwuueiidyquratphnnqxflqcyiiezssoomlsxtyxlsolngtctjzywrbvajbzeuqsiblhwlehfvtubmwuxyvvpwsrhutlojgwktegekpjfidgwzdvxyrpwjgfdzttizquswcwgshockuzlzulznavzgdegwyovqlpmnluhsikeflpghagvcbujeapcyfxosmcizzpthbzompvurbrwenflnwnmdncwbfebevwnzwclnzhgcycglhtbfjnjwrfxwlacixqhvuvivcoxdrfqazrgigrgywdwjgztfrbanwiiayhdrmuunlcxstdsrjoapntugwutuedvemyyzusogumanpueyigpybjeyfasjfpqsqotkgjqaxspnmvnxbfvcobcudxflmvfcjanrjfthaiwofllgqglhkndpmiazgfdrfsjracyanwqsjcbakmjubmmowmpeuuwznfspjsryohtyjuawglsjxezvroallymafhpozgpqpiqzcsxkdptcutxnjzawxmwctltvtiljsbkuthgwwbyswxfgzfewubbpowkigvtywdupmankbndyligkqkiknjzchkmnfflekfvyhlijynjlwrxodgyrrxvzjhoroavahsapdiacwjpucnifviyohtprceksefunzucdfchbnwxplhxgpvxwrmpvqzowgimgdolirslgqkycrvkgshejuuhmvvlcdxkinvqg'\n",
    "# source = \"adobecodebanc\"\n",
    "target = \"sehoeyslmrsxseyxdkpnanapjjfophmhnwxswpdijxhbbiyhspwudwlofsewztdprchnsmxbkhenpcujuqdxoqntjspkluzcxirrvouhvyukcptwhytwpjrybjiofksesjvnzpuvnrhqidmpbinsrhsusbixlccflztmppjegruoujgxrvqkckgulquysyefxzrmqbrxunnqwtnprfbtqhqdxmerkkwjloybrraleobdjquayywqfovfazymlvvwlvacmaptoswaksciqyyymwfmvdajywflrfpggezwyvyjpbrgzsgoolclodupzcasjqyruxovuoempvurpahfljtbmpqnrtibjgsfgiaczeqqckjtkqzxauzojrcdkkgtsabajbfkivakikfscgscattmkvpvhvqbvtcgvjqfetrofwhhdbmfufrecgbjdumbnohkxapevguafbjiexnyehdipgttcguqudcufsaaaucfyopcnfdsmiadowwrcsjyylsdfugirkppyftmmwgaeidvecogwzfukzaswgcnqreryzfmwlmcvszcuniqmplzrltntvcjogcpfhbduqiqihscvcujuhilubanyczpibepjhvdxdvhkplhsgronbzidzxdbwslyycjixofckpnbawvgpjwrigwjdzmauzauclcbzkelztnzpkifugyemuopvcrrctmgeqhgalrbegdurlbntzrftfwqkoimhwsomzuplnqrwtlngoazntgizdbjrjxahpqtqkidybvwwijfxlemenxfqyqhjpjsganxmwamzxivgtafehtlwqsmqlvbaethghgtfgfggodmjetqnmbjdvxvgsxjyssfbyaigfomvsyfyrvneyyjvvgenfnlyhsbfsklayyxsyeqsbdyzbhxypbnvqztxtwemgpohplzqqqirvgtzpqxetlzlmukfrotxfhevvgnlwvetdzssrsykdyxruhylvslbbrywxljvioplnhfhzdredpxyy\"\n",
    "Solution().minWindow(source, target)"
   ]
  },
  {
   "cell_type": "code",
   "execution_count": null,
   "id": "a7e7c991",
   "metadata": {},
   "outputs": [],
   "source": []
  },
  {
   "cell_type": "markdown",
   "id": "f4370e10",
   "metadata": {},
   "source": [
    "## 32 标准答案\n",
    "- 同向双指针，不同之处是，这里右指针是主指针。\n",
    "\n",
    "这里其他同学重复多遍的用左主指针的解的原理是，右指针快速前进找到足够的字符，然后，左指针不管不顾匀速前进，右指针辛苦找到的字符集就可能会不够了，还得再接着找。\n",
    "\n",
    "这个右指针是主指针的原理是，右指针不管不顾匀速前进，在涵盖了要求的字符集之后，左指针投机一下，看能不能往前移而不破坏已满足的要求。\n",
    "\n",
    "以左指针为主的解是九章教的模版，一般人用那个就对了。看看这个可以做个参考，扩展一下思路。"
   ]
  },
  {
   "cell_type": "code",
   "execution_count": 118,
   "id": "f1f69876",
   "metadata": {
    "ExecuteTime": {
     "end_time": "2021-09-23T00:46:31.571011Z",
     "start_time": "2021-09-23T00:46:31.554013Z"
    }
   },
   "outputs": [
    {
     "data": {
      "text/plain": [
       "''"
      ]
     },
     "execution_count": 118,
     "metadata": {},
     "output_type": "execute_result"
    }
   ],
   "source": [
    "class Solution:\n",
    "    \n",
    "    def minWindow(self, source, target):\n",
    "        \n",
    "        s_map, t_map = [0] * 128, {c:0 for c in target}\n",
    "        for c in target:\n",
    "            t_map[c] += 1 \n",
    "            \n",
    "        t_total = len(target)\n",
    "        lo, hi, count = -1, 0, 0\n",
    "        i = 0\n",
    "        for j, c in enumerate(source, 1):\n",
    "            if c in target and s_map[ord(c)] < t_map[c]:\n",
    "                count += 1  # 如果计数 比较小, 则\n",
    "            s_map[ord(c)] += 1 \n",
    "            \n",
    "            if count == t_total:\n",
    "                c = source[i]\n",
    "                while i < j and (not c in t_map or s_map[ord(c)] > t_map[c]):\n",
    "                    s_map[ord(c)] -= 1 \n",
    "                    i += 1 \n",
    "                    c = source[i]\n",
    "                if not hi or j - i < hi - lo:\n",
    "                    lo, hi = i, j \n",
    "                    \n",
    "        return source[lo:hi]\n",
    "    \n",
    "\n",
    "source = 'kgfidhktkjhlkbgjkylgdracfzjduycghkomrbfbkoowqwgaurizliesjnveoxmvjdjaepdqftmvsuyoogobrutahogxnvuxyezevfuaaiyufwjtezuxtpycfgasburzytdvazwakuxpsiiyhewctwgycgsgdkhdfnzfmvhwrellmvjvzfzsdgqgolorxvxciwjxtqvmxhxlcijeqiytqrzfcpyzlvbvrksmcoybxxpbgyfwgepzvrezgcytabptnjgpxgtweiykgfiolxniqthzwfswihpvtxlseepkopwuueiidyquratphnnqxflqcyiiezssoomlsxtyxlsolngtctjzywrbvajbzeuqsiblhwlehfvtubmwuxyvvpwsrhutlojgwktegekpjfidgwzdvxyrpwjgfdzttizquswcwgshockuzlzulznavzgdegwyovqlpmnluhsikeflpghagvcbujeapcyfxosmcizzpthbzompvurbrwenflnwnmdncwbfebevwnzwclnzhgcycglhtbfjnjwrfxwlacixqhvuvivcoxdrfqazrgigrgywdwjgztfrbanwiiayhdrmuunlcxstdsrjoapntugwutuedvemyyzusogumanpueyigpybjeyfasjfpqsqotkgjqaxspnmvnxbfvcobcudxflmvfcjanrjfthaiwofllgqglhkndpmiazgfdrfsjracyanwqsjcbakmjubmmowmpeuuwznfspjsryohtyjuawglsjxezvroallymafhpozgpqpiqzcsxkdptcutxnjzawxmwctltvtiljsbkuthgwwbyswxfgzfewubbpowkigvtywdupmankbndyligkqkiknjzchkmnfflekfvyhlijynjlwrxodgyrrxvzjhoroavahsapdiacwjpucnifviyohtprceksefunzucdfchbnwxplhxgpvxwrmpvqzowgimgdolirslgqkycrvkgshejuuhmvvlcdxkinvqg '\n",
    "# source = \"adobecodebanc\"\n",
    "target = \"ac\"\n",
    "Solution().minWindow(source, target)\n"
   ]
  },
  {
   "cell_type": "code",
   "execution_count": null,
   "id": "1a14b4b5",
   "metadata": {},
   "outputs": [],
   "source": []
  },
  {
   "cell_type": "markdown",
   "id": "91040c8b",
   "metadata": {},
   "source": [
    "## *32 九章解法 - 固定 end 精简version"
   ]
  },
  {
   "cell_type": "code",
   "execution_count": 164,
   "id": "0b7ac5a5",
   "metadata": {
    "ExecuteTime": {
     "end_time": "2021-09-23T01:24:49.158653Z",
     "start_time": "2021-09-23T01:24:49.142033Z"
    }
   },
   "outputs": [
    {
     "data": {
      "text/plain": [
       "'abc'"
      ]
     },
     "execution_count": 164,
     "metadata": {},
     "output_type": "execute_result"
    }
   ],
   "source": [
    "class Solution:\n",
    "\n",
    "    def minWindow(self, source, target):\n",
    "        version = 1 # v2会更快点\n",
    "        # outlier\n",
    "        if len(target) == 0 or len(source) == 0 or len(target) > len(source):\n",
    "            return ''\n",
    "\n",
    "        # init\n",
    "        target_counter = {}\n",
    "        span_counter = {}\n",
    "        min_str = source + 'a'\n",
    "        match_char = 0\n",
    "\n",
    "        l_t, l_s = len(target), len(source)\n",
    "        for i, v in enumerate(target):\n",
    "            target_counter[v] = target_counter.get(v, 0) + 1\n",
    "\n",
    "        start = 0\n",
    "        for end in range(l_s):  # start 指针固定,\n",
    "            span_counter[source[end]] = span_counter.get(source[end], 0) + 1\n",
    "            if span_counter[source[end]] == target_counter.get(source[end], 0):\n",
    "                match_char += 1\n",
    "                \n",
    "            while start <= end and match_char == len(target_counter):\n",
    "                min_str = min_str if len(min_str) < end-start+1 else source[start: end+1]\n",
    "                \n",
    "                #### type 1\n",
    "                if version == 1:\n",
    "                    if span_counter[source[start]] == target_counter.get(source[start], 0): #  span_counter 如果等于 target_counter, 则这个 pop 需要让match - 1\n",
    "                        match_char -= 1\n",
    "                    span_counter[source[start]] = span_counter.get(source[start], 0) - 1 # span_counter 从左侧 pop start 元素                    \n",
    "                \n",
    "                #### type 2\n",
    "                if version == 2:\n",
    "                    span_counter[source[start]] = span_counter.get(source[start], 0) - 1 # span_counter 从左侧 pop start 元素\n",
    "                    if span_counter[source[start]]+1 == target_counter.get(source[start], 0): #  span_counter 如果等于 target_counter, 则这个 pop 需要让match - 1\n",
    "                        match_char -= 1\n",
    "                    \n",
    "                start +=1 \n",
    "\n",
    "        if len(min_str) > l_s:\n",
    "            return ''\n",
    "\n",
    "        return min_str\n",
    "\n",
    "\n",
    "# source = 'kgfidhktkjhlkbgjkylgdracfzjduycghkomrbfbkoowqwgaurizliesjnveoxmvjdjaepdqftmvsuyoogobrutahogxnvuxyezevfuaaiyufwjtezuxtpycfgasburzytdvazwakuxpsiiyhewctwgycgsgdkhdfnzfmvhwrellmvjvzfzsdgqgolorxvxciwjxtqvmxhxlcijeqiytqrzfcpyzlvbvrksmcoybxxpbgyfwgepzvrezgcytabptnjgpxgtweiykgfiolxniqthzwfswihpvtxlseepkopwuueiidyquratphnnqxflqcyiiezssoomlsxtyxlsolngtctjzywrbvajbzeuqsiblhwlehfvtubmwuxyvvpwsrhutlojgwktegekpjfidgwzdvxyrpwjgfdzttizquswcwgshockuzlzulznavzgdegwyovqlpmnluhsikeflpghagvcbujeapcyfxosmcizzpthbzompvurbrwenflnwnmdncwbfebevwnzwclnzhgcycglhtbfjnjwrfxwlacixqhvuvivcoxdrfqazrgigrgywdwjgztfrbanwiiayhdrmuunlcxstdsrjoapntugwutuedvemyyzusogumanpueyigpybjeyfasjfpqsqotkgjqaxspnmvnxbfvcobcudxflmvfcjanrjfthaiwofllgqglhkndpmiazgfdrfsjracyanwqsjcbakmjubmmowmpeuuwznfspjsryohtyjuawglsjxezvroallymafhpozgpqpiqzcsxkdptcutxnjzawxmwctltvtiljsbkuthgwwbyswxfgzfewubbpowkigvtywdupmankbndyligkqkiknjzchkmnfflekfvyhlijynjlwrxodgyrrxvzjhoroavahsapdiacwjpucnifviyohtprceksefunzucdfchbnwxplhxgpvxwrmpvqzowgimgdolirslgqkycrvkgshejuuhmvvlcdxkinvqg '\n",
    "source = \"abc\"\n",
    "target = \"ac\"\n",
    "Solution().minWindow(source, target)"
   ]
  },
  {
   "cell_type": "markdown",
   "id": "8ae18f53",
   "metadata": {},
   "source": [
    "## 32 九章解法 - 固定 start 精简version"
   ]
  },
  {
   "cell_type": "code",
   "execution_count": 122,
   "id": "3a85931d",
   "metadata": {
    "ExecuteTime": {
     "end_time": "2021-09-23T00:48:23.078499Z",
     "start_time": "2021-09-23T00:48:23.062499Z"
    }
   },
   "outputs": [
    {
     "data": {
      "text/plain": [
       "'bcd'"
      ]
     },
     "execution_count": 122,
     "metadata": {},
     "output_type": "execute_result"
    }
   ],
   "source": [
    "class Solution:\n",
    "\n",
    "    def minWindow(self, source, target):\n",
    "        # outlier\n",
    "        if len(target) == 0 or len(source) == 0 or len(target) > len(source):\n",
    "            return ''\n",
    "\n",
    "        # init\n",
    "        target_counter = {}\n",
    "        span_counter = {}\n",
    "        min_str = source + 'a'\n",
    "        match_char = 0\n",
    "\n",
    "        l_t, l_s = len(target), len(source)\n",
    "        for i, v in enumerate(target):\n",
    "            target_counter[v] = target_counter.get(v, 0) + 1\n",
    "        \n",
    "        end = 0\n",
    "        for start in range(l_s):  # start 指针固定,\n",
    "            while end < l_s and match_char < len(target_counter):  # 先移动 end指针\n",
    "                # 更新span_counter # 每次添加一个end 元素进来, 并且 counter 可能加1\n",
    "                span_counter[source[end]] = span_counter.get(source[end], 0) + 1\n",
    "                # 判断 span_counter 是否包含所有的target_counter = 需要用到 match_char, 看每一个词是不是匹配\n",
    "                if span_counter[source[end]] == target_counter.get(source[end], 0) : # 这里为什么不是小于符号, 因为只需要 完全相等的时候 才需要增减. 只要后面有对应的减法存在, 这里就能这样写. 而不需要每次都全部比较一遍\n",
    "                    match_char +=1\n",
    "                    \n",
    "                end += 1\n",
    "            \n",
    "            # 下一个 start loop 不会进行上面的过程, 但是会在这里直接进行判断, 同时 start 也已经被更新了. \n",
    "            if match_char == len(target_counter):\n",
    "                min_str = min_str if len(min_str)< end-start else source[start: end]                                \n",
    "\n",
    "            # 移动 start 指针, 需要更新 span_counter, 把他移出去\n",
    "            span_counter[source[start]] -= 1\n",
    "            # 判断 span_counter 是否包含所有的target_counter\n",
    "            if span_counter[source[start]] + 1 == target_counter.get(source[start], 0) : # 这里为什么不是小于符号, 只有在move前, 他们的数量相等的时候 才需要在move之后, 对match的数量进行增减\n",
    "                match_char -=1\n",
    "\n",
    "\n",
    "        if len(min_str) > l_s:\n",
    "            return ''\n",
    "\n",
    "        return min_str\n",
    "\n",
    "\n",
    "# source = 'kgfidhktkjhlkbgjkylgdracfzjduycghkomrbfbkoowqwgaurizliesjnveoxmvjdjaepdqftmvsuyoogobrutahogxnvuxyezevfuaaiyufwjtezuxtpycfgasburzytdvazwakuxpsiiyhewctwgycgsgdkhdfnzfmvhwrellmvjvzfzsdgqgolorxvxciwjxtqvmxhxlcijeqiytqrzfcpyzlvbvrksmcoybxxpbgyfwgepzvrezgcytabptnjgpxgtweiykgfiolxniqthzwfswihpvtxlseepkopwuueiidyquratphnnqxflqcyiiezssoomlsxtyxlsolngtctjzywrbvajbzeuqsiblhwlehfvtubmwuxyvvpwsrhutlojgwktegekpjfidgwzdvxyrpwjgfdzttizquswcwgshockuzlzulznavzgdegwyovqlpmnluhsikeflpghagvcbujeapcyfxosmcizzpthbzompvurbrwenflnwnmdncwbfebevwnzwclnzhgcycglhtbfjnjwrfxwlacixqhvuvivcoxdrfqazrgigrgywdwjgztfrbanwiiayhdrmuunlcxstdsrjoapntugwutuedvemyyzusogumanpueyigpybjeyfasjfpqsqotkgjqaxspnmvnxbfvcobcudxflmvfcjanrjfthaiwofllgqglhkndpmiazgfdrfsjracyanwqsjcbakmjubmmowmpeuuwznfspjsryohtyjuawglsjxezvroallymafhpozgpqpiqzcsxkdptcutxnjzawxmwctltvtiljsbkuthgwwbyswxfgzfewubbpowkigvtywdupmankbndyligkqkiknjzchkmnfflekfvyhlijynjlwrxodgyrrxvzjhoroavahsapdiacwjpucnifviyohtprceksefunzucdfchbnwxplhxgpvxwrmpvqzowgimgdolirslgqkycrvkgshejuuhmvvlcdxkinvqg '\n",
    "source = \"abcde\"\n",
    "target = \"db\"\n",
    "Solution().minWindow(source, target)"
   ]
  },
  {
   "cell_type": "code",
   "execution_count": null,
   "id": "68b38b52",
   "metadata": {},
   "outputs": [],
   "source": []
  },
  {
   "cell_type": "code",
   "execution_count": null,
   "id": "ea04c6d1",
   "metadata": {},
   "outputs": [],
   "source": []
  },
  {
   "cell_type": "code",
   "execution_count": null,
   "id": "6fe04215",
   "metadata": {},
   "outputs": [],
   "source": []
  },
  {
   "cell_type": "markdown",
   "id": "627f069f",
   "metadata": {},
   "source": [
    "## 连续 最小 substring 覆盖 - error "
   ]
  },
  {
   "cell_type": "code",
   "execution_count": 16,
   "id": "36d9bb62",
   "metadata": {
    "ExecuteTime": {
     "end_time": "2021-09-22T23:15:36.817700Z",
     "start_time": "2021-09-22T23:15:36.814700Z"
    }
   },
   "outputs": [],
   "source": [
    "from collections import Counter"
   ]
  },
  {
   "cell_type": "code",
   "execution_count": 17,
   "id": "c0a49718",
   "metadata": {
    "ExecuteTime": {
     "end_time": "2021-09-22T23:15:36.834702Z",
     "start_time": "2021-09-22T23:15:36.820701Z"
    }
   },
   "outputs": [
    {
     "data": {
      "text/plain": [
       "'abcdd'"
      ]
     },
     "execution_count": 17,
     "metadata": {},
     "output_type": "execute_result"
    }
   ],
   "source": [
    "class Solution:\n",
    "    \"\"\"\n",
    "    @param source : A string\n",
    "    @param target: A string\n",
    "    @return: A string denote the minimum window, return \"\" if there is no such a string\n",
    "    \"\"\"\n",
    "\n",
    "    def minWindow(self, source, target):\n",
    "        # write your code here\n",
    "\n",
    "        n = len(source)\n",
    "        t_set = {ord(i)-ord('a'): target.count(i) for i in target}\n",
    "        char_set = {i: 0 for i in range(26)}\n",
    "        min_str = source + 'a'\n",
    "        end = 0\n",
    "        for start in range(n):\n",
    "            while end < n:\n",
    "                char_set[ord(source[end]) - ord('a')] += 1\n",
    "                end += 1\n",
    "                if t_set.items() == (char_set.items() & t_set.items()) and end-start < len(min_str):\n",
    "                    min_str = source[start: end]\n",
    "                    break\n",
    "                    \n",
    "            char_set[ord(source[start]) - ord('a')] -= 1 # 先减去, 再判断\n",
    "            if t_set.items() == (char_set.items() & t_set.items()) and end-(start+1) < len(min_str):\n",
    "                min_str = source[start+1: end]\n",
    "#             char_set[ord(source[start]) - ord('a')] -= 1 # 先减去, 再判断\n",
    "            \n",
    "        if len(min_str) > n:\n",
    "            return \"\"\n",
    "\n",
    "        return min_str\n",
    "\n",
    "\n",
    "source = 'aaaaaaaaaaaabbbbabcdd'\n",
    "# source = \"adobecodebanc\"\n",
    "target = \"abcdd\"\n",
    "Solution().minWindow(source, target)"
   ]
  },
  {
   "cell_type": "code",
   "execution_count": null,
   "id": "37e8e9cb",
   "metadata": {},
   "outputs": [],
   "source": []
  },
  {
   "cell_type": "markdown",
   "id": "1c00ade8",
   "metadata": {},
   "source": [
    "# comprehension\n",
    "- 问清楚问题, 知道每种exception\n",
    "- 用sample input 确定 output\n",
    "- 要一边描述自己的idea, 可能会被提醒"
   ]
  },
  {
   "cell_type": "code",
   "execution_count": 55,
   "id": "0b9fd4e5",
   "metadata": {
    "ExecuteTime": {
     "end_time": "2021-09-22T23:21:21.071474Z",
     "start_time": "2021-09-22T23:21:21.060474Z"
    }
   },
   "outputs": [
    {
     "name": "stdout",
     "output_type": "stream",
     "text": [
      "9\n"
     ]
    },
    {
     "data": {
      "text/plain": [
       "['aa', 'ab', 'ac', 'ba', 'bb', 'bc', 'ca', 'cb', 'cc']"
      ]
     },
     "execution_count": 55,
     "metadata": {},
     "output_type": "execute_result"
    }
   ],
   "source": [
    "def main(phoneNums):\n",
    "    res = genCombination(phoneNums)\n",
    "    return res\n",
    "\n",
    "\n",
    "def product(args):\n",
    "    # product('ABCD', 'xy') --> Ax Ay Bx By Cx Cy Dx Dy\n",
    "    #     pools = map(tuple, args)\n",
    "    pools = args\n",
    "    result = [[]]\n",
    "    for pool in pools:  # comprehension\n",
    "        if len(pool) != 0:\n",
    "            result = [x+[y] for x in result for y in pool]\n",
    "            \n",
    "    res = [\"\".join(i) for i in result]\n",
    "    return res\n",
    "\n",
    "\n",
    "def genCombination(phoneNums='224'):\n",
    "    codeMap = {'1': '', '2': 'abc', '3': 'def', '4': 'ghi', '0': '-'}\n",
    "    phoneNums = str(phoneNums)\n",
    "    phoneCodes = list(map(lambda x: codeMap[x], phoneNums))\n",
    "    res = product(phoneCodes)\n",
    "    print(len(res))\n",
    "    \n",
    "    return res\n",
    "\n",
    "\n",
    "phoneNums = '212'\n",
    "main(phoneNums)"
   ]
  },
  {
   "cell_type": "code",
   "execution_count": null,
   "id": "a1c3ec5c",
   "metadata": {},
   "outputs": [],
   "source": []
  },
  {
   "cell_type": "code",
   "execution_count": null,
   "id": "63cae1dc",
   "metadata": {},
   "outputs": [],
   "source": []
  },
  {
   "cell_type": "markdown",
   "id": "b54d3d6b",
   "metadata": {},
   "source": [
    "# 1219 Heater location\n",
    "- 直接二分法, 将house 插入到最近的 火堆, 他们共享index. \n",
    "    - 找到每一个 house 离最近的火堆 距离有多远\n",
    "    "
   ]
  },
  {
   "cell_type": "markdown",
   "id": "a0c4447f",
   "metadata": {},
   "source": [
    "## 二分"
   ]
  },
  {
   "cell_type": "code",
   "execution_count": 218,
   "id": "c796730f",
   "metadata": {
    "ExecuteTime": {
     "end_time": "2021-09-23T02:26:15.462445Z",
     "start_time": "2021-09-23T02:26:15.450443Z"
    }
   },
   "outputs": [
    {
     "name": "stdout",
     "output_type": "stream",
     "text": [
      "0 2 5 -- 2 4\n",
      "0 1 2 -- 2 2\n",
      "0 2 5 -- 2 4\n",
      "2 3 5 -- 2 4\n"
     ]
    },
    {
     "data": {
      "text/plain": [
       "1"
      ]
     },
     "execution_count": 218,
     "metadata": {},
     "output_type": "execute_result"
    }
   ],
   "source": [
    "class Solution:\n",
    "    \"\"\"\n",
    "    @param houses: positions of houses\n",
    "    @param heaters: positions of heaters\n",
    "    @return: the minimum radius standard of heaters\n",
    "    \"\"\"\n",
    "\n",
    "    def findRadius(self, houses, heaters):\n",
    "        # Write your code here\n",
    "        heaters.sort()  # 如果不sort 就没法用二分法\n",
    "        min_heat_radius = 0\n",
    "        for house in houses:\n",
    "            radius = self.get_minimum_radius(house, heaters)\n",
    "            min_heat_radius = max(radius, min_heat_radius)\n",
    "        return min_heat_radius\n",
    "\n",
    "    def get_minimum_radius(self, house, heaters):\n",
    "        left = 0\n",
    "        right = len(heaters)-1  # 这是两个index, 不需要直接嵌入大小\n",
    "        while left+1 < right:  # 这个loop的 停止条件是 两个 index 相交 => 定位到最近的 index = left: right, 而且 left+1 = right\n",
    "            # 当 left == right的时候, 已经跳出了 loop, 然后 left +1 != right 所以 left 永远比 right 小 2\n",
    "            # 如果是 left +1 <= right -> 则 left 永远比 right 小 1\n",
    "            # 因为每次 print的时候, mid 就已经更新了,\n",
    "            # 所以 mid 永远不会和 left 和right 重合.\n",
    "            mid = (left + right)//2\n",
    "            print(left, mid, right, \"--\", heaters[left], heaters[right])\n",
    "            if house == heaters[mid]:  # 有可能 left 或者right 直接等于 house\n",
    "                return 0\n",
    "            elif house >= heaters[mid]:  # 在右边\n",
    "                left = mid\n",
    "            else:\n",
    "                right = mid\n",
    "\n",
    "        return min(abs(heaters[left]-house), abs(heaters[right]-house))\n",
    "\n",
    "\n",
    "heaters = [2, 2, 2, 4, 4, 4]\n",
    "houses = [1, 3]\n",
    "Solution().findRadius(houses, heaters)"
   ]
  },
  {
   "cell_type": "markdown",
   "id": "e7cee1ca",
   "metadata": {},
   "source": [
    "## *双指针最优 flag-version"
   ]
  },
  {
   "cell_type": "code",
   "execution_count": null,
   "id": "f1402f65",
   "metadata": {},
   "outputs": [],
   "source": []
  },
  {
   "cell_type": "code",
   "execution_count": 256,
   "id": "5fd5baf0",
   "metadata": {
    "ExecuteTime": {
     "end_time": "2021-09-23T02:53:32.858070Z",
     "start_time": "2021-09-23T02:53:32.845070Z"
    }
   },
   "outputs": [
    {
     "data": {
      "text/plain": [
       "997"
      ]
     },
     "execution_count": 256,
     "metadata": {},
     "output_type": "execute_result"
    }
   ],
   "source": [
    "class Solution:\n",
    "    \"\"\"\n",
    "    @param houses: positions of houses\n",
    "    @param heaters: positions of heaters\n",
    "    @return: the minimum radius standard of heaters\n",
    "    \"\"\"\n",
    "\n",
    "    def findRadius(self, houses, heaters):\n",
    "        # Write your code here\n",
    "        heaters.sort()  \n",
    "        houses.sort()\n",
    "\n",
    "        min_heat_radius = 0\n",
    "        heater_idx = 0\n",
    "\n",
    "        for house in houses:\n",
    "            flag = 1\n",
    "            while flag != 0:\n",
    "                if (heater_idx < len(heaters)-1) and (abs(heaters[heater_idx] - house) >= abs(heaters[heater_idx+1] - house)): # 这里要取等号, 以保证 heater_idx 右移\n",
    "                    heater_idx += 1\n",
    "                else:\n",
    "                    min_heat_radius = max(min_heat_radius, abs(heaters[heater_idx] - house))\n",
    "                    flag = 0\n",
    "        return min_heat_radius\n",
    "\n",
    "\n",
    "houses = [1,1,2,2,3,3,4,4,5,5,6,6,7,7,8,8,9,9,10,10,11,11,12,12,13,13,14,14,15,15,16,999]\n",
    "heaters = [2]\n",
    "Solution().findRadius(houses, heaters)"
   ]
  },
  {
   "cell_type": "code",
   "execution_count": 275,
   "id": "efe531ec",
   "metadata": {
    "ExecuteTime": {
     "end_time": "2021-09-23T03:09:43.385970Z",
     "start_time": "2021-09-23T03:09:43.375972Z"
    }
   },
   "outputs": [
    {
     "data": {
      "text/plain": [
       "997"
      ]
     },
     "execution_count": 275,
     "metadata": {},
     "output_type": "execute_result"
    }
   ],
   "source": [
    "class Solution:\n",
    "    \"\"\"\n",
    "    @param houses: positions of houses\n",
    "    @param heaters: positions of heaters\n",
    "    @return: the minimum radius standard of heaters\n",
    "    \"\"\"\n",
    "\n",
    "    def findRadius(self, houses, heaters):\n",
    "        # Write your code here\n",
    "        heaters.sort()  \n",
    "        houses.sort()\n",
    "\n",
    "        min_heat_radius = 0\n",
    "        heater_idx = 0\n",
    "\n",
    "        for house in houses:\n",
    "            while True:\n",
    "                if (heater_idx < len(heaters)-1) and (abs(heaters[heater_idx] - house) >= abs(heaters[heater_idx+1] - house)): # 这里要取等号, 以保证 heater_idx 右移\n",
    "                    heater_idx += 1\n",
    "                else:\n",
    "                    min_heat_radius = max(min_heat_radius, abs(heaters[heater_idx] - house))\n",
    "                    break\n",
    "        return min_heat_radius\n",
    "\n",
    "\n",
    "houses = [1,1,2,2,3,3,4,4,5,5,6,6,7,7,8,8,9,9,10,10,11,11,12,12,13,13,14,14,15,15,16,999]\n",
    "heaters = [2]\n",
    "Solution().findRadius(houses, heaters)"
   ]
  },
  {
   "cell_type": "code",
   "execution_count": null,
   "id": "e0d4b2dc",
   "metadata": {},
   "outputs": [],
   "source": []
  },
  {
   "cell_type": "markdown",
   "id": "22f4c23f",
   "metadata": {
    "ExecuteTime": {
     "end_time": "2021-09-23T03:05:15.030265Z",
     "start_time": "2021-09-23T03:05:15.026267Z"
    }
   },
   "source": [
    "## 双指针"
   ]
  },
  {
   "cell_type": "code",
   "execution_count": 258,
   "id": "82bf1b96",
   "metadata": {
    "ExecuteTime": {
     "end_time": "2021-09-23T02:56:22.412197Z",
     "start_time": "2021-09-23T02:56:22.401198Z"
    }
   },
   "outputs": [
    {
     "data": {
      "text/plain": [
       "997"
      ]
     },
     "execution_count": 258,
     "metadata": {},
     "output_type": "execute_result"
    }
   ],
   "source": [
    "class Solution:\n",
    "    \"\"\"\n",
    "    @param houses: positions of houses\n",
    "    @param heaters: positions of heaters\n",
    "    @return: the minimum radius standard of heaters\n",
    "    \"\"\"\n",
    "\n",
    "    def findRadius(self, houses, heaters):\n",
    "        # Write your code here\n",
    "        heaters.sort()  # 如果不sort 就没法用二分法\n",
    "        houses.sort()\n",
    "\n",
    "        min_heat_radius = 0\n",
    "        heater_idx = 0\n",
    "        house_idx = 0\n",
    "        \n",
    "        while heater_idx<len(heaters) and house_idx<len(houses):\n",
    "            if (heater_idx < len(heaters)-1) and (abs(heaters[heater_idx] -  houses[house_idx]) >= abs(heaters[heater_idx+1] -  houses[house_idx])): # 这里要取等号, 以保证 heater_idx 右移\n",
    "                heater_idx += 1\n",
    "            else:\n",
    "                min_heat_radius = max(min_heat_radius, abs(heaters[heater_idx] -  houses[house_idx]))\n",
    "                house_idx += 1\n",
    "        return min_heat_radius\n",
    "\n",
    "\n",
    "houses = [1,1,2,2,3,3,4,4,5,5,6,6,7,7,8,8,9,9,10,10,11,11,12,12,13,13,14,14,15,15,16,999]\n",
    "heaters = [2]\n",
    "Solution().findRadius(houses, heaters)"
   ]
  },
  {
   "cell_type": "markdown",
   "id": "b9150c1f",
   "metadata": {},
   "source": [
    "## 九章模板\n",
    "- O((n+m)*logm)\n",
    "    - 数组排序, O(nlogn+mlogm) \n",
    "    - 两个数组 最多被分别遍历一次 => O(n+m)\n",
    "    - 求和 O(nlogn+mlogm) + O(n+m)\n",
    "- O(1), 没有使用 等长的变量储存东西"
   ]
  },
  {
   "cell_type": "code",
   "execution_count": null,
   "id": "1e11af18",
   "metadata": {},
   "outputs": [],
   "source": []
  },
  {
   "cell_type": "code",
   "execution_count": 267,
   "id": "037d54c0",
   "metadata": {
    "ExecuteTime": {
     "end_time": "2021-09-23T03:03:08.919725Z",
     "start_time": "2021-09-23T03:03:08.907727Z"
    }
   },
   "outputs": [
    {
     "data": {
      "text/plain": [
       "997"
      ]
     },
     "execution_count": 267,
     "metadata": {},
     "output_type": "execute_result"
    }
   ],
   "source": [
    "class Solution:\n",
    "    \"\"\"\n",
    "    @param houses: positions of houses\n",
    "    @param heaters: positions of heaters\n",
    "    @return: the minimum radius standard of heaters\n",
    "    \"\"\"\n",
    "\n",
    "    def findRadius(self, houses, heaters):\n",
    "        # Write your code here\n",
    "        heaters.sort()  # 如果不sort 就没法用二分法\n",
    "        houses.sort()\n",
    "\n",
    "        min_heat_radius = 0\n",
    "        heater_idx = 0\n",
    "        house_idx = 0\n",
    "\n",
    "        while heater_idx < len(heaters) and house_idx < len(houses):\n",
    "            cur_radius = abs(heaters[heater_idx] - houses[house_idx])\n",
    "            if heater_idx < (len(heaters)-1):\n",
    "                next_radius = abs(heaters[heater_idx+1] - houses[house_idx])\n",
    "            else:\n",
    "                next_radius = float('inf')\n",
    "\n",
    "            if (cur_radius >= next_radius): # 这里要取等号\n",
    "                heater_idx += 1\n",
    "            else:\n",
    "                min_heat_radius = max(min_heat_radius, cur_radius)\n",
    "                house_idx += 1\n",
    "        return min_heat_radius\n",
    "\n",
    "\n",
    "houses = [1, 1, 2, 2, 3, 3, 4, 4, 5, 5, 6, 6, 7, 7, 8, 8, 9, 9,\n",
    "          10, 10, 11, 11, 12, 12, 13, 13, 14, 14, 15, 15, 16, 999]\n",
    "heaters = [2]\n",
    "Solution().findRadius(houses, heaters)"
   ]
  },
  {
   "cell_type": "markdown",
   "id": "449de26e",
   "metadata": {},
   "source": [
    "# 386\n",
    "- 核心语句是 O(2N)\n",
    "- len(set(s)) 是什么? O(Nlog(N))\n",
    "- len(counter) 太慢了. 增加一个计数器来完成这个操作, 这个是 N\n",
    "- for end in range(n):  in counter => O(N^2) -> 因为 in 操作是需要 O(N)的"
   ]
  },
  {
   "cell_type": "markdown",
   "id": "38cad422",
   "metadata": {},
   "source": [
    "## 慢L1 - 固定 end"
   ]
  },
  {
   "cell_type": "code",
   "execution_count": 179,
   "id": "874133b9",
   "metadata": {
    "ExecuteTime": {
     "end_time": "2021-09-24T20:21:15.882121Z",
     "start_time": "2021-09-24T20:21:15.870122Z"
    },
    "scrolled": false
   },
   "outputs": [
    {
     "data": {
      "text/plain": [
       "2"
      ]
     },
     "execution_count": 179,
     "metadata": {},
     "output_type": "execute_result"
    }
   ],
   "source": [
    "class Solution:\n",
    "    \"\"\"\n",
    "    @param s: A string\n",
    "    @param k: An integer\n",
    "    @return: An integer\n",
    "    \"\"\"\n",
    "\n",
    "    def lengthOfLongestSubstringKDistinct(self, s, k):\n",
    "        # write your code here\n",
    "                # write your code here\n",
    "            \n",
    "        n = len(s)\n",
    "        if n == 0 or k ==0 :\n",
    "            return 0\n",
    "#         if len(set(s)) < k:\n",
    "#             return len(s)\n",
    "        \n",
    "        counter = {}  # 计数多少个unique set\n",
    "        start = 0\n",
    "        max_str = ''\n",
    "        \n",
    "        for end in range(n):\n",
    "            counter[s[end]] = counter.get(s[end], 0) + 1\n",
    "            \n",
    "            while start < end and len(counter) > k: # counter 如果大于 k 个 unique 元素, 都需要不断 pop start\n",
    "                counter[s[start]] -= 1\n",
    "                if counter[s[start]] == 0:\n",
    "                    counter.pop(s[start])\n",
    "                start += 1\n",
    "                \n",
    "            if len(counter) == k:\n",
    "#                 print(start, end+1, max_str, len(max_str), counter)\n",
    "                max_str = s[start: end+1] if len(max_str) < end - (start-1) else max_str # 因为end和 start 都是从0开始的 index, 所以可以直接减\n",
    "        if len(max_str) == 0:\n",
    "            return n\n",
    "        return len(max_str)\n",
    "\n",
    "\n",
    "S = \"kb\"\n",
    "k = 10\n",
    "Solution().lengthOfLongestSubstringKDistinct(S, k)"
   ]
  },
  {
   "cell_type": "markdown",
   "id": "8820adea",
   "metadata": {},
   "source": [
    "## 快L1 - 固定 end\n",
    "- 不保存字符, 那样需要take length\n",
    "- 可以只保存 max_start 和 max_len, 那样就能直接通过 s[max_start: max_start+max_len] 来找到答案"
   ]
  },
  {
   "cell_type": "code",
   "execution_count": 178,
   "id": "c7670708",
   "metadata": {
    "ExecuteTime": {
     "end_time": "2021-09-24T19:54:37.281760Z",
     "start_time": "2021-09-24T19:54:37.256756Z"
    }
   },
   "outputs": [
    {
     "data": {
      "text/plain": [
       "4"
      ]
     },
     "execution_count": 178,
     "metadata": {},
     "output_type": "execute_result"
    }
   ],
   "source": [
    "class Solution:\n",
    "    \"\"\"\n",
    "    @param s: A string\n",
    "    @param k: An integer\n",
    "    @return: An integer\n",
    "    \"\"\"\n",
    "\n",
    "    def lengthOfLongestSubstringKDistinct(self, s, k):\n",
    "        # write your code here\n",
    "        # write your code here\n",
    "\n",
    "        n = len(s)\n",
    "        if n == 0 or k == 0:\n",
    "            return 0\n",
    "\n",
    "        counter = {}\n",
    "        match_count = 0\n",
    "        max_len = 0\n",
    "\n",
    "        version = 3\n",
    "\n",
    "        if version == 1:  # 这个版本是work的, 核心是因为没用 set, 那样就会更快\n",
    "            start = 0\n",
    "            for end in range(n):\n",
    "                counter[s[end]] = counter.get(s[end], 0) + 1\n",
    "                if counter[s[end]] == 1:\n",
    "                    match_count += 1\n",
    "\n",
    "                while start < end and match_count > k:  # counter 如果大于 k 个 unique 元素, 都需要不断 pop start\n",
    "                    counter[s[start]] -= 1\n",
    "                    if counter[s[start]] == 0:\n",
    "                        match_count -= 1\n",
    "                    start += 1\n",
    "\n",
    "                if match_count == k:\n",
    "                    # 因为这里的 end 和 start 都是用的 index, 所以上面 多加的 1 要去掉\n",
    "                    max_len = max(max_len, end - (start-1))\n",
    "\n",
    "        elif version == 2:  # 这个版本怎么错了???\n",
    "            end = 0\n",
    "            for start in range(n):\n",
    "                while end < n and match_count < k+1:  # counter 如果小于等于 k 个 unique 元素, 都需要不断 延展 end, 直到 第一次  match_count == k+1\n",
    "                    counter[s[end]] = counter.get(s[end], 0) + 1\n",
    "                    if counter[s[end]] == 1:\n",
    "                        match_count += 1\n",
    "                    end += 1\n",
    "\n",
    "                if match_count == k+1:\n",
    "                    # 因为这里的 end 和 start 都是用的 index, 所以上面 多加的 1 要去掉\n",
    "                    max_len = max(max_len, (end-1) - start)\n",
    "\n",
    "                counter[s[start]] -= 1\n",
    "                if counter[s[start]] == 0:\n",
    "                    match_count -= 1\n",
    "\n",
    "        elif version == 3:  # template 版本, 而且有用到 del 或者 pop\n",
    "            condition = \"(len(counter.keys())<k or s[end] in counter)\"\n",
    "            # [left, right) 左闭右开\n",
    "            # left ~ right - 1 则符合条件\n",
    "            # left ~ right 则 不符合条件, 这个条件出来, 一定是不满足条件才行的\n",
    "            end = 0\n",
    "            for start in range(n):\n",
    "                # k = 3 counter = {a:1, b:1, c:1}\n",
    "                # s[right] = 'a' 接受\n",
    "                # s[right] = 'b' 接受\n",
    "                # s[right] = 'd' 不接受\n",
    "\n",
    "                # (len(counter)<k or s[right] in counter) # 小于等于k\n",
    "                while end < n and eval(condition):\n",
    "                    # 1. right 到头了\n",
    "                    # 2. left~right 不满足条件了\n",
    "                    counter[s[end]] = counter.get(s[end], 0) + 1\n",
    "                    end += 1\n",
    "\n",
    "                max_len = max(max_len, end - start)  # 为什么不用 多减去1\n",
    "                counter[s[start]] -= 1\n",
    "                if counter[s[start]] == 0:\n",
    "                    counter.pop(s[start])\n",
    "            \n",
    "                    \n",
    "        elif version == 4:\n",
    "            condition = \"(len(counter)<=k)\"\n",
    "            end = 0\n",
    "            for start in range(n):\n",
    "                while end < n and eval(condition):\n",
    "                    if s[end] not in counter and len(counter) == k:\n",
    "                        break  # 这里的end是没有动的, counter 和 end 一定要一起动\n",
    "                    counter[s[end]] = counter.get(s[end], 0) + 1\n",
    "                    end += 1\n",
    "\n",
    "                max_len = max(max_len, end - start)  # 为什么不用 多减去1\n",
    "                counter[s[start]] -= 1\n",
    "                if counter[s[start]] == 0:\n",
    "                    del counter[s[start]]\n",
    "\n",
    "        if max_len == 0:\n",
    "            return n\n",
    "        return max_len\n",
    "\n",
    "\n",
    "S = \"eceba\"\n",
    "k = 3\n",
    "Solution().lengthOfLongestSubstringKDistinct(S, k)"
   ]
  },
  {
   "cell_type": "code",
   "execution_count": null,
   "id": "318c29fe",
   "metadata": {},
   "outputs": [],
   "source": []
  },
  {
   "cell_type": "code",
   "execution_count": null,
   "id": "90805927",
   "metadata": {},
   "outputs": [],
   "source": []
  },
  {
   "cell_type": "code",
   "execution_count": null,
   "id": "857a512c",
   "metadata": {},
   "outputs": [],
   "source": []
  }
 ],
 "metadata": {
  "kernelspec": {
   "display_name": "Python 3 (ipykernel)",
   "language": "python",
   "name": "python3"
  },
  "language_info": {
   "codemirror_mode": {
    "name": "ipython",
    "version": 3
   },
   "file_extension": ".py",
   "mimetype": "text/x-python",
   "name": "python",
   "nbconvert_exporter": "python",
   "pygments_lexer": "ipython3",
   "version": "3.7.10"
  },
  "latex_envs": {
   "LaTeX_envs_menu_present": true,
   "autoclose": false,
   "autocomplete": true,
   "bibliofile": "biblio.bib",
   "cite_by": "apalike",
   "current_citInitial": 1,
   "eqLabelWithNumbers": true,
   "eqNumInitial": 1,
   "hotkeys": {
    "equation": "Ctrl-E",
    "itemize": "Ctrl-I"
   },
   "labels_anchors": false,
   "latex_user_defs": false,
   "report_style_numbering": false,
   "user_envs_cfg": false
  },
  "toc": {
   "base_numbering": 1,
   "nav_menu": {},
   "number_sections": true,
   "sideBar": true,
   "skip_h1_title": false,
   "title_cell": "Table of Contents",
   "title_sidebar": "Contents",
   "toc_cell": true,
   "toc_position": {
    "height": "calc(100% - 180px)",
    "left": "10px",
    "top": "150px",
    "width": "490.767px"
   },
   "toc_section_display": true,
   "toc_window_display": true
  }
 },
 "nbformat": 4,
 "nbformat_minor": 5
}
