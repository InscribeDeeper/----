{
 "cells": [
  {
   "cell_type": "markdown",
   "id": "1d06cd8a",
   "metadata": {
    "toc": true
   },
   "source": [
    "<h1>Table of Contents<span class=\"tocSkip\"></span></h1>\n",
    "<div class=\"toc\"><ul class=\"toc-item\"><li><span><a href=\"#Tree-by-nodes\" data-toc-modified-id=\"Tree-by-nodes-1\"><span class=\"toc-item-num\">1&nbsp;&nbsp;</span>Tree by nodes</a></span></li><li><span><a href=\"#BFS---queue\" data-toc-modified-id=\"BFS---queue-2\"><span class=\"toc-item-num\">2&nbsp;&nbsp;</span>BFS - queue</a></span><ul class=\"toc-item\"><li><span><a href=\"#Level-order-Traversal\" data-toc-modified-id=\"Level-order-Traversal-2.1\"><span class=\"toc-item-num\">2.1&nbsp;&nbsp;</span>Level order Traversal</a></span><ul class=\"toc-item\"><li><span><a href=\"#方法1\" data-toc-modified-id=\"方法1-2.1.1\"><span class=\"toc-item-num\">2.1.1&nbsp;&nbsp;</span>方法1</a></span></li><li><span><a href=\"#层次遍历,-无返回-层级表示---queue\" data-toc-modified-id=\"层次遍历,-无返回-层级表示---queue-2.1.2\"><span class=\"toc-item-num\">2.1.2&nbsp;&nbsp;</span>层次遍历, 无返回 层级表示 - queue</a></span></li><li><span><a href=\"#层次遍历,-返回-层级表示---lvl-queue\" data-toc-modified-id=\"层次遍历,-返回-层级表示---lvl-queue-2.1.3\"><span class=\"toc-item-num\">2.1.3&nbsp;&nbsp;</span>层次遍历, 返回 层级表示 - lvl queue</a></span></li></ul></li><li><span><a href=\"#Serialization\" data-toc-modified-id=\"Serialization-2.2\"><span class=\"toc-item-num\">2.2&nbsp;&nbsp;</span>Serialization</a></span></li></ul></li><li><span><a href=\"#Graph---Connected-Component\" data-toc-modified-id=\"Graph---Connected-Component-3\"><span class=\"toc-item-num\">3&nbsp;&nbsp;</span>Graph - Connected Component</a></span><ul class=\"toc-item\"><li><span><a href=\"#graph-的-BFS-模板\" data-toc-modified-id=\"graph-的-BFS-模板-3.1\"><span class=\"toc-item-num\">3.1&nbsp;&nbsp;</span>graph 的 BFS 模板</a></span><ul class=\"toc-item\"><li><span><a href=\"#储存结构\" data-toc-modified-id=\"储存结构-3.1.1\"><span class=\"toc-item-num\">3.1.1&nbsp;&nbsp;</span>储存结构</a></span></li><li><span><a href=\"#在不同的地方-return-考虑的细节不一样\" data-toc-modified-id=\"在不同的地方-return-考虑的细节不一样-3.1.2\"><span class=\"toc-item-num\">3.1.2&nbsp;&nbsp;</span>在不同的地方 return 考虑的细节不一样</a></span></li></ul></li></ul></li><li><span><a href=\"#1565--modern-ludo\" data-toc-modified-id=\"1565--modern-ludo-4\"><span class=\"toc-item-num\">4&nbsp;&nbsp;</span>1565  modern ludo</a></span><ul class=\"toc-item\"><li><span><a href=\"#解法\" data-toc-modified-id=\"解法-4.1\"><span class=\"toc-item-num\">4.1&nbsp;&nbsp;</span>解法</a></span><ul class=\"toc-item\"><li><span><a href=\"#BFS-解法-(-待重写)\" data-toc-modified-id=\"BFS-解法-(-待重写)-4.1.1\"><span class=\"toc-item-num\">4.1.1&nbsp;&nbsp;</span>BFS 解法 ( 待重写)</a></span></li><li><span><a href=\"#dp-解法\" data-toc-modified-id=\"dp-解法-4.1.2\"><span class=\"toc-item-num\">4.1.2&nbsp;&nbsp;</span>dp 解法</a></span></li><li><span><a href=\"#dp---from-start-to-end---九章\" data-toc-modified-id=\"dp---from-start-to-end---九章-4.1.3\"><span class=\"toc-item-num\">4.1.3&nbsp;&nbsp;</span>dp - from start to end - 九章</a></span></li><li><span><a href=\"#dp---from-end-to-start---九章-(逆向-思考有点麻烦)\" data-toc-modified-id=\"dp---from-end-to-start---九章-(逆向-思考有点麻烦)-4.1.4\"><span class=\"toc-item-num\">4.1.4&nbsp;&nbsp;</span>dp - from end to start - 九章 (逆向 思考有点麻烦)</a></span></li><li><span><a href=\"#SPFA\" data-toc-modified-id=\"SPFA-4.1.5\"><span class=\"toc-item-num\">4.1.5&nbsp;&nbsp;</span>SPFA</a></span></li><li><span><a href=\"#SPFA-堆优化\" data-toc-modified-id=\"SPFA-堆优化-4.1.6\"><span class=\"toc-item-num\">4.1.6&nbsp;&nbsp;</span>SPFA 堆优化</a></span></li></ul></li></ul></li><li><span><a href=\"#573-Build-post-office-II\" data-toc-modified-id=\"573-Build-post-office-II-5\"><span class=\"toc-item-num\">5&nbsp;&nbsp;</span>573 Build post office II</a></span><ul class=\"toc-item\"><li><span><a href=\"#最复杂版本-(错误)---以空地为起点,-遍历所有的房子,-求其距离\" data-toc-modified-id=\"最复杂版本-(错误)---以空地为起点,-遍历所有的房子,-求其距离-5.1\"><span class=\"toc-item-num\">5.1&nbsp;&nbsp;</span>最复杂版本 (错误) - 以空地为起点, 遍历所有的房子, 求其距离</a></span></li><li><span><a href=\"#最复杂版本---以房子为起点,-遍历所有的空地-求其距离\" data-toc-modified-id=\"最复杂版本---以房子为起点,-遍历所有的空地-求其距离-5.2\"><span class=\"toc-item-num\">5.2&nbsp;&nbsp;</span>最复杂版本 - 以房子为起点, 遍历所有的空地 求其距离</a></span></li><li><span><a href=\"#稍简化---以房子为起点,-遍历所有的空地-求其距离\" data-toc-modified-id=\"稍简化---以房子为起点,-遍历所有的空地-求其距离-5.3\"><span class=\"toc-item-num\">5.3&nbsp;&nbsp;</span>稍简化 - 以房子为起点, 遍历所有的空地 求其距离</a></span></li><li><span><a href=\"#精简化---网上版本\" data-toc-modified-id=\"精简化---网上版本-5.4\"><span class=\"toc-item-num\">5.4&nbsp;&nbsp;</span>精简化 - 网上版本</a></span></li><li><span><a href=\"#极精简化---网上版本\" data-toc-modified-id=\"极精简化---网上版本-5.5\"><span class=\"toc-item-num\">5.5&nbsp;&nbsp;</span>极精简化 - 网上版本</a></span></li></ul></li><li><span><a href=\"#789-MAZE\" data-toc-modified-id=\"789-MAZE-6\"><span class=\"toc-item-num\">6&nbsp;&nbsp;</span>789 MAZE</a></span><ul class=\"toc-item\"><li><span><a href=\"#我的重写版-9.30\" data-toc-modified-id=\"我的重写版-9.30-6.1\"><span class=\"toc-item-num\">6.1&nbsp;&nbsp;</span>我的重写版 9.30</a></span></li><li><span><a href=\"#我的重写heap-优化版-9.30\" data-toc-modified-id=\"我的重写heap-优化版-9.30-6.2\"><span class=\"toc-item-num\">6.2&nbsp;&nbsp;</span>我的重写heap 优化版 9.30</a></span></li><li><span><a href=\"#我的改编版\" data-toc-modified-id=\"我的改编版-6.3\"><span class=\"toc-item-num\">6.3&nbsp;&nbsp;</span>我的改编版</a></span></li><li><span><a href=\"#九章版本\" data-toc-modified-id=\"九章版本-6.4\"><span class=\"toc-item-num\">6.4&nbsp;&nbsp;</span>九章版本</a></span></li><li><span><a href=\"#SPFA版\" data-toc-modified-id=\"SPFA版-6.5\"><span class=\"toc-item-num\">6.5&nbsp;&nbsp;</span>SPFA版</a></span></li></ul></li><li><span><a href=\"#794-Sliding-puzzle-II\" data-toc-modified-id=\"794-Sliding-puzzle-II-7\"><span class=\"toc-item-num\">7&nbsp;&nbsp;</span>794 Sliding puzzle II</a></span><ul class=\"toc-item\"><li><span><a href=\"#双向BFS-(九章-sample)\" data-toc-modified-id=\"双向BFS-(九章-sample)-7.1\"><span class=\"toc-item-num\">7.1&nbsp;&nbsp;</span>双向BFS (九章 sample)</a></span></li><li><span><a href=\"#标准-BFS\" data-toc-modified-id=\"标准-BFS-7.2\"><span class=\"toc-item-num\">7.2&nbsp;&nbsp;</span>标准 BFS</a></span></li></ul></li><li><span><a href=\"#DFS---Stack\" data-toc-modified-id=\"DFS---Stack-8\"><span class=\"toc-item-num\">8&nbsp;&nbsp;</span>DFS - Stack</a></span></li></ul></div>"
   ]
  },
  {
   "cell_type": "markdown",
   "id": "677cf1ae",
   "metadata": {},
   "source": [
    "# Tree by nodes"
   ]
  },
  {
   "cell_type": "code",
   "execution_count": 6,
   "id": "7b7fad84",
   "metadata": {
    "ExecuteTime": {
     "end_time": "2021-09-24T20:52:48.593084Z",
     "start_time": "2021-09-24T20:52:48.569539Z"
    }
   },
   "outputs": [
    {
     "name": "stdout",
     "output_type": "stream",
     "text": [
      "0\n",
      "  left\n",
      "0\n",
      "1\n",
      "     self.val  1\n",
      "  right\n",
      "0\n",
      "1\n",
      "     self.val  2\n",
      "  right\n",
      "0\n",
      "1\n",
      "     self.val  3\n",
      "2\n",
      "2\n",
      "2\n",
      "1\n",
      "     self.val  4\n",
      "  right\n",
      "0\n",
      "1\n",
      "     self.val  5\n",
      "  right\n",
      "0\n",
      "1\n",
      "     self.val  6\n",
      "  right\n",
      "0\n",
      "1\n",
      "     self.val  8\n",
      "2\n",
      "2\n",
      "2\n",
      "2\n",
      "[1, 2, 3, 4, 5, 6, 8]\n",
      "[3, 2, 1, 8, 6, 5, 4]\n",
      "[3, 2, 1, 8, 6, 5, 4]\n"
     ]
    }
   ],
   "source": [
    "## tree 的创建 和 中序遍历\n",
    "\n",
    "class Node:\n",
    "    def __init__(self, val):\n",
    "\n",
    "        self.left = None\n",
    "        self.right = None\n",
    "        self.val = val\n",
    "\n",
    "    def insert(self, val):\n",
    "    # 将新值与父节点进行比较\n",
    "    # 这样的话, 这个tree 就会不断expand. 在left node 上insert的时候, left-left node是空的, 所以就会放在左边\n",
    "    # 如果一个值一直比当前所有值小, 类似于 [7,6,5,3,2,1].  那最后一个1 会不断的 迭代 self.left.insert(), 直到创建一个 Node\n",
    "    # if self.left is None: 这句话的目的是为了 找到 leaves 的 最低端\n",
    "        if self.val:  # 非空\n",
    "            if val < self.val:            #新值较小\n",
    "                if self.left is None:       #若 left 为空，则将 left 变成 Node 并且 val 赋值\n",
    "                    self.left = Node(val)\n",
    "                else:                       #若 left 已经在上一轮 或者某一轮 插入过了, 则更新 index, 在当前的 left node上 insert 当前的 val \n",
    "                    self.left.insert(val)\n",
    "            elif val > self.val:          #新值较大\n",
    "                if self.right is None:      #若right为空, 则将right 变为node, 并且赋值 val\n",
    "                    self.right = Node(val)\n",
    "                else:                       #如果right不是空, 则在right部分插入\n",
    "                    self.right.insert(val)              \n",
    "                \n",
    "        else:\n",
    "            self.val = val # 用来迭代第一个值\n",
    "\n",
    "    # 打印这棵树，中序遍历\n",
    "    def PrintTree(self):\n",
    "        print(\"0\")\n",
    "        if self.left:   # 这样就会先print 左边\n",
    "            print(\"  left\")\n",
    "            self.left.PrintTree() # slef.left的时候, 是调用 self.left的那个方法, 对应的 self.val 也改变了\n",
    "        print(\"1\")\n",
    "        print(\"     self.val \", self.val)  # 这个 是 level-0 的 root 的值\n",
    "        if self.right:\n",
    "            print(\"  right\") #  多少个 leaves 多少个 2 print\n",
    "            self.right.PrintTree()\n",
    "        print(\"2\")  #  多少个 leaves 多少个 2 print\n",
    "        \n",
    "    @classmethod\n",
    "    def inorder(self,node):  # 中序遍历\n",
    "        '''\n",
    "        先处理左子树，然后处理当前节点，再处理右子树；\n",
    "        对于一颗二叉查找树，所有的信息都是有序排列的，中序遍历可以是信息有序输出，且运行时间为 O（n）；\n",
    "        递归实现中序遍历。       \n",
    "                            left_item                 +  result +                    right_item\n",
    "                left_item + result + right_item                            left_item + result + right_item\n",
    "                \n",
    "        最终的list会不断向 两端 延伸\n",
    "        '''\n",
    "        if node:\n",
    "            result = [node.val]\n",
    "            left_item = self.inorder(node.left)\n",
    "            right_item = self.inorder(node.right)\n",
    "            return left_item + result + right_item\n",
    "        else:\n",
    "            return []\n",
    "\n",
    "    @classmethod\n",
    "    def preorder(self,node):  # 先序遍历\n",
    "        '''\n",
    "        先处理当前节点，再处理左右子树；\n",
    "        递归实现先序遍历。\n",
    "                            result +           left_item                            +  right_item\n",
    "                                               result + left_item + right_item         result + left_item + right_item\n",
    "         ------------------------------------------------------------------------------------------------------------------------------------            \n",
    "        结果:     (lvl_0) result +      (lvl_1) result + left_item + right_item +   (lvl_1) result + left_item + right_item\n",
    "\n",
    "        '''\n",
    "        if node is None:\n",
    "            return []\n",
    "        result = [node.val]\n",
    "        left_item = self.preorder(node.left)\n",
    "        right_item = self.preorder(node.right)\n",
    "        return result + left_item + right_item\n",
    "    \n",
    "    @classmethod\n",
    "    def postorder(self,node):  # 后序遍历\n",
    "        '''\n",
    "        先处理左右子树，然后再处理当前节点，运行时间为 O（n）\n",
    "        递归实现后序遍历\n",
    "        '''\n",
    "        if node is None:\n",
    "            return []\n",
    "        result = [node.val]\n",
    "        left_item = self.postorder(node.left)\n",
    "        right_item = self.postorder(node.right)\n",
    "        return left_item + right_item + result\n",
    "    \n",
    "#     @classmethod\n",
    "    '''\n",
    "    通过 append 和 pop 和 push 的方法 直接操作地址\n",
    "    '''\n",
    "    def postorderTraversal(self, root):\n",
    "        res = []\n",
    "        self.dfs(root, res)\n",
    "        return res\n",
    "    \n",
    "#     @classmethod\n",
    "    def dfs(self, root, res):\n",
    "        if root:\n",
    "            self.dfs(root.left, res) # recursive, \n",
    "            self.dfs(root.right, res)\n",
    "            res.append(root.val)\n",
    "        \n",
    "        \n",
    "# 这里 传进去的 一定是 root才行, 从 root 开始 才能递归 遍历\n",
    "# 同时 必须得先对这个 seq 进行处理 pre-ordered, 按一定顺序拍进去, 才能用上面那个 创建的方法\n",
    "    \n",
    "lroot = [4,1,2,3,6,7,8]\n",
    "'''\n",
    "     4\n",
    "    / \\\n",
    "   1   6\n",
    "    \\   \\\n",
    "     2   7\n",
    "      \\   \\\n",
    "       3   8\n",
    "print:  left right right root right right right \n",
    "level:  3,2,1,0,1,2,3\n",
    "print:  1,2,3,4,6,7,8\n",
    "'''\n",
    "\n",
    "lroot = [4,2,1,3,6,5,8]\n",
    "'''\n",
    "      4\n",
    "    /   \\\n",
    "   2     6\n",
    "  / \\   / \\\n",
    " 1   3 5   8\n",
    "\n",
    "print:  left left right root right left right\n",
    "level:  2,1,2,0,2,1,2\n",
    "print:  1,2,3,4,5,6,8\n",
    "'''\n",
    "\n",
    "\n",
    "lroot = [4,2,1,3,5,6,8]\n",
    "'''\n",
    "      4\n",
    "    /   \\\n",
    "   2     5\n",
    "  / \\     \\\n",
    " 1   3     6 \n",
    "            \\ \n",
    "             8\n",
    "             \n",
    "print:  left left right root right right right\n",
    "level:  2,1,2,0,1,2,3\n",
    "print:  1,2,3,4,5,6,8\n",
    "'''\n",
    "\n",
    "\n",
    "lroot = [4,1,2,3,5,6,8]\n",
    "'''\n",
    "      4\n",
    "    /   \\\n",
    "   2     5\n",
    "  / \\     \\\n",
    " 1   3     6 \n",
    "            \\ \n",
    "             8\n",
    "             \n",
    "print:  \n",
    "level:  \n",
    "print:  \n",
    "'''\n",
    "\n",
    "root = Node(None)\n",
    "for idx, val in enumerate(lroot):\n",
    "    root.insert(val) # 这样修改的是 root 的属性, 而并没有改变 root 这个变量, 相当于改变了他的指针\n",
    "        \n",
    "\n",
    "root.PrintTree()\n",
    "print(Node.inorder(root))\n",
    "print(root.postorderTraversal(root))\n",
    "print(Node(None).postorderTraversal(root))\n",
    "# print(Node.postorderTraversal(root))\n",
    "\n",
    "## 层次遍历"
   ]
  },
  {
   "cell_type": "markdown",
   "id": "2a4cbd73",
   "metadata": {},
   "source": [
    "# BFS - queue\n",
    "- 如果 in visited set, 那么说明 有更短的距离到达"
   ]
  },
  {
   "cell_type": "markdown",
   "id": "1b0205f8",
   "metadata": {},
   "source": [
    "## Level order Traversal"
   ]
  },
  {
   "cell_type": "markdown",
   "id": "4c99cd0a",
   "metadata": {},
   "source": [
    "### 方法1"
   ]
  },
  {
   "cell_type": "code",
   "execution_count": 44,
   "id": "883188db",
   "metadata": {
    "ExecuteTime": {
     "end_time": "2021-09-25T01:31:37.758180Z",
     "start_time": "2021-09-25T01:31:37.748180Z"
    },
    "scrolled": false
   },
   "outputs": [
    {
     "name": "stdout",
     "output_type": "stream",
     "text": [
      "[[<__main__.Node object at 0x0000022DC6EE5648>]]\n",
      "[[<__main__.Node object at 0x0000022DC6E6F3C8>, <__main__.Node object at 0x0000022DC6E6FC48>]]\n",
      "[[<__main__.Node object at 0x0000022DC6E6FDC8>, <__main__.Node object at 0x0000022DC6E6FF88>]]\n",
      "[[<__main__.Node object at 0x0000022DC6E6F548>, <__main__.Node object at 0x0000022DC6DD1448>]]\n"
     ]
    },
    {
     "data": {
      "text/plain": [
       "[[4], [1, 5], [2, 6], [3, 8]]"
      ]
     },
     "execution_count": 44,
     "metadata": {},
     "output_type": "execute_result"
    }
   ],
   "source": [
    "\n",
    "class Solution:\n",
    "    \"\"\"\n",
    "这个也能解决, 核心就是要两个loop. 不要用 for i in queue[:] 这个非常消耗RAM. 因为每次都要重新申请一次地址\n",
    "    \"\"\"\n",
    "\n",
    "    def searchChildren(self, lvl, queue):\n",
    "        tmp = []\n",
    "        for Nodes in lvl:\n",
    "            if Nodes.left:\n",
    "                tmp.extend([Nodes.left])\n",
    "            if Nodes.right:\n",
    "                tmp.extend([Nodes.right])\n",
    "        queue.append(tmp)\n",
    "\n",
    "    def levelOrder(self, root):\n",
    "        # write your code here\n",
    "        if not root:\n",
    "            return []\n",
    "        \n",
    "        queue = [[root]] \n",
    "        res = []\n",
    "        while len(queue) != 0 and queue[0] != []:\n",
    "            print(queue)\n",
    "            lvl = queue.pop(0)  # 每次pop 会导致 index 少了一位\n",
    "            res.append([i.val for i in lvl]) # 取 一个 level\n",
    "            self.searchChildren(lvl, queue) # 这里保证 所有 进 queue 的全都是 存在的nodes\n",
    "        return res\n",
    "    \n",
    "Solution().levelOrder(root)"
   ]
  },
  {
   "cell_type": "markdown",
   "id": "a8c01c4b",
   "metadata": {},
   "source": [
    "### 层次遍历, 无返回 层级表示 - queue"
   ]
  },
  {
   "cell_type": "code",
   "execution_count": 28,
   "id": "6b894c21",
   "metadata": {
    "ExecuteTime": {
     "end_time": "2021-09-24T21:16:57.260847Z",
     "start_time": "2021-09-24T21:16:57.251850Z"
    }
   },
   "outputs": [
    {
     "name": "stdout",
     "output_type": "stream",
     "text": [
      "[<__main__.Node object at 0x0000022DC6E6F3C8>, <__main__.Node object at 0x0000022DC6E6FC48>]\n",
      "[<__main__.Node object at 0x0000022DC6E6FC48>, <__main__.Node object at 0x0000022DC6E6FDC8>]\n",
      "[<__main__.Node object at 0x0000022DC6E6FDC8>, <__main__.Node object at 0x0000022DC6E6FF88>]\n",
      "[<__main__.Node object at 0x0000022DC6E6FF88>, <__main__.Node object at 0x0000022DC6E6F548>]\n",
      "[<__main__.Node object at 0x0000022DC6E6F548>, <__main__.Node object at 0x0000022DC6DD1448>]\n",
      "[<__main__.Node object at 0x0000022DC6DD1448>]\n",
      "[]\n"
     ]
    },
    {
     "data": {
      "text/plain": [
       "[4, 1, 5, 2, 6, 3, 8]"
      ]
     },
     "execution_count": 28,
     "metadata": {},
     "output_type": "execute_result"
    }
   ],
   "source": [
    "\"\"\"\n",
    "Definition of TreeNode:\n",
    "class TreeNode:\n",
    "    def __init__(self, val):\n",
    "        self.val = val\n",
    "        self.left, self.right = None, None\n",
    "\"\"\"\n",
    "\n",
    "class Solution:\n",
    "    \"\"\"\n",
    "    @param root: A Tree\n",
    "    @return: Level order a list of lists of integer\n",
    "    \"\"\"\n",
    "    def levelOrder(self, root):\n",
    "        # write your code here\n",
    "        if not root:\n",
    "            return []\n",
    "        \n",
    "        queue = [root]\n",
    "        res = []\n",
    "        while len(queue) != 0: # 构建栈, 然后从左到右遍历\n",
    "            first_node = queue.pop(0)\n",
    "            res.append(first_node.val)\n",
    "            if first_node.left is not None:\n",
    "                queue.append(first_node.left)\n",
    "            if first_node.right is not None:\n",
    "                queue.append(first_node.right)\n",
    "        return res\n",
    "    \n",
    "Solution().levelOrder(root)"
   ]
  },
  {
   "cell_type": "markdown",
   "id": "01916878",
   "metadata": {},
   "source": [
    "### 层次遍历, 返回 层级表示 - lvl queue"
   ]
  },
  {
   "cell_type": "code",
   "execution_count": 41,
   "id": "a0b9cd43",
   "metadata": {
    "ExecuteTime": {
     "end_time": "2021-09-24T21:23:33.376862Z",
     "start_time": "2021-09-24T21:23:33.367863Z"
    }
   },
   "outputs": [
    {
     "data": {
      "text/plain": [
       "[[4], [1, 5], [2, 6], [3, 8]]"
      ]
     },
     "execution_count": 41,
     "metadata": {},
     "output_type": "execute_result"
    }
   ],
   "source": [
    "class Solution:\n",
    "    \"\"\"\n",
    "    @param root: A Tree\n",
    "    @return: Level order a list of lists of integer\n",
    "    \"\"\"\n",
    "    def levelOrder(self, root):\n",
    "        # write your code here\n",
    "        result = []\n",
    "        \n",
    "        if root is None:\n",
    "            return result\n",
    "            \n",
    "        queue = []\n",
    "        queue.append(root)\n",
    "        \n",
    "        while queue:\n",
    "            level = []\n",
    "            size = len(queue) # 当前这层有多大, 得先取出来. 不然的话 size 会不断在边. 所以不能 写在  for loop里面\n",
    "            for i in range(0, size):\n",
    "                head = queue.pop(0)\n",
    "                level.append(head.val)\n",
    "                if head.left is not None:\n",
    "                    queue.append(head.left)\n",
    "                if head.right is not None:\n",
    "                    queue.append(head.right)\n",
    "                    \n",
    "            result.append(level)\n",
    "        \n",
    "        return result\n",
    "    \n",
    "Solution().levelOrder(root)"
   ]
  },
  {
   "cell_type": "code",
   "execution_count": 48,
   "id": "4e01ff0f",
   "metadata": {
    "ExecuteTime": {
     "end_time": "2021-09-25T01:38:11.516446Z",
     "start_time": "2021-09-25T01:38:11.506445Z"
    }
   },
   "outputs": [
    {
     "data": {
      "text/plain": [
       "[[4], [1], [5], [2], [6], [3], [8]]"
      ]
     },
     "execution_count": 48,
     "metadata": {},
     "output_type": "execute_result"
    }
   ],
   "source": [
    "class Solution:\n",
    "    \"\"\"\n",
    "    @param root: A Tree\n",
    "    @return: Level order a list of lists of integer\n",
    "    \"\"\"\n",
    "    def levelOrder(self, root):\n",
    "        # write your code here\n",
    "        result = []\n",
    "        \n",
    "        if root is None:\n",
    "            return result\n",
    "            \n",
    "        queue = []\n",
    "        queue.append(root)\n",
    "        \n",
    "        while queue:\n",
    "            level = []\n",
    "#             size = len(queue) # 当前这层有多大, 得先取出来. 不然的话 size 会不断在边. 所以不能 写在  for loop里面\n",
    "#             for i in range(0, size):\n",
    "            head = queue.pop(0)\n",
    "            level.append(head.val)\n",
    "            if head.left is not None:\n",
    "                queue.append(head.left)\n",
    "            if head.right is not None:\n",
    "                queue.append(head.right)\n",
    "            result.append(level)\n",
    "        \n",
    "        return result\n",
    "\n",
    "Solution().levelOrder(root)"
   ]
  },
  {
   "cell_type": "markdown",
   "id": "5e679201",
   "metadata": {},
   "source": [
    "## Serialization \n",
    "- 数据请求 客户端的时候, 数据都是要转换为 字符串的\n",
    "    - 序列化: object to string\n",
    "    - 反序列化: string to object\n",
    "- 应用\n",
    "    - 内存中的数据 持久化储存\n",
    "    - 网络传输\n",
    "- 手段\n",
    "    - XML\n",
    "    - Json\n",
    "    - YAML - RUBY\n",
    "    - Thrift by FB\n",
    "    - ProtoBuf by Google"
   ]
  },
  {
   "cell_type": "code",
   "execution_count": 15,
   "id": "c67b871e",
   "metadata": {
    "ExecuteTime": {
     "end_time": "2021-09-25T03:35:00.899998Z",
     "start_time": "2021-09-25T03:35:00.885996Z"
    }
   },
   "outputs": [],
   "source": [
    "a = range(100000)\n",
    "b = dict(zip(a,a))"
   ]
  },
  {
   "cell_type": "code",
   "execution_count": 16,
   "id": "03313afb",
   "metadata": {
    "ExecuteTime": {
     "end_time": "2021-09-25T03:35:01.420996Z",
     "start_time": "2021-09-25T03:35:01.415998Z"
    }
   },
   "outputs": [
    {
     "name": "stdout",
     "output_type": "stream",
     "text": [
      "Wall time: 0 ns\n"
     ]
    },
    {
     "data": {
      "text/plain": [
       "100000"
      ]
     },
     "execution_count": 16,
     "metadata": {},
     "output_type": "execute_result"
    }
   ],
   "source": [
    "%time len(a)"
   ]
  },
  {
   "cell_type": "code",
   "execution_count": 17,
   "id": "f9ab2c52",
   "metadata": {
    "ExecuteTime": {
     "end_time": "2021-09-25T03:35:01.598996Z",
     "start_time": "2021-09-25T03:35:01.592997Z"
    }
   },
   "outputs": [
    {
     "name": "stdout",
     "output_type": "stream",
     "text": [
      "Wall time: 0 ns\n"
     ]
    },
    {
     "data": {
      "text/plain": [
       "100000"
      ]
     },
     "execution_count": 17,
     "metadata": {},
     "output_type": "execute_result"
    }
   ],
   "source": [
    "%time len(b)"
   ]
  },
  {
   "cell_type": "code",
   "execution_count": null,
   "id": "8e1ce13f",
   "metadata": {},
   "outputs": [],
   "source": []
  },
  {
   "cell_type": "code",
   "execution_count": null,
   "id": "f330167a",
   "metadata": {},
   "outputs": [],
   "source": []
  },
  {
   "cell_type": "code",
   "execution_count": null,
   "id": "f1a8f3f6",
   "metadata": {},
   "outputs": [],
   "source": [
    "sc = SparkContext(master=”master”)\n",
    "text_file = sc.textFile(\"...\")\n",
    "\n",
    "counts = text_file.flatMap(\n",
    "    lambda line: line.split(\" \")\n",
    "    ) .map(lambda word: (word, 1)) .reduceByKey(\n",
    "    lambda a, b: a + b\n",
    ")\n",
    "counts.saveAsTextFile(\"hdfs://...\")"
   ]
  },
  {
   "cell_type": "code",
   "execution_count": null,
   "id": "fba3eae6",
   "metadata": {},
   "outputs": [],
   "source": []
  },
  {
   "cell_type": "code",
   "execution_count": null,
   "id": "b64e9674",
   "metadata": {},
   "outputs": [],
   "source": [
    "# 因为很大可能 是已经连接了VPN, 所以不用specify \n",
    "sc = SparkContext(master=\"221.32.32.43\")\n",
    "text_file = sc.textFile(\"s3://adsfdsf/sdfds/fdsfdsf/\")\n",
    "# text_file = sc.textFile(\"hdfs://dfdsf/sdf/file\") \n",
    "\n",
    "counts = text_file.flatMap(\n",
    "    lambda line: line.split(\" \")\n",
    ") .map(lambda word: (word, 1)) .reduceByKey(\n",
    "    lambda a, b: a + b\n",
    ")\n",
    "counts.saveAsTextFile(\"hdfs://...\")"
   ]
  },
  {
   "cell_type": "markdown",
   "id": "176089ee",
   "metadata": {},
   "source": [
    "# Graph - Connected Component\n",
    "- G = <V, E> \n",
    "    - vertex\n",
    "    - edge\n",
    "    - degree \n",
    " - 在graph 的 BFS 中, 用什么记录 有没有完成?  \n",
    "    - 用hashmap\n",
    "- 加入了hashmap的DFS??\n",
    "- VS Tree\n",
    "    - Tree: N个点, N-1条变\n",
    "    - 灌水法\n",
    "- 判断连通性\n",
    "    - 通过判断每一个点 连着的 之后的点, 是否在 hashmap中存在过\n",
    "    - 如果遍历完所有的集合, 没有独立的点了, 就是联通的\n",
    "- 储存方式\n",
    "    - adjacent list \n",
    "    - 矩阵 稀疏很浪费空间 -> 用 adjacent list -> hash map\n",
    "    ``` python\n",
    "        # 这样就能把 graph 的元素 转换为 hash map, 不过前提是 给的数据是 {1: [2,3,4], 2:1, 3:1, 4:1} 这样的结构?\n",
    "    \n",
    "        for i in edge:\n",
    "            u = edges[i][0]\n",
    "            v = edges[i][1]\n",
    "            graph.get(u).add(v)\n",
    "            graph.get(v).add(u)\n",
    "    ```"
   ]
  },
  {
   "cell_type": "code",
   "execution_count": 51,
   "id": "f1681538",
   "metadata": {
    "ExecuteTime": {
     "end_time": "2021-09-25T03:29:54.989838Z",
     "start_time": "2021-09-25T03:29:54.982839Z"
    }
   },
   "outputs": [
    {
     "name": "stdout",
     "output_type": "stream",
     "text": [
      "1\n",
      "4\n",
      "2\n",
      "5\n",
      "3\n"
     ]
    }
   ],
   "source": [
    "from queue import Queue\n",
    "\n",
    "def bfs(graph, start):\n",
    "    # 创建一个set记录点是否已被遍历\n",
    "    visited = set() # 这就是 visited array吗\n",
    "    q = Queue()\n",
    "    q.put(start)\n",
    "    while not q.empty():\n",
    "        u = q.get()\n",
    "        print(u)\n",
    "        for v in graph.get(u, []):\n",
    "#             if v not in visited: # 最好别用 in, 用 get\n",
    "            if v not in visited: # 最好别用 in, 用 get\n",
    "                visited.add(v)\n",
    "                q.put(v)\n",
    "\n",
    "graph = {1: [4, 2], 2: [3, 4], 3: [4], 4: [5]}\n",
    "bfs(graph, 1)\n"
   ]
  },
  {
   "cell_type": "markdown",
   "id": "9a993bab",
   "metadata": {},
   "source": [
    "## graph 的 BFS 模板\n",
    "- 以当前节点拓展到 周围的 节点上\n",
    "- O(N+M)\n",
    "- for 循环中 加法 复杂度"
   ]
  },
  {
   "cell_type": "code",
   "execution_count": 2,
   "id": "f99e1929",
   "metadata": {
    "ExecuteTime": {
     "end_time": "2021-09-26T18:20:38.548404Z",
     "start_time": "2021-09-26T18:20:38.539198Z"
    }
   },
   "outputs": [
    {
     "ename": "NameError",
     "evalue": "name 'node' is not defined",
     "output_type": "error",
     "traceback": [
      "\u001b[0;31m---------------------------------------------------------------------------\u001b[0m",
      "\u001b[0;31mNameError\u001b[0m                                 Traceback (most recent call last)",
      "\u001b[0;32m<ipython-input-2-b2d104927cc4>\u001b[0m in \u001b[0;36m<module>\u001b[0;34m\u001b[0m\n\u001b[1;32m      1\u001b[0m \u001b[0;32mimport\u001b[0m \u001b[0mcollections\u001b[0m\u001b[0;34m\u001b[0m\u001b[0;34m\u001b[0m\u001b[0m\n\u001b[0;32m----> 2\u001b[0;31m \u001b[0mqueue\u001b[0m \u001b[0;34m=\u001b[0m \u001b[0mcollections\u001b[0m\u001b[0;34m.\u001b[0m\u001b[0mdeque\u001b[0m\u001b[0;34m(\u001b[0m\u001b[0;34m[\u001b[0m\u001b[0mnode\u001b[0m\u001b[0;34m]\u001b[0m\u001b[0;34m)\u001b[0m \u001b[0;31m# 放入 root\u001b[0m\u001b[0;34m\u001b[0m\u001b[0;34m\u001b[0m\u001b[0m\n\u001b[0m\u001b[1;32m      3\u001b[0m \u001b[0mdistance\u001b[0m \u001b[0;34m=\u001b[0m \u001b[0;34m{\u001b[0m\u001b[0mnode\u001b[0m \u001b[0;34m:\u001b[0m\u001b[0;36m0\u001b[0m\u001b[0;34m}\u001b[0m \u001b[0;31m# 这个 distance 记录是 level 的深度\u001b[0m\u001b[0;34m\u001b[0m\u001b[0;34m\u001b[0m\u001b[0m\n\u001b[1;32m      4\u001b[0m \u001b[0;34m\u001b[0m\u001b[0m\n\u001b[1;32m      5\u001b[0m \u001b[0;32mwhile\u001b[0m \u001b[0mqueue\u001b[0m\u001b[0;34m:\u001b[0m \u001b[0;31m# 当 非空\u001b[0m\u001b[0;34m\u001b[0m\u001b[0;34m\u001b[0m\u001b[0m\n",
      "\u001b[0;31mNameError\u001b[0m: name 'node' is not defined"
     ]
    }
   ],
   "source": [
    "import collections \n",
    "queue = collections.deque([node]) # 放入 root\n",
    "distance = {node :0} # 这个 distance 记录是 level 的深度\n",
    "\n",
    "while queue: # 当 非空\n",
    "    node = queue.popleft() # deque 左边 pop => 当成 queue 来操作\n",
    "    for neighbor in node.get_neighbors(): # 通过 树的 function 获取 neighbors\n",
    "        if neighbor in distance:  # 如果已经存在在这个 hashmap 过, 则跳过当前节点的处理 = 意味着这个 node 已经被处理过 -> 因为是 graph\n",
    "            continue\n",
    "    distance[neighbor] = distance[node] + 1\n",
    "    queue.append(neighbor)"
   ]
  },
  {
   "cell_type": "markdown",
   "id": "7658bbeb",
   "metadata": {},
   "source": [
    "### 储存结构\n",
    "- 邻接表: 都是 map 里面 套一个 set\n",
    "- 邻接矩阵\n",
    "- 难点是: 怎么把与当前 node 相同距离的点 放到同一层\n"
   ]
  },
  {
   "cell_type": "markdown",
   "id": "4c5877e7",
   "metadata": {},
   "source": [
    "### 在不同的地方 return 考虑的细节不一样\n",
    "- 第一次访问到终点的时候, 一定是最优的 = distance + 1\n",
    "- "
   ]
  },
  {
   "cell_type": "markdown",
   "id": "06712e1f",
   "metadata": {},
   "source": [
    "# 1565  modern ludo\n",
    "- 转换为 BFS 套着 BFS 的解法\n",
    "- 步骤\n",
    "    - 先转换为 graph, 因为题目原来不是 graph\n",
    "    - 然后利用 dict(set) 来记录信息, 用 queue 来操作当前过程, queue 左端第一个作为当前处理对象\n",
    "- 思路\n",
    "    - 一个 BFS 找最短路径\n",
    "    - 一个 BFS 找 联通块"
   ]
  },
  {
   "cell_type": "markdown",
   "id": "d29f4cf9",
   "metadata": {},
   "source": [
    "## 解法"
   ]
  },
  {
   "cell_type": "markdown",
   "id": "f2c3bbbb",
   "metadata": {},
   "source": [
    "### BFS 解法 ( 待重写)"
   ]
  },
  {
   "cell_type": "code",
   "execution_count": 20,
   "id": "84a67b3d",
   "metadata": {
    "ExecuteTime": {
     "end_time": "2021-09-29T18:00:33.944915Z",
     "start_time": "2021-09-29T18:00:33.928914Z"
    }
   },
   "outputs": [
    {
     "data": {
      "text/plain": [
       "2"
      ]
     },
     "execution_count": 20,
     "metadata": {},
     "output_type": "execute_result"
    }
   ],
   "source": [
    "from collections import deque\n",
    "class Solution:\n",
    "    \"\"\"\n",
    "    @param length: the length of board\n",
    "    @param connections: the connections of the positions\n",
    "    @return: the minimum steps to reach the end\n",
    "    # \n",
    "    \"\"\"\n",
    "\n",
    "    def modernLudo(self, length, connections):\n",
    "        # Write your code here\n",
    "        graph = self.build_graph(length, connections)\n",
    "        queue = deque([1])\n",
    "        distance = {1:0}\n",
    "        while queue: # 找 最短路径\n",
    "            node = queue.popleft() # 这个 node 是一个数字\n",
    "            limit = min(node + 1 + 6, length +1) # 当前 node 最远能到 1~6, \n",
    "            for neighbor in range(node+1, limit):\n",
    "                connected_nodes = self.get_unvisited_nodes(graph, distance, neighbor) # 获取当前能一步到达的节点\n",
    "                for connected_node in connected_nodes:\n",
    "                    if connected_node == length:\n",
    "                        return distance[node] + 1\n",
    "                    distance[connected_node] = distance[node] + 1 # 与当前 node 的距离 相差 1次 骰子\n",
    "                    queue.append(connected_node) # 把 相差一次 骰子的 点, 全部加到 queue 中去\n",
    "        return distance[length]\n",
    "    \n",
    "    # 找联通块\n",
    "    def get_unvisited_nodes(self, graph, distance, node): # O(M+N) \n",
    "        # 获取所有 与 当前 node 相连的 node, 无论是 children 还是 更深的 children, 只要相连\n",
    "        unvisited_nodes = set()\n",
    "        queue = deque([node])\n",
    "        while queue:\n",
    "            curr_node = queue.popleft()\n",
    "#             print(queue, distance, curr_node)\n",
    "            if curr_node in distance: # 已经搜索过, 则跳过\n",
    "                continue\n",
    "            unvisited_nodes.add(curr_node) # 未搜索过, 则添加到这个 unvisited_nodes 中, 到 queue 中区\n",
    "            for neighbor in graph[curr_node]: # 并且把这个 未搜索过的 node 的 能 直达的点, 都进行更新, 作为当前一步到达的目标\n",
    "#                 print(distance)\n",
    "                if neighbor not in distance:\n",
    "                    queue.append(neighbor)\n",
    "                    unvisited_nodes.add(neighbor)\n",
    "        return unvisited_nodes\n",
    "    \n",
    "    def build_graph(self, length, connections):\n",
    "        graph = {i: set() for i in range(1, length+1)}\n",
    "        for a,b in connections:\n",
    "            graph[a].add(b)\n",
    "        return graph\n",
    "    \n",
    "    \n",
    "\n",
    "length = 15\n",
    "connections = [[2, 8], [6, 9]]\n",
    "Solution().modernLudo(length, connections)"
   ]
  },
  {
   "cell_type": "markdown",
   "id": "ce06b0cd",
   "metadata": {},
   "source": [
    "### dp 解法"
   ]
  },
  {
   "cell_type": "code",
   "execution_count": 22,
   "id": "7a0bb39e",
   "metadata": {
    "ExecuteTime": {
     "end_time": "2021-09-29T18:01:24.081934Z",
     "start_time": "2021-09-29T18:01:24.070935Z"
    }
   },
   "outputs": [
    {
     "data": {
      "text/plain": [
       "2"
      ]
     },
     "execution_count": 22,
     "metadata": {},
     "output_type": "execute_result"
    }
   ],
   "source": [
    "class Solution:\n",
    "    \"\"\"\n",
    "    @param length: the length of board\n",
    "    @param connections: the connections of the positions\n",
    "    @return: the minimum steps to reach the end\n",
    "    \"\"\"\n",
    "    def modernLudo(self, length, connections):\n",
    "        # Write your code here\n",
    "        if length == 1:\n",
    "            return 0\n",
    "        dic = {}\n",
    "        for s, t in connections:\n",
    "            if t in dic:\n",
    "                dic[t].append(s)\n",
    "                continue\n",
    "            dic[t] = [s]\n",
    "        dp = [sys.maxsize]*(length+1)\n",
    "        dp[0] = dp[1] = 0\n",
    "        \n",
    "        for i in range(2, length+1):\n",
    "            if i in dic:\n",
    "                for j in dic[i]:\n",
    "                    dp[i] = min(dp[i], dp[j])\n",
    "            for j in range(1, 7):\n",
    "                if i - j > 0:\n",
    "                    dp[i] = min(dp[i], dp[i-j] + 1)\n",
    "        return dp[-1]\n",
    "    \n",
    "    \n",
    "length = 15\n",
    "connections = [[2, 8], [6, 9]]\n",
    "Solution().modernLudo(length, connections)"
   ]
  },
  {
   "cell_type": "markdown",
   "id": "648fbf49",
   "metadata": {},
   "source": [
    "### dp - from start to end - 九章\n",
    "- BFS + memory"
   ]
  },
  {
   "cell_type": "code",
   "execution_count": 24,
   "id": "4379728f",
   "metadata": {
    "ExecuteTime": {
     "end_time": "2021-09-29T18:02:42.542990Z",
     "start_time": "2021-09-29T18:02:42.528476Z"
    }
   },
   "outputs": [
    {
     "name": "stdout",
     "output_type": "stream",
     "text": [
      "{1: set(), 2: set(), 3: set(), 4: set(), 5: set(), 6: set(), 7: set(), 8: {2}, 9: {6}, 10: set(), 11: set(), 12: set(), 13: set(), 14: set(), 15: set()}\n",
      "2 8 {2} [inf, 0, 1, 1, 1, 1, 1, 1, 2, inf, inf, inf, inf, inf, inf, inf]\n",
      "2 8 {2} [inf, 0, 1, 1, 1, 1, 1, 1, 1, inf, inf, inf, inf, inf, inf, inf]\n",
      "6 9 {6} [inf, 0, 1, 1, 1, 1, 1, 1, 1, 2, inf, inf, inf, inf, inf, inf]\n",
      "6 9 {6} [inf, 0, 1, 1, 1, 1, 1, 1, 1, 1, inf, inf, inf, inf, inf, inf]\n"
     ]
    },
    {
     "data": {
      "text/plain": [
       "2"
      ]
     },
     "execution_count": 24,
     "metadata": {},
     "output_type": "execute_result"
    }
   ],
   "source": [
    "from collections import deque\n",
    "\n",
    "\n",
    "class Solution:\n",
    "    \"\"\"\n",
    "    @param length: the length of board\n",
    "    @param connections: the connections of the positions\n",
    "    @return: the minimum steps to reach the end\n",
    "    # \n",
    "    \"\"\"\n",
    "\n",
    "    def modernLudo(self, length, connections):\n",
    "        # Write your code here\n",
    "        graph = self.build_reverse_graph(length, connections)\n",
    "        print(graph)\n",
    "        \n",
    "        # 初始化很重要\n",
    "        dp = [float('inf')] * (length+1)\n",
    "        dp[1] = 0 \n",
    "\n",
    "        # 遍历每一个to_node, 找到到达to_node 的最短方式, 并且累加 记录到 dp中\n",
    "        for to_node in range(2, length+1):\n",
    "            left_limit = max(to_node - 6, 1)  # 不能到1更左边, 因为最多 向右移动6步, 所以这里 -6\n",
    "\n",
    "            # 解决摇骰子 连续前进的 graph 部分\n",
    "            for from_node in range(left_limit, to_node): # 到 to_node 的最短骰子数 = dp[to_node] 已知从 start 到 to_node 的最短骰子数 , dp[from_node] + 1. 这里大部分都是取等号\n",
    "                dp[to_node] = min(dp[to_node], dp[from_node] + 1)  # 因为只要投一次\n",
    "                \n",
    "\n",
    "            # 解决直连 跳跃部分\n",
    "            for from_node in graph[to_node]: # 0 次跳跃, 可以直达 to 的 from_node, \n",
    "                print(from_node, to_node, graph[to_node], dp)\n",
    "                dp[to_node] = min(dp[to_node], dp[from_node])\n",
    "                print(from_node, to_node, graph[to_node], dp)\n",
    "                \n",
    "#             print(dp)\n",
    "        return dp[length]\n",
    "\n",
    "    def build_reverse_graph(self, length, connections):\n",
    "        graph = {i: set() for i in range(1, length+1)}\n",
    "#         for a, b in connections:\n",
    "#             graph[a].add(b)\n",
    "        for from_node, to_node in connections: # 这里的 start 和from 要反过来.  要记录所有能到达 当前 node 的 from_node\n",
    "            graph[to_node].add(from_node)\n",
    "        return graph\n",
    "\n",
    "\n",
    "length = 15\n",
    "connections = [[2, 8], [6, 9]]\n",
    "# connections = [[8,2], [9,6]]\n",
    "Solution().modernLudo(length, connections)"
   ]
  },
  {
   "cell_type": "markdown",
   "id": "0e089ae4",
   "metadata": {
    "ExecuteTime": {
     "end_time": "2021-09-29T20:03:11.356318Z",
     "start_time": "2021-09-29T20:03:11.351319Z"
    }
   },
   "source": [
    "### dp - from end to start - 九章 (逆向 思考有点麻烦)"
   ]
  },
  {
   "cell_type": "code",
   "execution_count": 34,
   "id": "f21463c8",
   "metadata": {
    "ExecuteTime": {
     "end_time": "2021-09-29T20:21:11.572186Z",
     "start_time": "2021-09-29T20:21:11.550187Z"
    }
   },
   "outputs": [
    {
     "name": "stdout",
     "output_type": "stream",
     "text": [
      "{1: set(), 2: {8}, 3: set(), 4: set(), 5: set(), 6: {9}, 7: set(), 8: set(), 9: set(), 10: set(), 11: set(), 12: set(), 13: set(), 14: set(), 15: set()}\n",
      "from_node 14 to_node 15 set() [inf, inf, inf, inf, inf, inf, inf, inf, inf, inf, inf, inf, inf, inf, 1, 0]\n",
      "from_node 13 to_node 14 set() [inf, inf, inf, inf, inf, inf, inf, inf, inf, inf, inf, inf, inf, 2, 1, 0]\n",
      "from_node 13 to_node 15 set() [inf, inf, inf, inf, inf, inf, inf, inf, inf, inf, inf, inf, inf, 1, 1, 0]\n",
      "from_node 12 to_node 13 set() [inf, inf, inf, inf, inf, inf, inf, inf, inf, inf, inf, inf, 2, 1, 1, 0]\n",
      "from_node 12 to_node 14 set() [inf, inf, inf, inf, inf, inf, inf, inf, inf, inf, inf, inf, 2, 1, 1, 0]\n",
      "from_node 12 to_node 15 set() [inf, inf, inf, inf, inf, inf, inf, inf, inf, inf, inf, inf, 1, 1, 1, 0]\n",
      "from_node 11 to_node 12 set() [inf, inf, inf, inf, inf, inf, inf, inf, inf, inf, inf, 2, 1, 1, 1, 0]\n",
      "from_node 11 to_node 13 set() [inf, inf, inf, inf, inf, inf, inf, inf, inf, inf, inf, 2, 1, 1, 1, 0]\n",
      "from_node 11 to_node 14 set() [inf, inf, inf, inf, inf, inf, inf, inf, inf, inf, inf, 2, 1, 1, 1, 0]\n",
      "from_node 11 to_node 15 set() [inf, inf, inf, inf, inf, inf, inf, inf, inf, inf, inf, 1, 1, 1, 1, 0]\n",
      "from_node 10 to_node 11 set() [inf, inf, inf, inf, inf, inf, inf, inf, inf, inf, 2, 1, 1, 1, 1, 0]\n",
      "from_node 10 to_node 12 set() [inf, inf, inf, inf, inf, inf, inf, inf, inf, inf, 2, 1, 1, 1, 1, 0]\n",
      "from_node 10 to_node 13 set() [inf, inf, inf, inf, inf, inf, inf, inf, inf, inf, 2, 1, 1, 1, 1, 0]\n",
      "from_node 10 to_node 14 set() [inf, inf, inf, inf, inf, inf, inf, inf, inf, inf, 2, 1, 1, 1, 1, 0]\n",
      "from_node 10 to_node 15 set() [inf, inf, inf, inf, inf, inf, inf, inf, inf, inf, 1, 1, 1, 1, 1, 0]\n",
      "from_node 9 to_node 10 set() [inf, inf, inf, inf, inf, inf, inf, inf, inf, 2, 1, 1, 1, 1, 1, 0]\n",
      "from_node 9 to_node 11 set() [inf, inf, inf, inf, inf, inf, inf, inf, inf, 2, 1, 1, 1, 1, 1, 0]\n",
      "from_node 9 to_node 12 set() [inf, inf, inf, inf, inf, inf, inf, inf, inf, 2, 1, 1, 1, 1, 1, 0]\n",
      "from_node 9 to_node 13 set() [inf, inf, inf, inf, inf, inf, inf, inf, inf, 2, 1, 1, 1, 1, 1, 0]\n",
      "from_node 9 to_node 14 set() [inf, inf, inf, inf, inf, inf, inf, inf, inf, 2, 1, 1, 1, 1, 1, 0]\n",
      "from_node 9 to_node 15 set() [inf, inf, inf, inf, inf, inf, inf, inf, inf, 1, 1, 1, 1, 1, 1, 0]\n",
      "from_node 8 to_node 9 set() [inf, inf, inf, inf, inf, inf, inf, inf, 2, 1, 1, 1, 1, 1, 1, 0]\n",
      "from_node 8 to_node 10 set() [inf, inf, inf, inf, inf, inf, inf, inf, 2, 1, 1, 1, 1, 1, 1, 0]\n",
      "from_node 8 to_node 11 set() [inf, inf, inf, inf, inf, inf, inf, inf, 2, 1, 1, 1, 1, 1, 1, 0]\n",
      "from_node 8 to_node 12 set() [inf, inf, inf, inf, inf, inf, inf, inf, 2, 1, 1, 1, 1, 1, 1, 0]\n",
      "from_node 8 to_node 13 set() [inf, inf, inf, inf, inf, inf, inf, inf, 2, 1, 1, 1, 1, 1, 1, 0]\n",
      "from_node 8 to_node 14 set() [inf, inf, inf, inf, inf, inf, inf, inf, 2, 1, 1, 1, 1, 1, 1, 0]\n",
      "from_node 7 to_node 8 set() [inf, inf, inf, inf, inf, inf, inf, 3, 2, 1, 1, 1, 1, 1, 1, 0]\n",
      "from_node 7 to_node 9 set() [inf, inf, inf, inf, inf, inf, inf, 2, 2, 1, 1, 1, 1, 1, 1, 0]\n",
      "from_node 7 to_node 10 set() [inf, inf, inf, inf, inf, inf, inf, 2, 2, 1, 1, 1, 1, 1, 1, 0]\n",
      "from_node 7 to_node 11 set() [inf, inf, inf, inf, inf, inf, inf, 2, 2, 1, 1, 1, 1, 1, 1, 0]\n",
      "from_node 7 to_node 12 set() [inf, inf, inf, inf, inf, inf, inf, 2, 2, 1, 1, 1, 1, 1, 1, 0]\n",
      "from_node 7 to_node 13 set() [inf, inf, inf, inf, inf, inf, inf, 2, 2, 1, 1, 1, 1, 1, 1, 0]\n",
      "from_node 6 to_node 7 set() [inf, inf, inf, inf, inf, inf, 3, 2, 2, 1, 1, 1, 1, 1, 1, 0]\n",
      "from_node 6 to_node 8 set() [inf, inf, inf, inf, inf, inf, 3, 2, 2, 1, 1, 1, 1, 1, 1, 0]\n",
      "from_node 6 to_node 9 set() [inf, inf, inf, inf, inf, inf, 2, 2, 2, 1, 1, 1, 1, 1, 1, 0]\n",
      "from_node 6 to_node 10 set() [inf, inf, inf, inf, inf, inf, 2, 2, 2, 1, 1, 1, 1, 1, 1, 0]\n",
      "from_node 6 to_node 11 set() [inf, inf, inf, inf, inf, inf, 2, 2, 2, 1, 1, 1, 1, 1, 1, 0]\n",
      "from_node 6 to_node 12 set() [inf, inf, inf, inf, inf, inf, 2, 2, 2, 1, 1, 1, 1, 1, 1, 0]\n",
      "from_node 5 to_node 6 {9} [inf, inf, inf, inf, inf, 2, 1, 2, 2, 1, 1, 1, 1, 1, 1, 0]\n",
      "from_node 5 to_node 7 set() [inf, inf, inf, inf, inf, 2, 1, 2, 2, 1, 1, 1, 1, 1, 1, 0]\n",
      "from_node 5 to_node 8 set() [inf, inf, inf, inf, inf, 2, 1, 2, 2, 1, 1, 1, 1, 1, 1, 0]\n",
      "from_node 5 to_node 9 set() [inf, inf, inf, inf, inf, 2, 1, 2, 2, 1, 1, 1, 1, 1, 1, 0]\n",
      "from_node 5 to_node 10 set() [inf, inf, inf, inf, inf, 2, 1, 2, 2, 1, 1, 1, 1, 1, 1, 0]\n",
      "from_node 5 to_node 11 set() [inf, inf, inf, inf, inf, 2, 1, 2, 2, 1, 1, 1, 1, 1, 1, 0]\n",
      "from_node 4 to_node 5 set() [inf, inf, inf, inf, 3, 2, 1, 2, 2, 1, 1, 1, 1, 1, 1, 0]\n",
      "from_node 4 to_node 6 {9} [inf, inf, inf, inf, 2, 2, 1, 2, 2, 1, 1, 1, 1, 1, 1, 0]\n",
      "from_node 4 to_node 7 set() [inf, inf, inf, inf, 2, 2, 1, 2, 2, 1, 1, 1, 1, 1, 1, 0]\n",
      "from_node 4 to_node 8 set() [inf, inf, inf, inf, 2, 2, 1, 2, 2, 1, 1, 1, 1, 1, 1, 0]\n",
      "from_node 4 to_node 9 set() [inf, inf, inf, inf, 2, 2, 1, 2, 2, 1, 1, 1, 1, 1, 1, 0]\n",
      "from_node 4 to_node 10 set() [inf, inf, inf, inf, 2, 2, 1, 2, 2, 1, 1, 1, 1, 1, 1, 0]\n",
      "from_node 3 to_node 4 set() [inf, inf, inf, 3, 2, 2, 1, 2, 2, 1, 1, 1, 1, 1, 1, 0]\n",
      "from_node 3 to_node 5 set() [inf, inf, inf, 3, 2, 2, 1, 2, 2, 1, 1, 1, 1, 1, 1, 0]\n",
      "from_node 3 to_node 6 {9} [inf, inf, inf, 2, 2, 2, 1, 2, 2, 1, 1, 1, 1, 1, 1, 0]\n",
      "from_node 3 to_node 7 set() [inf, inf, inf, 2, 2, 2, 1, 2, 2, 1, 1, 1, 1, 1, 1, 0]\n",
      "from_node 3 to_node 8 set() [inf, inf, inf, 2, 2, 2, 1, 2, 2, 1, 1, 1, 1, 1, 1, 0]\n",
      "from_node 3 to_node 9 set() [inf, inf, inf, 2, 2, 2, 1, 2, 2, 1, 1, 1, 1, 1, 1, 0]\n",
      "from_node 2 to_node 3 set() [inf, inf, 3, 2, 2, 2, 1, 2, 2, 1, 1, 1, 1, 1, 1, 0]\n",
      "from_node 2 to_node 4 set() [inf, inf, 3, 2, 2, 2, 1, 2, 2, 1, 1, 1, 1, 1, 1, 0]\n",
      "from_node 2 to_node 5 set() [inf, inf, 3, 2, 2, 2, 1, 2, 2, 1, 1, 1, 1, 1, 1, 0]\n",
      "from_node 2 to_node 6 {9} [inf, inf, 2, 2, 2, 2, 1, 2, 2, 1, 1, 1, 1, 1, 1, 0]\n",
      "from_node 2 to_node 7 set() [inf, inf, 2, 2, 2, 2, 1, 2, 2, 1, 1, 1, 1, 1, 1, 0]\n",
      "from_node 2 to_node 8 set() [inf, inf, 2, 2, 2, 2, 1, 2, 2, 1, 1, 1, 1, 1, 1, 0]\n",
      "from_node 1 to_node 2 {8} [inf, 3, 2, 2, 2, 2, 1, 2, 2, 1, 1, 1, 1, 1, 1, 0]\n",
      "from_node 1 to_node 3 set() [inf, 3, 2, 2, 2, 2, 1, 2, 2, 1, 1, 1, 1, 1, 1, 0]\n",
      "from_node 1 to_node 4 set() [inf, 3, 2, 2, 2, 2, 1, 2, 2, 1, 1, 1, 1, 1, 1, 0]\n",
      "from_node 1 to_node 5 set() [inf, 3, 2, 2, 2, 2, 1, 2, 2, 1, 1, 1, 1, 1, 1, 0]\n",
      "from_node 1 to_node 6 {9} [inf, 2, 2, 2, 2, 2, 1, 2, 2, 1, 1, 1, 1, 1, 1, 0]\n",
      "from_node 1 to_node 7 set() [inf, 2, 2, 2, 2, 2, 1, 2, 2, 1, 1, 1, 1, 1, 1, 0]\n"
     ]
    },
    {
     "data": {
      "text/plain": [
       "2"
      ]
     },
     "execution_count": 34,
     "metadata": {},
     "output_type": "execute_result"
    }
   ],
   "source": [
    "from collections import deque\n",
    "\n",
    "\n",
    "class Solution:\n",
    "    \"\"\"\n",
    "    @param length: the length of board\n",
    "    @param connections: the connections of the positions\n",
    "    @return: the minimum steps to reach the end\n",
    "    # \n",
    "    \"\"\"\n",
    "\n",
    "    def modernLudo(self, length, connections):\n",
    "        # from_node 是 终点,  to_node 是起点\n",
    "        # \n",
    "        # Write your code here\n",
    "        graph = self.build_graph(length, connections)\n",
    "        print(graph)\n",
    "\n",
    "        # 初始化很重要\n",
    "        dp = [float('inf')] * (length+1)\n",
    "        dp[length] = 0\n",
    "\n",
    "        # 遍历每一个to_node, 找到到达to_node 的最短方式, 并且累加 记录到 dp中\n",
    "        for from_node in range(length-1, 0, -1):\n",
    "            right_limit = min(from_node + 6 + 1, length+1)\n",
    "            # 解决摇骰子 连续前进的 graph 部分\n",
    "            for to_node in range(from_node+1, right_limit): # 这里的 from_node 是终点, to_node 是起点\n",
    "                dp[from_node] = min(dp[from_node], dp[to_node] + 1)  # 因为只要投一次\n",
    "                print(\"from_node\", from_node, \"to_node\", to_node, graph[to_node], dp)\n",
    "\n",
    "            # 解决直连 跳跃部分\n",
    "            for to_node in graph[from_node]:  # 0 次跳跃, 可以直达 to 的 from_node,\n",
    "#                 print(from_node, to_node, graph[to_node], dp)\n",
    "                dp[from_node] = min( dp[from_node], dp[to_node])\n",
    "#                 print(from_node, to_node, graph[to_node], dp)\n",
    "\n",
    "#             print(dp)\n",
    "        return dp[1]\n",
    "\n",
    "    def build_graph(self, length, connections):\n",
    "        graph = {i: set() for i in range(1, length+1)}\n",
    "        for a, b in connections:\n",
    "            graph[a].add(b)\n",
    "#         for from_node, to_node in connections: # 这里的 start 和from 要反过来.  要记录所有能到达 当前 node 的 from_node\n",
    "#             graph[to_node].add(from_node)\n",
    "        return graph\n",
    "\n",
    "\n",
    "length = 15\n",
    "connections = [[2, 8], [6, 9]]\n",
    "# connections = [[8,2], [9,6]]\n",
    "Solution().modernLudo(length, connections)"
   ]
  },
  {
   "cell_type": "code",
   "execution_count": null,
   "id": "f7afbc39",
   "metadata": {},
   "outputs": [],
   "source": []
  },
  {
   "cell_type": "code",
   "execution_count": null,
   "id": "4123c730",
   "metadata": {},
   "outputs": [],
   "source": []
  },
  {
   "cell_type": "code",
   "execution_count": null,
   "id": "cc650366",
   "metadata": {},
   "outputs": [],
   "source": []
  },
  {
   "cell_type": "markdown",
   "id": "24d931c3",
   "metadata": {},
   "source": [
    "### SPFA\n",
    "- 如果当前能直达, 并且小于之前的记录, 则更新这个 distance 就行了\n",
    "- 可以允许重新加入"
   ]
  },
  {
   "cell_type": "code",
   "execution_count": 33,
   "id": "811d2aee",
   "metadata": {
    "ExecuteTime": {
     "end_time": "2021-09-26T21:10:12.415145Z",
     "start_time": "2021-09-26T21:10:12.400612Z"
    },
    "scrolled": true
   },
   "outputs": [
    {
     "name": "stdout",
     "output_type": "stream",
     "text": [
      "{1: set(), 2: set(), 3: set(), 4: set(), 5: set(), 6: set(), 7: {9}, 8: set(), 9: set(), 10: set(), 11: set(), 12: set(), 13: set(), 14: set(), 15: set()}\n",
      "deque([1])\n",
      "{1: 0, 2: inf, 3: inf, 4: inf, 5: inf, 6: inf, 7: inf, 8: inf, 9: inf, 10: inf, 11: inf, 12: inf, 13: inf, 14: inf, 15: inf}\n",
      "deque([2, 3, 4, 5, 6, 7])\n",
      "{1: 0, 2: 1, 3: 1, 4: 1, 5: 1, 6: 1, 7: 1, 8: inf, 9: inf, 10: inf, 11: inf, 12: inf, 13: inf, 14: inf, 15: inf}\n",
      "deque([3, 4, 5, 6, 7, 8])\n",
      "{1: 0, 2: 1, 3: 1, 4: 1, 5: 1, 6: 1, 7: 1, 8: 2, 9: inf, 10: inf, 11: inf, 12: inf, 13: inf, 14: inf, 15: inf}\n",
      "deque([4, 5, 6, 7, 8, 9])\n",
      "{1: 0, 2: 1, 3: 1, 4: 1, 5: 1, 6: 1, 7: 1, 8: 2, 9: 2, 10: inf, 11: inf, 12: inf, 13: inf, 14: inf, 15: inf}\n",
      "deque([5, 6, 7, 8, 9, 10])\n",
      "{1: 0, 2: 1, 3: 1, 4: 1, 5: 1, 6: 1, 7: 1, 8: 2, 9: 2, 10: 2, 11: inf, 12: inf, 13: inf, 14: inf, 15: inf}\n",
      "deque([6, 7, 8, 9, 10, 11])\n",
      "{1: 0, 2: 1, 3: 1, 4: 1, 5: 1, 6: 1, 7: 1, 8: 2, 9: 2, 10: 2, 11: 2, 12: inf, 13: inf, 14: inf, 15: inf}\n",
      "deque([7, 8, 9, 10, 11, 12])\n",
      "{1: 0, 2: 1, 3: 1, 4: 1, 5: 1, 6: 1, 7: 1, 8: 2, 9: 2, 10: 2, 11: 2, 12: 2, 13: inf, 14: inf, 15: inf}\n",
      "deque([8, 9, 10, 11, 12, 9, 13])\n",
      "{1: 0, 2: 1, 3: 1, 4: 1, 5: 1, 6: 1, 7: 1, 8: 2, 9: 1, 10: 2, 11: 2, 12: 2, 13: 2, 14: inf, 15: inf}\n",
      "deque([9, 10, 11, 12, 9, 13, 14])\n",
      "{1: 0, 2: 1, 3: 1, 4: 1, 5: 1, 6: 1, 7: 1, 8: 2, 9: 1, 10: 2, 11: 2, 12: 2, 13: 2, 14: 3, 15: inf}\n",
      "deque([10, 11, 12, 9, 13, 14, 14, 15])\n",
      "{1: 0, 2: 1, 3: 1, 4: 1, 5: 1, 6: 1, 7: 1, 8: 2, 9: 1, 10: 2, 11: 2, 12: 2, 13: 2, 14: 2, 15: 2}\n",
      "deque([11, 12, 9, 13, 14, 14, 15])\n",
      "{1: 0, 2: 1, 3: 1, 4: 1, 5: 1, 6: 1, 7: 1, 8: 2, 9: 1, 10: 2, 11: 2, 12: 2, 13: 2, 14: 2, 15: 2}\n",
      "deque([12, 9, 13, 14, 14, 15])\n",
      "{1: 0, 2: 1, 3: 1, 4: 1, 5: 1, 6: 1, 7: 1, 8: 2, 9: 1, 10: 2, 11: 2, 12: 2, 13: 2, 14: 2, 15: 2}\n",
      "deque([9, 13, 14, 14, 15])\n",
      "{1: 0, 2: 1, 3: 1, 4: 1, 5: 1, 6: 1, 7: 1, 8: 2, 9: 1, 10: 2, 11: 2, 12: 2, 13: 2, 14: 2, 15: 2}\n",
      "deque([13, 14, 14, 15])\n",
      "{1: 0, 2: 1, 3: 1, 4: 1, 5: 1, 6: 1, 7: 1, 8: 2, 9: 1, 10: 2, 11: 2, 12: 2, 13: 2, 14: 2, 15: 2}\n",
      "deque([14, 14, 15])\n",
      "{1: 0, 2: 1, 3: 1, 4: 1, 5: 1, 6: 1, 7: 1, 8: 2, 9: 1, 10: 2, 11: 2, 12: 2, 13: 2, 14: 2, 15: 2}\n",
      "deque([14, 15])\n",
      "{1: 0, 2: 1, 3: 1, 4: 1, 5: 1, 6: 1, 7: 1, 8: 2, 9: 1, 10: 2, 11: 2, 12: 2, 13: 2, 14: 2, 15: 2}\n",
      "deque([15])\n",
      "{1: 0, 2: 1, 3: 1, 4: 1, 5: 1, 6: 1, 7: 1, 8: 2, 9: 1, 10: 2, 11: 2, 12: 2, 13: 2, 14: 2, 15: 2}\n"
     ]
    },
    {
     "data": {
      "text/plain": [
       "2"
      ]
     },
     "execution_count": 33,
     "metadata": {},
     "output_type": "execute_result"
    }
   ],
   "source": [
    "from collections import deque\n",
    "class Solution:\n",
    "    \"\"\"\n",
    "    @param length: the length of board\n",
    "    @param connections: the connections of the positions\n",
    "    @return: the minimum steps to reach the end\n",
    "    # 用 heap(priority queue) 替换 queue 可以更快找到最短路径. \n",
    "    \"\"\"\n",
    "\n",
    "    def modernLudo(self, length, connections):\n",
    "        # Write your code here\n",
    "        graph = self.build_graph(length, connections)\n",
    "        print(graph)\n",
    "        queue = deque([1])\n",
    "        distance = {i: float(\"inf\") for i in range(1, length+1)}\n",
    "        distance[1] = 0\n",
    "        \n",
    "        while queue: # 找 最短路径, 队列里面会 重复 出现 两个 9\n",
    "            # 只要更好, 就更新 node 对应的 distance, 并且重新加入队列. 这样就算重复加入, 因为他的 distance 已经是最优的, 所以多跑一遍 loop 也不会影响很多\n",
    "            print(queue)\n",
    "            print(distance)\n",
    "            node = queue.popleft() # 这个 node 是一个数字\n",
    "            \n",
    "            ## 解决直连 跳跃部分\n",
    "            for next_node in graph[node]: \n",
    "                # 如果之前没入 queue = 没被 BFS 扫到过, 则\n",
    "                if distance[next_node]> distance[node]: # 搜索里面加了一个贪心\n",
    "                    distance[next_node] = distance[node] \n",
    "                    queue.append(next_node)\n",
    "            right_limit = min(node+1+6, length+1)\n",
    "            \n",
    "            ## 解决摇骰子 连续前进的 graph 部分\n",
    "            for next_node in range(node + 1, right_limit): \n",
    "                if distance[next_node]> distance[node]+1:\n",
    "                    distance[next_node] = distance[node] + 1\n",
    "                    queue.append(next_node)\n",
    "        return distance[length]\n",
    "    \n",
    "    \n",
    "    def build_graph(self, length, connections):\n",
    "        graph = {i: set() for i in range(1, length+1)}\n",
    "        for a,b in connections:\n",
    "            graph[a].add(b)\n",
    "        return graph\n",
    "    \n",
    "    \n",
    "\n",
    "length = 15\n",
    "connections = [[7,9]]\n",
    "Solution().modernLudo(length, connections)"
   ]
  },
  {
   "cell_type": "markdown",
   "id": "15cca965",
   "metadata": {},
   "source": [
    "### SPFA 堆优化\n",
    "- 用 heap or priorityQueue 来替换为 原有队列, 用 object, 用每个点 从小到大的距离\n",
    "- 搜索里面加了一个贪心"
   ]
  },
  {
   "cell_type": "code",
   "execution_count": 2,
   "id": "de255254",
   "metadata": {
    "ExecuteTime": {
     "end_time": "2021-09-29T17:27:59.726339Z",
     "start_time": "2021-09-29T17:27:59.711338Z"
    },
    "scrolled": true
   },
   "outputs": [
    {
     "name": "stdout",
     "output_type": "stream",
     "text": [
      "{1: set(), 2: set(), 3: set(), 4: set(), 5: set(), 6: set(), 7: {9}, 8: set(), 9: set(), 10: set(), 11: set(), 12: set(), 13: set(), 14: set(), 15: set()}\n",
      "[(0, 1)]\n",
      "{1: 0, 2: inf, 3: inf, 4: inf, 5: inf, 6: inf, 7: inf, 8: inf, 9: inf, 10: inf, 11: inf, 12: inf, 13: inf, 14: inf, 15: inf}\n",
      "[(1, 2), (1, 3), (1, 4), (1, 5), (1, 6), (1, 7)]\n",
      "{1: 0, 2: 1, 3: 1, 4: 1, 5: 1, 6: 1, 7: 1, 8: inf, 9: inf, 10: inf, 11: inf, 12: inf, 13: inf, 14: inf, 15: inf}\n",
      "[(1, 3), (1, 5), (1, 4), (1, 7), (1, 6), (2, 8)]\n",
      "{1: 0, 2: 1, 3: 1, 4: 1, 5: 1, 6: 1, 7: 1, 8: 2, 9: inf, 10: inf, 11: inf, 12: inf, 13: inf, 14: inf, 15: inf}\n",
      "[(1, 4), (1, 5), (2, 8), (1, 7), (1, 6), (2, 9)]\n",
      "{1: 0, 2: 1, 3: 1, 4: 1, 5: 1, 6: 1, 7: 1, 8: 2, 9: 2, 10: inf, 11: inf, 12: inf, 13: inf, 14: inf, 15: inf}\n",
      "[(1, 5), (1, 6), (2, 8), (1, 7), (2, 9), (2, 10)]\n",
      "{1: 0, 2: 1, 3: 1, 4: 1, 5: 1, 6: 1, 7: 1, 8: 2, 9: 2, 10: 2, 11: inf, 12: inf, 13: inf, 14: inf, 15: inf}\n",
      "[(1, 6), (1, 7), (2, 8), (2, 10), (2, 9), (2, 11)]\n",
      "{1: 0, 2: 1, 3: 1, 4: 1, 5: 1, 6: 1, 7: 1, 8: 2, 9: 2, 10: 2, 11: 2, 12: inf, 13: inf, 14: inf, 15: inf}\n",
      "[(1, 7), (2, 9), (2, 8), (2, 10), (2, 11), (2, 12)]\n",
      "{1: 0, 2: 1, 3: 1, 4: 1, 5: 1, 6: 1, 7: 1, 8: 2, 9: 2, 10: 2, 11: 2, 12: 2, 13: inf, 14: inf, 15: inf}\n",
      "[(1, 9), (2, 9), (2, 8), (2, 10), (2, 11), (2, 12), (2, 13)]\n",
      "{1: 0, 2: 1, 3: 1, 4: 1, 5: 1, 6: 1, 7: 1, 8: 2, 9: 1, 10: 2, 11: 2, 12: 2, 13: 2, 14: inf, 15: inf}\n",
      "[(2, 8), (2, 9), (2, 12), (2, 10), (2, 11), (2, 13), (2, 14), (2, 15)]\n",
      "{1: 0, 2: 1, 3: 1, 4: 1, 5: 1, 6: 1, 7: 1, 8: 2, 9: 1, 10: 2, 11: 2, 12: 2, 13: 2, 14: 2, 15: 2}\n",
      "[(2, 9), (2, 10), (2, 12), (2, 15), (2, 11), (2, 13), (2, 14)]\n",
      "{1: 0, 2: 1, 3: 1, 4: 1, 5: 1, 6: 1, 7: 1, 8: 2, 9: 1, 10: 2, 11: 2, 12: 2, 13: 2, 14: 2, 15: 2}\n",
      "[(2, 10), (2, 11), (2, 12), (2, 15), (2, 14), (2, 13)]\n",
      "{1: 0, 2: 1, 3: 1, 4: 1, 5: 1, 6: 1, 7: 1, 8: 2, 9: 1, 10: 2, 11: 2, 12: 2, 13: 2, 14: 2, 15: 2}\n",
      "[(2, 11), (2, 13), (2, 12), (2, 15), (2, 14)]\n",
      "{1: 0, 2: 1, 3: 1, 4: 1, 5: 1, 6: 1, 7: 1, 8: 2, 9: 1, 10: 2, 11: 2, 12: 2, 13: 2, 14: 2, 15: 2}\n",
      "[(2, 12), (2, 13), (2, 14), (2, 15)]\n",
      "{1: 0, 2: 1, 3: 1, 4: 1, 5: 1, 6: 1, 7: 1, 8: 2, 9: 1, 10: 2, 11: 2, 12: 2, 13: 2, 14: 2, 15: 2}\n",
      "[(2, 13), (2, 15), (2, 14)]\n",
      "{1: 0, 2: 1, 3: 1, 4: 1, 5: 1, 6: 1, 7: 1, 8: 2, 9: 1, 10: 2, 11: 2, 12: 2, 13: 2, 14: 2, 15: 2}\n",
      "[(2, 14), (2, 15)]\n",
      "{1: 0, 2: 1, 3: 1, 4: 1, 5: 1, 6: 1, 7: 1, 8: 2, 9: 1, 10: 2, 11: 2, 12: 2, 13: 2, 14: 2, 15: 2}\n",
      "[(2, 15)]\n",
      "{1: 0, 2: 1, 3: 1, 4: 1, 5: 1, 6: 1, 7: 1, 8: 2, 9: 1, 10: 2, 11: 2, 12: 2, 13: 2, 14: 2, 15: 2}\n"
     ]
    },
    {
     "data": {
      "text/plain": [
       "2"
      ]
     },
     "execution_count": 2,
     "metadata": {},
     "output_type": "execute_result"
    }
   ],
   "source": [
    "from collections import deque\n",
    "import heapq\n",
    "\n",
    "\n",
    "class Solution:\n",
    "\n",
    "    \"\"\"\n",
    "    @param length: the length of board\n",
    "    @param connections: the connections of the positions\n",
    "    @return: the minimum steps to reach the end\n",
    "    # 用 heap(priority queue) 替换 queue 可以更快找到最短路径. \n",
    "    \"\"\"\n",
    "\n",
    "    def modernLudo(self, length, connections):\n",
    "        # Write your code here\n",
    "        graph = self.build_graph(length, connections)\n",
    "        print(graph)\n",
    "        queue = [(0, 1)]\n",
    "        distance = {i: float(\"inf\") for i in range(1, length+1)}\n",
    "        distance[1] = 0\n",
    "\n",
    "        while queue:  # 找 最短路径, 队列里面会 重复 出现 两个 9\n",
    "            # 只要更好, 就更新 node 对应的 distance, 并且重新加入队列. 这样就算重复加入, 因为他的 distance 已经是最优的, 所以多跑一遍 loop 也不会影响很多\n",
    "            print(queue)\n",
    "            print(distance)\n",
    "            dist, node = heapq.heappop(queue)  # 这个 node 是一个数字\n",
    "\n",
    "            # 解决直连 跳跃部分\n",
    "            for next_node in graph[node]:\n",
    "                # 如果之前没入 queue = 没被 BFS 扫到过, 则\n",
    "                if distance[next_node] > dist + 0:\n",
    "                    distance[next_node] = dist + 0\n",
    "#                     queue.append(next_node)\n",
    "                    heapq.heappush(queue, (dist + 0, next_node))\n",
    "\n",
    "            # 解决摇骰子 连续前进的 graph 部分\n",
    "            for next_node in range(node + 1, min(node+1+6, length+1)):\n",
    "                if distance[next_node] > dist + 1:\n",
    "                    distance[next_node] = dist + 1\n",
    "                    heapq.heappush(queue, (dist+1, next_node))\n",
    "        return distance[length]\n",
    "\n",
    "    def build_graph(self, length, connections):\n",
    "        graph = {i: set() for i in range(1, length+1)}\n",
    "        for a, b in connections:\n",
    "            graph[a].add(b)\n",
    "        return graph\n",
    "\n",
    "\n",
    "length = 15\n",
    "connections = [[7, 9]]\n",
    "Solution().modernLudo(length, connections)"
   ]
  },
  {
   "cell_type": "code",
   "execution_count": null,
   "id": "04339476",
   "metadata": {},
   "outputs": [],
   "source": []
  },
  {
   "cell_type": "code",
   "execution_count": null,
   "id": "7ce80f1a",
   "metadata": {},
   "outputs": [],
   "source": []
  },
  {
   "cell_type": "code",
   "execution_count": null,
   "id": "c3bfaeaa",
   "metadata": {},
   "outputs": [],
   "source": []
  },
  {
   "cell_type": "markdown",
   "id": "d99e3624",
   "metadata": {},
   "source": [
    "# 573 Build post office II"
   ]
  },
  {
   "cell_type": "markdown",
   "id": "a12d1dea",
   "metadata": {},
   "source": [
    "## 最复杂版本 (错误) - 以空地为起点, 遍历所有的房子, 求其距离\n",
    "- 一定要先判断越界\n",
    "- 再判断是不是墙\n",
    "- 枚举空地"
   ]
  },
  {
   "cell_type": "code",
   "execution_count": 77,
   "id": "4ddf28c7",
   "metadata": {
    "ExecuteTime": {
     "end_time": "2021-09-30T01:17:56.775795Z",
     "start_time": "2021-09-30T01:17:56.750794Z"
    }
   },
   "outputs": [
    {
     "name": "stdout",
     "output_type": "stream",
     "text": [
      "\n",
      "dist for  0 0\n",
      "{(0, 0): 0}\n",
      "{(0, 0): 0, (0, 1): 1, (1, 0): 1}\n",
      "{(0, 0): 0, (0, 1): 1, (1, 0): 1, (0, 2): 2, (1, 1): 2}\n",
      "{(0, 0): 0, (0, 1): 1, (1, 0): 1, (0, 2): 2, (1, 1): 2, (2, 0): 2}\n",
      "{(0, 0): 0, (0, 1): 1, (1, 0): 1, (0, 2): 2, (1, 1): 2, (2, 0): 2, (0, 3): 3, (1, 2): 3}\n",
      "{(0, 0): 0, (0, 1): 1, (1, 0): 1, (0, 2): 2, (1, 1): 2, (2, 0): 2, (0, 3): 3, (1, 2): 3, (2, 1): 3}\n",
      "{(0, 0): 0, (0, 1): 1, (1, 0): 1, (0, 2): 2, (1, 1): 2, (2, 0): 2, (0, 3): 3, (1, 2): 3, (2, 1): 3}\n",
      "{(0, 0): 0, (0, 1): 1, (1, 0): 1, (0, 2): 2, (1, 1): 2, (2, 0): 2, (0, 3): 3, (1, 2): 3, (2, 1): 3, (0, 4): 4}\n",
      "{(0, 0): 0, (0, 1): 1, (1, 0): 1, (0, 2): 2, (1, 1): 2, (2, 0): 2, (0, 3): 3, (1, 2): 3, (2, 1): 3, (0, 4): 4, (2, 2): 4}\n",
      "{(0, 0): 0, (0, 1): 1, (1, 0): 1, (0, 2): 2, (1, 1): 2, (2, 0): 2, (0, 3): 3, (1, 2): 3, (2, 1): 3, (0, 4): 4, (2, 2): 4}\n",
      "{(0, 0): 0, (0, 1): 1, (1, 0): 1, (0, 2): 2, (1, 1): 2, (2, 0): 2, (0, 3): 3, (1, 2): 3, (2, 1): 3, (0, 4): 4, (2, 2): 4, (1, 4): 5}\n",
      "{(0, 0): 0, (0, 1): 1, (1, 0): 1, (0, 2): 2, (1, 1): 2, (2, 0): 2, (0, 3): 3, (1, 2): 3, (2, 1): 3, (0, 4): 4, (2, 2): 4, (1, 4): 5, (2, 3): 5}\n",
      "{(0, 0): 0, (0, 1): 1, (1, 0): 1, (0, 2): 2, (1, 1): 2, (2, 0): 2, (0, 3): 3, (1, 2): 3, (2, 1): 3, (0, 4): 4, (2, 2): 4, (1, 4): 5, (2, 3): 5, (2, 4): 6}\n",
      "{(0, 0): 0, (0, 1): 1, (1, 0): 1, (0, 2): 2, (1, 1): 2, (2, 0): 2, (0, 3): 3, (1, 2): 3, (2, 1): 3, (0, 4): 4, (2, 2): 4, (1, 4): 5, (2, 3): 5, (2, 4): 6}\n",
      "\n",
      "dist for  0 2\n",
      "{(0, 2): 0}\n",
      "{(0, 2): 0, (0, 3): 1, (0, 1): 1, (1, 2): 1}\n",
      "{(0, 2): 0, (0, 3): 1, (0, 1): 1, (1, 2): 1, (0, 4): 2}\n",
      "{(0, 2): 0, (0, 3): 1, (0, 1): 1, (1, 2): 1, (0, 4): 2, (0, 0): 2, (1, 1): 2}\n",
      "{(0, 2): 0, (0, 3): 1, (0, 1): 1, (1, 2): 1, (0, 4): 2, (0, 0): 2, (1, 1): 2, (2, 2): 2}\n",
      "{(0, 2): 0, (0, 3): 1, (0, 1): 1, (1, 2): 1, (0, 4): 2, (0, 0): 2, (1, 1): 2, (2, 2): 2, (1, 4): 3}\n",
      "{(0, 2): 0, (0, 3): 1, (0, 1): 1, (1, 2): 1, (0, 4): 2, (0, 0): 2, (1, 1): 2, (2, 2): 2, (1, 4): 3, (1, 0): 3}\n",
      "{(0, 2): 0, (0, 3): 1, (0, 1): 1, (1, 2): 1, (0, 4): 2, (0, 0): 2, (1, 1): 2, (2, 2): 2, (1, 4): 3, (1, 0): 3, (2, 1): 3}\n",
      "{(0, 2): 0, (0, 3): 1, (0, 1): 1, (1, 2): 1, (0, 4): 2, (0, 0): 2, (1, 1): 2, (2, 2): 2, (1, 4): 3, (1, 0): 3, (2, 1): 3, (2, 3): 3}\n",
      "{(0, 2): 0, (0, 3): 1, (0, 1): 1, (1, 2): 1, (0, 4): 2, (0, 0): 2, (1, 1): 2, (2, 2): 2, (1, 4): 3, (1, 0): 3, (2, 1): 3, (2, 3): 3, (2, 4): 4}\n",
      "{(0, 2): 0, (0, 3): 1, (0, 1): 1, (1, 2): 1, (0, 4): 2, (0, 0): 2, (1, 1): 2, (2, 2): 2, (1, 4): 3, (1, 0): 3, (2, 1): 3, (2, 3): 3, (2, 4): 4, (2, 0): 4}\n",
      "{(0, 2): 0, (0, 3): 1, (0, 1): 1, (1, 2): 1, (0, 4): 2, (0, 0): 2, (1, 1): 2, (2, 2): 2, (1, 4): 3, (1, 0): 3, (2, 1): 3, (2, 3): 3, (2, 4): 4, (2, 0): 4}\n",
      "{(0, 2): 0, (0, 3): 1, (0, 1): 1, (1, 2): 1, (0, 4): 2, (0, 0): 2, (1, 1): 2, (2, 2): 2, (1, 4): 3, (1, 0): 3, (2, 1): 3, (2, 3): 3, (2, 4): 4, (2, 0): 4}\n",
      "{(0, 2): 0, (0, 3): 1, (0, 1): 1, (1, 2): 1, (0, 4): 2, (0, 0): 2, (1, 1): 2, (2, 2): 2, (1, 4): 3, (1, 0): 3, (2, 1): 3, (2, 3): 3, (2, 4): 4, (2, 0): 4}\n",
      "\n",
      "dist for  0 3\n",
      "{(0, 3): 0}\n",
      "{(0, 3): 0, (0, 4): 1, (0, 2): 1}\n",
      "{(0, 3): 0, (0, 4): 1, (0, 2): 1, (1, 4): 2}\n",
      "{(0, 3): 0, (0, 4): 1, (0, 2): 1, (1, 4): 2, (0, 1): 2, (1, 2): 2}\n",
      "{(0, 3): 0, (0, 4): 1, (0, 2): 1, (1, 4): 2, (0, 1): 2, (1, 2): 2, (2, 4): 3}\n",
      "{(0, 3): 0, (0, 4): 1, (0, 2): 1, (1, 4): 2, (0, 1): 2, (1, 2): 2, (2, 4): 3, (0, 0): 3, (1, 1): 3}\n",
      "{(0, 3): 0, (0, 4): 1, (0, 2): 1, (1, 4): 2, (0, 1): 2, (1, 2): 2, (2, 4): 3, (0, 0): 3, (1, 1): 3, (2, 2): 3}\n",
      "{(0, 3): 0, (0, 4): 1, (0, 2): 1, (1, 4): 2, (0, 1): 2, (1, 2): 2, (2, 4): 3, (0, 0): 3, (1, 1): 3, (2, 2): 3, (2, 3): 4}\n",
      "{(0, 3): 0, (0, 4): 1, (0, 2): 1, (1, 4): 2, (0, 1): 2, (1, 2): 2, (2, 4): 3, (0, 0): 3, (1, 1): 3, (2, 2): 3, (2, 3): 4, (1, 0): 4}\n",
      "{(0, 3): 0, (0, 4): 1, (0, 2): 1, (1, 4): 2, (0, 1): 2, (1, 2): 2, (2, 4): 3, (0, 0): 3, (1, 1): 3, (2, 2): 3, (2, 3): 4, (1, 0): 4, (2, 1): 4}\n",
      "{(0, 3): 0, (0, 4): 1, (0, 2): 1, (1, 4): 2, (0, 1): 2, (1, 2): 2, (2, 4): 3, (0, 0): 3, (1, 1): 3, (2, 2): 3, (2, 3): 4, (1, 0): 4, (2, 1): 4}\n",
      "{(0, 3): 0, (0, 4): 1, (0, 2): 1, (1, 4): 2, (0, 1): 2, (1, 2): 2, (2, 4): 3, (0, 0): 3, (1, 1): 3, (2, 2): 3, (2, 3): 4, (1, 0): 4, (2, 1): 4}\n",
      "{(0, 3): 0, (0, 4): 1, (0, 2): 1, (1, 4): 2, (0, 1): 2, (1, 2): 2, (2, 4): 3, (0, 0): 3, (1, 1): 3, (2, 2): 3, (2, 3): 4, (1, 0): 4, (2, 1): 4, (2, 0): 5}\n",
      "{(0, 3): 0, (0, 4): 1, (0, 2): 1, (1, 4): 2, (0, 1): 2, (1, 2): 2, (2, 4): 3, (0, 0): 3, (1, 1): 3, (2, 2): 3, (2, 3): 4, (1, 0): 4, (2, 1): 4, (2, 0): 5}\n",
      "\n",
      "dist for  0 4\n",
      "{(0, 4): 0}\n",
      "{(0, 4): 0, (0, 3): 1, (1, 4): 1}\n",
      "{(0, 4): 0, (0, 3): 1, (1, 4): 1, (0, 2): 2}\n",
      "{(0, 4): 0, (0, 3): 1, (1, 4): 1, (0, 2): 2, (2, 4): 2}\n",
      "{(0, 4): 0, (0, 3): 1, (1, 4): 1, (0, 2): 2, (2, 4): 2, (0, 1): 3, (1, 2): 3}\n",
      "{(0, 4): 0, (0, 3): 1, (1, 4): 1, (0, 2): 2, (2, 4): 2, (0, 1): 3, (1, 2): 3, (2, 3): 3}\n",
      "{(0, 4): 0, (0, 3): 1, (1, 4): 1, (0, 2): 2, (2, 4): 2, (0, 1): 3, (1, 2): 3, (2, 3): 3, (0, 0): 4, (1, 1): 4}\n",
      "{(0, 4): 0, (0, 3): 1, (1, 4): 1, (0, 2): 2, (2, 4): 2, (0, 1): 3, (1, 2): 3, (2, 3): 3, (0, 0): 4, (1, 1): 4, (2, 2): 4}\n",
      "{(0, 4): 0, (0, 3): 1, (1, 4): 1, (0, 2): 2, (2, 4): 2, (0, 1): 3, (1, 2): 3, (2, 3): 3, (0, 0): 4, (1, 1): 4, (2, 2): 4}\n",
      "{(0, 4): 0, (0, 3): 1, (1, 4): 1, (0, 2): 2, (2, 4): 2, (0, 1): 3, (1, 2): 3, (2, 3): 3, (0, 0): 4, (1, 1): 4, (2, 2): 4, (1, 0): 5}\n",
      "{(0, 4): 0, (0, 3): 1, (1, 4): 1, (0, 2): 2, (2, 4): 2, (0, 1): 3, (1, 2): 3, (2, 3): 3, (0, 0): 4, (1, 1): 4, (2, 2): 4, (1, 0): 5, (2, 1): 5}\n",
      "{(0, 4): 0, (0, 3): 1, (1, 4): 1, (0, 2): 2, (2, 4): 2, (0, 1): 3, (1, 2): 3, (2, 3): 3, (0, 0): 4, (1, 1): 4, (2, 2): 4, (1, 0): 5, (2, 1): 5}\n",
      "{(0, 4): 0, (0, 3): 1, (1, 4): 1, (0, 2): 2, (2, 4): 2, (0, 1): 3, (1, 2): 3, (2, 3): 3, (0, 0): 4, (1, 1): 4, (2, 2): 4, (1, 0): 5, (2, 1): 5, (2, 0): 6}\n",
      "{(0, 4): 0, (0, 3): 1, (1, 4): 1, (0, 2): 2, (2, 4): 2, (0, 1): 3, (1, 2): 3, (2, 3): 3, (0, 0): 4, (1, 1): 4, (2, 2): 4, (1, 0): 5, (2, 1): 5, (2, 0): 6}\n",
      "\n",
      "dist for  1 1\n",
      "{(1, 1): 0}\n",
      "{(1, 1): 0, (1, 2): 1, (1, 0): 1, (2, 1): 1, (0, 1): 1}\n",
      "{(1, 1): 0, (1, 2): 1, (1, 0): 1, (2, 1): 1, (0, 1): 1, (2, 2): 2, (0, 2): 2}\n",
      "{(1, 1): 0, (1, 2): 1, (1, 0): 1, (2, 1): 1, (0, 1): 1, (2, 2): 2, (0, 2): 2, (2, 0): 2, (0, 0): 2}\n",
      "{(1, 1): 0, (1, 2): 1, (1, 0): 1, (2, 1): 1, (0, 1): 1, (2, 2): 2, (0, 2): 2, (2, 0): 2, (0, 0): 2}\n",
      "{(1, 1): 0, (1, 2): 1, (1, 0): 1, (2, 1): 1, (0, 1): 1, (2, 2): 2, (0, 2): 2, (2, 0): 2, (0, 0): 2}\n",
      "{(1, 1): 0, (1, 2): 1, (1, 0): 1, (2, 1): 1, (0, 1): 1, (2, 2): 2, (0, 2): 2, (2, 0): 2, (0, 0): 2, (2, 3): 3}\n",
      "{(1, 1): 0, (1, 2): 1, (1, 0): 1, (2, 1): 1, (0, 1): 1, (2, 2): 2, (0, 2): 2, (2, 0): 2, (0, 0): 2, (2, 3): 3, (0, 3): 3}\n",
      "{(1, 1): 0, (1, 2): 1, (1, 0): 1, (2, 1): 1, (0, 1): 1, (2, 2): 2, (0, 2): 2, (2, 0): 2, (0, 0): 2, (2, 3): 3, (0, 3): 3}\n",
      "{(1, 1): 0, (1, 2): 1, (1, 0): 1, (2, 1): 1, (0, 1): 1, (2, 2): 2, (0, 2): 2, (2, 0): 2, (0, 0): 2, (2, 3): 3, (0, 3): 3}\n",
      "{(1, 1): 0, (1, 2): 1, (1, 0): 1, (2, 1): 1, (0, 1): 1, (2, 2): 2, (0, 2): 2, (2, 0): 2, (0, 0): 2, (2, 3): 3, (0, 3): 3, (2, 4): 4}\n",
      "{(1, 1): 0, (1, 2): 1, (1, 0): 1, (2, 1): 1, (0, 1): 1, (2, 2): 2, (0, 2): 2, (2, 0): 2, (0, 0): 2, (2, 3): 3, (0, 3): 3, (2, 4): 4, (0, 4): 4}\n",
      "{(1, 1): 0, (1, 2): 1, (1, 0): 1, (2, 1): 1, (0, 1): 1, (2, 2): 2, (0, 2): 2, (2, 0): 2, (0, 0): 2, (2, 3): 3, (0, 3): 3, (2, 4): 4, (0, 4): 4, (1, 4): 5}\n",
      "{(1, 1): 0, (1, 2): 1, (1, 0): 1, (2, 1): 1, (0, 1): 1, (2, 2): 2, (0, 2): 2, (2, 0): 2, (0, 0): 2, (2, 3): 3, (0, 3): 3, (2, 4): 4, (0, 4): 4, (1, 4): 5}\n",
      "\n",
      "dist for  1 2\n",
      "{(1, 2): 0}\n",
      "{(1, 2): 0, (1, 1): 1, (2, 2): 1, (0, 2): 1}\n",
      "{(1, 2): 0, (1, 1): 1, (2, 2): 1, (0, 2): 1, (1, 0): 2, (2, 1): 2, (0, 1): 2}\n",
      "{(1, 2): 0, (1, 1): 1, (2, 2): 1, (0, 2): 1, (1, 0): 2, (2, 1): 2, (0, 1): 2, (2, 3): 2}\n",
      "{(1, 2): 0, (1, 1): 1, (2, 2): 1, (0, 2): 1, (1, 0): 2, (2, 1): 2, (0, 1): 2, (2, 3): 2, (0, 3): 2}\n",
      "{(1, 2): 0, (1, 1): 1, (2, 2): 1, (0, 2): 1, (1, 0): 2, (2, 1): 2, (0, 1): 2, (2, 3): 2, (0, 3): 2, (2, 0): 3, (0, 0): 3}\n",
      "{(1, 2): 0, (1, 1): 1, (2, 2): 1, (0, 2): 1, (1, 0): 2, (2, 1): 2, (0, 1): 2, (2, 3): 2, (0, 3): 2, (2, 0): 3, (0, 0): 3}\n",
      "{(1, 2): 0, (1, 1): 1, (2, 2): 1, (0, 2): 1, (1, 0): 2, (2, 1): 2, (0, 1): 2, (2, 3): 2, (0, 3): 2, (2, 0): 3, (0, 0): 3}\n",
      "{(1, 2): 0, (1, 1): 1, (2, 2): 1, (0, 2): 1, (1, 0): 2, (2, 1): 2, (0, 1): 2, (2, 3): 2, (0, 3): 2, (2, 0): 3, (0, 0): 3, (2, 4): 3}\n",
      "{(1, 2): 0, (1, 1): 1, (2, 2): 1, (0, 2): 1, (1, 0): 2, (2, 1): 2, (0, 1): 2, (2, 3): 2, (0, 3): 2, (2, 0): 3, (0, 0): 3, (2, 4): 3, (0, 4): 3}\n",
      "{(1, 2): 0, (1, 1): 1, (2, 2): 1, (0, 2): 1, (1, 0): 2, (2, 1): 2, (0, 1): 2, (2, 3): 2, (0, 3): 2, (2, 0): 3, (0, 0): 3, (2, 4): 3, (0, 4): 3}\n",
      "{(1, 2): 0, (1, 1): 1, (2, 2): 1, (0, 2): 1, (1, 0): 2, (2, 1): 2, (0, 1): 2, (2, 3): 2, (0, 3): 2, (2, 0): 3, (0, 0): 3, (2, 4): 3, (0, 4): 3}\n",
      "{(1, 2): 0, (1, 1): 1, (2, 2): 1, (0, 2): 1, (1, 0): 2, (2, 1): 2, (0, 1): 2, (2, 3): 2, (0, 3): 2, (2, 0): 3, (0, 0): 3, (2, 4): 3, (0, 4): 3, (1, 4): 4}\n",
      "{(1, 2): 0, (1, 1): 1, (2, 2): 1, (0, 2): 1, (1, 0): 2, (2, 1): 2, (0, 1): 2, (2, 3): 2, (0, 3): 2, (2, 0): 3, (0, 0): 3, (2, 4): 3, (0, 4): 3, (1, 4): 4}\n",
      "\n",
      "dist for  2 0\n",
      "{(2, 0): 0}\n",
      "{(2, 0): 0, (2, 1): 1, (1, 0): 1}\n",
      "{(2, 0): 0, (2, 1): 1, (1, 0): 1, (2, 2): 2, (1, 1): 2}\n",
      "{(2, 0): 0, (2, 1): 1, (1, 0): 1, (2, 2): 2, (1, 1): 2, (0, 0): 2}\n",
      "{(2, 0): 0, (2, 1): 1, (1, 0): 1, (2, 2): 2, (1, 1): 2, (0, 0): 2, (2, 3): 3, (1, 2): 3}\n",
      "{(2, 0): 0, (2, 1): 1, (1, 0): 1, (2, 2): 2, (1, 1): 2, (0, 0): 2, (2, 3): 3, (1, 2): 3, (0, 1): 3}\n",
      "{(2, 0): 0, (2, 1): 1, (1, 0): 1, (2, 2): 2, (1, 1): 2, (0, 0): 2, (2, 3): 3, (1, 2): 3, (0, 1): 3}\n",
      "{(2, 0): 0, (2, 1): 1, (1, 0): 1, (2, 2): 2, (1, 1): 2, (0, 0): 2, (2, 3): 3, (1, 2): 3, (0, 1): 3, (2, 4): 4}\n",
      "{(2, 0): 0, (2, 1): 1, (1, 0): 1, (2, 2): 2, (1, 1): 2, (0, 0): 2, (2, 3): 3, (1, 2): 3, (0, 1): 3, (2, 4): 4, (0, 2): 4}\n",
      "{(2, 0): 0, (2, 1): 1, (1, 0): 1, (2, 2): 2, (1, 1): 2, (0, 0): 2, (2, 3): 3, (1, 2): 3, (0, 1): 3, (2, 4): 4, (0, 2): 4}\n",
      "{(2, 0): 0, (2, 1): 1, (1, 0): 1, (2, 2): 2, (1, 1): 2, (0, 0): 2, (2, 3): 3, (1, 2): 3, (0, 1): 3, (2, 4): 4, (0, 2): 4, (1, 4): 5}\n",
      "{(2, 0): 0, (2, 1): 1, (1, 0): 1, (2, 2): 2, (1, 1): 2, (0, 0): 2, (2, 3): 3, (1, 2): 3, (0, 1): 3, (2, 4): 4, (0, 2): 4, (1, 4): 5, (0, 3): 5}\n",
      "{(2, 0): 0, (2, 1): 1, (1, 0): 1, (2, 2): 2, (1, 1): 2, (0, 0): 2, (2, 3): 3, (1, 2): 3, (0, 1): 3, (2, 4): 4, (0, 2): 4, (1, 4): 5, (0, 3): 5, (0, 4): 6}\n",
      "{(2, 0): 0, (2, 1): 1, (1, 0): 1, (2, 2): 2, (1, 1): 2, (0, 0): 2, (2, 3): 3, (1, 2): 3, (0, 1): 3, (2, 4): 4, (0, 2): 4, (1, 4): 5, (0, 3): 5, (0, 4): 6}\n",
      "\n",
      "dist for  2 2\n",
      "{(2, 2): 0}\n",
      "{(2, 2): 0, (2, 3): 1, (2, 1): 1, (1, 2): 1}\n",
      "{(2, 2): 0, (2, 3): 1, (2, 1): 1, (1, 2): 1, (2, 4): 2}\n",
      "{(2, 2): 0, (2, 3): 1, (2, 1): 1, (1, 2): 1, (2, 4): 2, (2, 0): 2, (1, 1): 2}\n",
      "{(2, 2): 0, (2, 3): 1, (2, 1): 1, (1, 2): 1, (2, 4): 2, (2, 0): 2, (1, 1): 2, (0, 2): 2}\n",
      "{(2, 2): 0, (2, 3): 1, (2, 1): 1, (1, 2): 1, (2, 4): 2, (2, 0): 2, (1, 1): 2, (0, 2): 2, (1, 4): 3}\n",
      "{(2, 2): 0, (2, 3): 1, (2, 1): 1, (1, 2): 1, (2, 4): 2, (2, 0): 2, (1, 1): 2, (0, 2): 2, (1, 4): 3, (1, 0): 3}\n",
      "{(2, 2): 0, (2, 3): 1, (2, 1): 1, (1, 2): 1, (2, 4): 2, (2, 0): 2, (1, 1): 2, (0, 2): 2, (1, 4): 3, (1, 0): 3, (0, 1): 3}\n",
      "{(2, 2): 0, (2, 3): 1, (2, 1): 1, (1, 2): 1, (2, 4): 2, (2, 0): 2, (1, 1): 2, (0, 2): 2, (1, 4): 3, (1, 0): 3, (0, 1): 3, (0, 3): 3}\n",
      "{(2, 2): 0, (2, 3): 1, (2, 1): 1, (1, 2): 1, (2, 4): 2, (2, 0): 2, (1, 1): 2, (0, 2): 2, (1, 4): 3, (1, 0): 3, (0, 1): 3, (0, 3): 3, (0, 4): 4}\n",
      "{(2, 2): 0, (2, 3): 1, (2, 1): 1, (1, 2): 1, (2, 4): 2, (2, 0): 2, (1, 1): 2, (0, 2): 2, (1, 4): 3, (1, 0): 3, (0, 1): 3, (0, 3): 3, (0, 4): 4, (0, 0): 4}\n",
      "{(2, 2): 0, (2, 3): 1, (2, 1): 1, (1, 2): 1, (2, 4): 2, (2, 0): 2, (1, 1): 2, (0, 2): 2, (1, 4): 3, (1, 0): 3, (0, 1): 3, (0, 3): 3, (0, 4): 4, (0, 0): 4}\n",
      "{(2, 2): 0, (2, 3): 1, (2, 1): 1, (1, 2): 1, (2, 4): 2, (2, 0): 2, (1, 1): 2, (0, 2): 2, (1, 4): 3, (1, 0): 3, (0, 1): 3, (0, 3): 3, (0, 4): 4, (0, 0): 4}\n",
      "{(2, 2): 0, (2, 3): 1, (2, 1): 1, (1, 2): 1, (2, 4): 2, (2, 0): 2, (1, 1): 2, (0, 2): 2, (1, 4): 3, (1, 0): 3, (0, 1): 3, (0, 3): 3, (0, 4): 4, (0, 0): 4}\n",
      "\n",
      "dist for  2 3\n",
      "{(2, 3): 0}\n",
      "{(2, 3): 0, (2, 4): 1, (2, 2): 1}\n",
      "{(2, 3): 0, (2, 4): 1, (2, 2): 1, (1, 4): 2}\n",
      "{(2, 3): 0, (2, 4): 1, (2, 2): 1, (1, 4): 2, (2, 1): 2, (1, 2): 2}\n",
      "{(2, 3): 0, (2, 4): 1, (2, 2): 1, (1, 4): 2, (2, 1): 2, (1, 2): 2, (0, 4): 3}\n",
      "{(2, 3): 0, (2, 4): 1, (2, 2): 1, (1, 4): 2, (2, 1): 2, (1, 2): 2, (0, 4): 3, (2, 0): 3, (1, 1): 3}\n",
      "{(2, 3): 0, (2, 4): 1, (2, 2): 1, (1, 4): 2, (2, 1): 2, (1, 2): 2, (0, 4): 3, (2, 0): 3, (1, 1): 3, (0, 2): 3}\n",
      "{(2, 3): 0, (2, 4): 1, (2, 2): 1, (1, 4): 2, (2, 1): 2, (1, 2): 2, (0, 4): 3, (2, 0): 3, (1, 1): 3, (0, 2): 3, (0, 3): 4}\n",
      "{(2, 3): 0, (2, 4): 1, (2, 2): 1, (1, 4): 2, (2, 1): 2, (1, 2): 2, (0, 4): 3, (2, 0): 3, (1, 1): 3, (0, 2): 3, (0, 3): 4, (1, 0): 4}\n",
      "{(2, 3): 0, (2, 4): 1, (2, 2): 1, (1, 4): 2, (2, 1): 2, (1, 2): 2, (0, 4): 3, (2, 0): 3, (1, 1): 3, (0, 2): 3, (0, 3): 4, (1, 0): 4, (0, 1): 4}\n",
      "{(2, 3): 0, (2, 4): 1, (2, 2): 1, (1, 4): 2, (2, 1): 2, (1, 2): 2, (0, 4): 3, (2, 0): 3, (1, 1): 3, (0, 2): 3, (0, 3): 4, (1, 0): 4, (0, 1): 4}\n",
      "{(2, 3): 0, (2, 4): 1, (2, 2): 1, (1, 4): 2, (2, 1): 2, (1, 2): 2, (0, 4): 3, (2, 0): 3, (1, 1): 3, (0, 2): 3, (0, 3): 4, (1, 0): 4, (0, 1): 4}\n",
      "{(2, 3): 0, (2, 4): 1, (2, 2): 1, (1, 4): 2, (2, 1): 2, (1, 2): 2, (0, 4): 3, (2, 0): 3, (1, 1): 3, (0, 2): 3, (0, 3): 4, (1, 0): 4, (0, 1): 4, (0, 0): 5}\n",
      "{(2, 3): 0, (2, 4): 1, (2, 2): 1, (1, 4): 2, (2, 1): 2, (1, 2): 2, (0, 4): 3, (2, 0): 3, (1, 1): 3, (0, 2): 3, (0, 3): 4, (1, 0): 4, (0, 1): 4, (0, 0): 5}\n",
      "\n",
      "dist for  2 4\n",
      "{(2, 4): 0}\n",
      "{(2, 4): 0, (2, 3): 1, (1, 4): 1}\n",
      "{(2, 4): 0, (2, 3): 1, (1, 4): 1, (2, 2): 2}\n",
      "{(2, 4): 0, (2, 3): 1, (1, 4): 1, (2, 2): 2, (0, 4): 2}\n",
      "{(2, 4): 0, (2, 3): 1, (1, 4): 1, (2, 2): 2, (0, 4): 2, (2, 1): 3, (1, 2): 3}\n",
      "{(2, 4): 0, (2, 3): 1, (1, 4): 1, (2, 2): 2, (0, 4): 2, (2, 1): 3, (1, 2): 3, (0, 3): 3}\n",
      "{(2, 4): 0, (2, 3): 1, (1, 4): 1, (2, 2): 2, (0, 4): 2, (2, 1): 3, (1, 2): 3, (0, 3): 3, (2, 0): 4, (1, 1): 4}\n",
      "{(2, 4): 0, (2, 3): 1, (1, 4): 1, (2, 2): 2, (0, 4): 2, (2, 1): 3, (1, 2): 3, (0, 3): 3, (2, 0): 4, (1, 1): 4, (0, 2): 4}\n",
      "{(2, 4): 0, (2, 3): 1, (1, 4): 1, (2, 2): 2, (0, 4): 2, (2, 1): 3, (1, 2): 3, (0, 3): 3, (2, 0): 4, (1, 1): 4, (0, 2): 4}\n",
      "{(2, 4): 0, (2, 3): 1, (1, 4): 1, (2, 2): 2, (0, 4): 2, (2, 1): 3, (1, 2): 3, (0, 3): 3, (2, 0): 4, (1, 1): 4, (0, 2): 4, (1, 0): 5}\n",
      "{(2, 4): 0, (2, 3): 1, (1, 4): 1, (2, 2): 2, (0, 4): 2, (2, 1): 3, (1, 2): 3, (0, 3): 3, (2, 0): 4, (1, 1): 4, (0, 2): 4, (1, 0): 5, (0, 1): 5}\n",
      "{(2, 4): 0, (2, 3): 1, (1, 4): 1, (2, 2): 2, (0, 4): 2, (2, 1): 3, (1, 2): 3, (0, 3): 3, (2, 0): 4, (1, 1): 4, (0, 2): 4, (1, 0): 5, (0, 1): 5}\n",
      "{(2, 4): 0, (2, 3): 1, (1, 4): 1, (2, 2): 2, (0, 4): 2, (2, 1): 3, (1, 2): 3, (0, 3): 3, (2, 0): 4, (1, 1): 4, (0, 2): 4, (1, 0): 5, (0, 1): 5, (0, 0): 6}\n",
      "{(2, 4): 0, (2, 3): 1, (1, 4): 1, (2, 2): 2, (0, 4): 2, (2, 1): 3, (1, 2): 3, (0, 3): 3, (2, 0): 4, (1, 1): 4, (0, 2): 4, (1, 0): 5, (0, 1): 5, (0, 0): 6}\n"
     ]
    },
    {
     "data": {
      "text/plain": [
       "8"
      ]
     },
     "execution_count": 77,
     "metadata": {},
     "output_type": "execute_result"
    }
   ],
   "source": [
    "# from ylections import deque\n",
    "\n",
    "\n",
    "class GridType:  # 写这样的常量, 能非常提高可读性\n",
    "    EMPTY = 0\n",
    "    HOUSE = 1\n",
    "    WALL = 2\n",
    "\n",
    "\n",
    "class Solution:\n",
    "    \"\"\"\n",
    "    @param grid: a 2D grid\n",
    "    @return: An integer\n",
    "    \"\"\"\n",
    "\n",
    "    def shortestDistance(self, grid):\n",
    "        # write your code here\n",
    "        m, n = len(grid), len(grid[0])\n",
    "        sum_dist = float('inf')\n",
    "        for i in range(m):\n",
    "            for j in range(n):\n",
    "                if grid[i][j] == GridType.EMPTY:\n",
    "                    dist = self.bfs(grid, i, j)  # i,j 到其他所有 HOUSE 的 距离\n",
    "#                     print(dist)\n",
    "                    sum_dist = min(sum_dist, self.get_sum_dist(grid, dist))\n",
    "                if grid[i][j] == GridType.HOUSE or grid[i][j] == GridType.WALL:\n",
    "                    continue\n",
    "\n",
    "        return sum_dist if sum_dist != float('inf') else -1\n",
    "\n",
    "    def get_sum_dist(self, grid, dist):  # 这里穿进去的是,  i,j 这个点 在 grid 中 与其他所有 HOUSE 的 dist\n",
    "        dist_sum = 0\n",
    "        for x, x_row in enumerate(grid):\n",
    "            for y, val in enumerate(x_row):\n",
    "                if val == GridType.HOUSE:  # 将所有 house 与 i,j 的距离求和\n",
    "                    if (x, y) not in dist: # 如果 这个 dist中不存在 这个点, 意味着 不可达\n",
    "                        return float('inf')\n",
    "                    dist_sum += dist[(x, y)]\n",
    "        return dist_sum\n",
    "\n",
    "    def bfs(self, grid, x, y): # 这个 方格的 BFS 很有意思, \n",
    "        dist = {(x, y): 0}\n",
    "        queue = deque([(x, y)])\n",
    "        print('\\ndist for ', x, y)\n",
    "        \n",
    "        while queue:\n",
    "            print(dist)\n",
    "            x, y = queue.popleft() # 看这里要怎样记录 node, 也可以建立一个 矩阵 全局 hash 的映射 去遍历\n",
    "            for d_x, d_y in {(1, 0), (-1, 0), (0, 1), (0, -1)}: # 十字范围 搜索, 以中间点 搜索周围 4个 children, 看是否可达, 然后添加到queue中继续 BFS \n",
    "                adj_x, adj_y = x + d_x, y + d_y # 邻接位置\n",
    "                if not self.is_valid(adj_x, adj_y, grid) or (adj_x, adj_y) in dist: # 只搜索 为0 的 邻接地方, 并且没有 遍历过, (提前进去的 一定越短! )\n",
    "                    continue\n",
    "                dist[(adj_x, adj_y)] = dist[(x, y)] + 1 # 如果可达, 则距离+1, 并且把这个点 添加到 queue 中. \n",
    "#                 if grid[adj_x][adj_y] != GridType.HOUSE: # 这里不遍历HOUSE的原因是??? 会被其他地方遍历??\n",
    "                queue.append((adj_x, adj_y))\n",
    "        \n",
    "        return dist\n",
    "\n",
    "    def is_valid(self, x, y, grid): # 可以是 穿过房子.\n",
    "        x_cnt, y_cnt = len(grid), len(grid[0])\n",
    "        # 不越界\n",
    "        if x < 0 or x >= x_cnt or y < 0 or y >= y_cnt:\n",
    "            return False\n",
    "        # 不是墙\n",
    "        return grid[x][y] != GridType.WALL\n",
    "\n",
    "\n",
    "grid = [[0, 1, 0, 0, 0], [1, 0, 0, 2, 1], [0, 1, 0, 0, 0]]\n",
    "Solution().shortestDistance(grid)"
   ]
  },
  {
   "cell_type": "markdown",
   "id": "a66abc13",
   "metadata": {},
   "source": [
    "\n",
    "## 最复杂版本 - 以房子为起点, 遍历所有的空地 求其距离\n",
    "- 一定要先判断越界\n",
    "- 再判断是不是墙"
   ]
  },
  {
   "cell_type": "code",
   "execution_count": 78,
   "id": "cb5b211c",
   "metadata": {
    "ExecuteTime": {
     "end_time": "2021-09-30T01:19:13.471133Z",
     "start_time": "2021-09-30T01:19:13.449131Z"
    }
   },
   "outputs": [
    {
     "name": "stdout",
     "output_type": "stream",
     "text": [
      "\n",
      "dist for  0 1\n",
      "{(0, 1): 0}\n",
      "{(0, 1): 0, (0, 2): 1, (0, 0): 1, (1, 1): 1}\n",
      "{(0, 1): 0, (0, 2): 1, (0, 0): 1, (1, 1): 1, (0, 3): 2, (1, 2): 2}\n",
      "{(0, 1): 0, (0, 2): 1, (0, 0): 1, (1, 1): 1, (0, 3): 2, (1, 2): 2}\n",
      "{(0, 1): 0, (0, 2): 1, (0, 0): 1, (1, 1): 1, (0, 3): 2, (1, 2): 2}\n",
      "{(0, 1): 0, (0, 2): 1, (0, 0): 1, (1, 1): 1, (0, 3): 2, (1, 2): 2, (0, 4): 3}\n",
      "{(0, 1): 0, (0, 2): 1, (0, 0): 1, (1, 1): 1, (0, 3): 2, (1, 2): 2, (0, 4): 3, (2, 2): 3}\n",
      "{(0, 1): 0, (0, 2): 1, (0, 0): 1, (1, 1): 1, (0, 3): 2, (1, 2): 2, (0, 4): 3, (2, 2): 3}\n",
      "{(0, 1): 0, (0, 2): 1, (0, 0): 1, (1, 1): 1, (0, 3): 2, (1, 2): 2, (0, 4): 3, (2, 2): 3, (2, 3): 4}\n",
      "{(0, 1): 0, (0, 2): 1, (0, 0): 1, (1, 1): 1, (0, 3): 2, (1, 2): 2, (0, 4): 3, (2, 2): 3, (2, 3): 4, (2, 4): 5}\n",
      "\n",
      "dist for  1 0\n",
      "{(1, 0): 0}\n",
      "{(1, 0): 0, (1, 1): 1, (2, 0): 1, (0, 0): 1}\n",
      "{(1, 0): 0, (1, 1): 1, (2, 0): 1, (0, 0): 1, (1, 2): 2}\n",
      "{(1, 0): 0, (1, 1): 1, (2, 0): 1, (0, 0): 1, (1, 2): 2}\n",
      "{(1, 0): 0, (1, 1): 1, (2, 0): 1, (0, 0): 1, (1, 2): 2}\n",
      "{(1, 0): 0, (1, 1): 1, (2, 0): 1, (0, 0): 1, (1, 2): 2, (2, 2): 3, (0, 2): 3}\n",
      "{(1, 0): 0, (1, 1): 1, (2, 0): 1, (0, 0): 1, (1, 2): 2, (2, 2): 3, (0, 2): 3, (2, 3): 4}\n",
      "{(1, 0): 0, (1, 1): 1, (2, 0): 1, (0, 0): 1, (1, 2): 2, (2, 2): 3, (0, 2): 3, (2, 3): 4, (0, 3): 4}\n",
      "{(1, 0): 0, (1, 1): 1, (2, 0): 1, (0, 0): 1, (1, 2): 2, (2, 2): 3, (0, 2): 3, (2, 3): 4, (0, 3): 4, (2, 4): 5}\n",
      "{(1, 0): 0, (1, 1): 1, (2, 0): 1, (0, 0): 1, (1, 2): 2, (2, 2): 3, (0, 2): 3, (2, 3): 4, (0, 3): 4, (2, 4): 5, (0, 4): 5}\n",
      "{(1, 0): 0, (1, 1): 1, (2, 0): 1, (0, 0): 1, (1, 2): 2, (2, 2): 3, (0, 2): 3, (2, 3): 4, (0, 3): 4, (2, 4): 5, (0, 4): 5}\n",
      "\n",
      "dist for  1 4\n",
      "{(1, 4): 0}\n",
      "{(1, 4): 0, (2, 4): 1, (0, 4): 1}\n",
      "{(1, 4): 0, (2, 4): 1, (0, 4): 1, (2, 3): 2}\n",
      "{(1, 4): 0, (2, 4): 1, (0, 4): 1, (2, 3): 2, (0, 3): 2}\n",
      "{(1, 4): 0, (2, 4): 1, (0, 4): 1, (2, 3): 2, (0, 3): 2, (2, 2): 3}\n",
      "{(1, 4): 0, (2, 4): 1, (0, 4): 1, (2, 3): 2, (0, 3): 2, (2, 2): 3, (0, 2): 3}\n",
      "{(1, 4): 0, (2, 4): 1, (0, 4): 1, (2, 3): 2, (0, 3): 2, (2, 2): 3, (0, 2): 3, (1, 2): 4}\n",
      "{(1, 4): 0, (2, 4): 1, (0, 4): 1, (2, 3): 2, (0, 3): 2, (2, 2): 3, (0, 2): 3, (1, 2): 4}\n",
      "{(1, 4): 0, (2, 4): 1, (0, 4): 1, (2, 3): 2, (0, 3): 2, (2, 2): 3, (0, 2): 3, (1, 2): 4, (1, 1): 5}\n",
      "\n",
      "dist for  2 1\n",
      "{(2, 1): 0}\n",
      "{(2, 1): 0, (2, 2): 1, (2, 0): 1, (1, 1): 1}\n",
      "{(2, 1): 0, (2, 2): 1, (2, 0): 1, (1, 1): 1, (2, 3): 2, (1, 2): 2}\n",
      "{(2, 1): 0, (2, 2): 1, (2, 0): 1, (1, 1): 1, (2, 3): 2, (1, 2): 2}\n",
      "{(2, 1): 0, (2, 2): 1, (2, 0): 1, (1, 1): 1, (2, 3): 2, (1, 2): 2}\n",
      "{(2, 1): 0, (2, 2): 1, (2, 0): 1, (1, 1): 1, (2, 3): 2, (1, 2): 2, (2, 4): 3}\n",
      "{(2, 1): 0, (2, 2): 1, (2, 0): 1, (1, 1): 1, (2, 3): 2, (1, 2): 2, (2, 4): 3, (0, 2): 3}\n",
      "{(2, 1): 0, (2, 2): 1, (2, 0): 1, (1, 1): 1, (2, 3): 2, (1, 2): 2, (2, 4): 3, (0, 2): 3}\n",
      "{(2, 1): 0, (2, 2): 1, (2, 0): 1, (1, 1): 1, (2, 3): 2, (1, 2): 2, (2, 4): 3, (0, 2): 3, (0, 3): 4}\n",
      "{(2, 1): 0, (2, 2): 1, (2, 0): 1, (1, 1): 1, (2, 3): 2, (1, 2): 2, (2, 4): 3, (0, 2): 3, (0, 3): 4, (0, 4): 5}\n"
     ]
    },
    {
     "data": {
      "text/plain": [
       "29"
      ]
     },
     "execution_count": 78,
     "metadata": {},
     "output_type": "execute_result"
    }
   ],
   "source": [
    "from collections import deque\n",
    "\n",
    "\n",
    "class GridType:  # 写这样的常量, 能非常提高可读性\n",
    "    EMPTY = 0\n",
    "    HOUSE = 1\n",
    "    WALL = 2\n",
    "\n",
    "\n",
    "class Solution:\n",
    "    \"\"\"\n",
    "    @param grid: a 2D grid\n",
    "    @return: An integer\n",
    "    \"\"\"\n",
    "\n",
    "    def shortestDistance(self, grid):\n",
    "        # write your code here\n",
    "        m, n = len(grid), len(grid[0])\n",
    "        sum_dist = float('inf')\n",
    "        for i in range(m):\n",
    "            for j in range(n):\n",
    "                if grid[i][j] == GridType.HOUSE:\n",
    "                    dist = self.bfs(grid, i, j)  # HOUSE i,j 到其他所有 空地 的 距离\n",
    "#                     print(dist)\n",
    "                    sum_dist = min(sum_dist, self.get_sum_dist(grid, dist))\n",
    "                if grid[i][j] == GridType.EMPTY or grid[i][j] == GridType.WALL: # 可注释\n",
    "                    continue\n",
    "\n",
    "        return sum_dist if sum_dist != float('inf') else -1\n",
    "\n",
    "    def get_sum_dist(self, grid, dist):  # 这里穿进去的是, # HOUSE i,j 到其他所有 空地 的 距离\n",
    "        dist_sum = 0\n",
    "        for x, x_row in enumerate(grid):\n",
    "            for y, val in enumerate(x_row):\n",
    "                if val == GridType.EMPTY:  # 将所有 EMPTY 与 i,j 的距离求和\n",
    "                    if (x, y) not in dist: # 如果 这个 dist中不存在 这个点, 意味着 不可达\n",
    "                        return float('inf')\n",
    "                    dist_sum += dist[(x, y)] # 遍历HOUSE 离所有 EMPTY的距离\n",
    "        return dist_sum\n",
    "\n",
    "    def bfs(self, grid, x, y): # 这个 方格的 BFS 很有意思, \n",
    "        dist = {(x, y): 0}\n",
    "        queue = deque([(x, y)])\n",
    "        print('\\ndist for ', x, y)\n",
    "        \n",
    "        while queue:\n",
    "            print(dist)\n",
    "            x, y = queue.popleft() # 看这里要怎样记录 node, 也可以建立一个 矩阵 全局 hash 的映射 去遍历\n",
    "            for dx, dy in {(1, 0), (-1, 0), (0, 1), (0, -1)}: # 十字范围 搜索, 以中间点 搜索周围 4个 children, 看是否可达, 然后添加到queue中继续 BFS \n",
    "                adj_x, adj_y = x + dx, y + dy # 邻接位置\n",
    "                if not self.is_valid(adj_x, adj_y, grid) or (adj_x, adj_y) in dist: # 只搜索 为0 的 邻接地方, 并且没有 遍历过, (提前进去的 一定越短! )\n",
    "                    continue\n",
    "                dist[(adj_x, adj_y)] = dist[(x, y)] + 1 # 如果可达, 则距离+1, 并且把这个点 添加到 queue 中. \n",
    "#                 if grid[adj_x][adj_y] == GridType.EMPTY: # 这里要判断是 空地, 则要把空地的location 加进来\n",
    "                queue.append((adj_x, adj_y))\n",
    "        \n",
    "        return dist\n",
    "\n",
    "    def is_valid(self, x, y, grid):\n",
    "        m, n = len(grid), len(grid[0])\n",
    "        # 不越界\n",
    "        if x < 0 or x >= m or y < 0 or y >= n:\n",
    "            return False\n",
    "        # 是空??\n",
    "        return grid[x][y] == GridType.EMPTY # \n",
    "\n",
    "\n",
    "grid = [[0, 1, 0, 0, 0], [1, 0, 0, 2, 1], [0, 1, 0, 0, 0]]\n",
    "Solution().shortestDistance(grid)"
   ]
  },
  {
   "cell_type": "code",
   "execution_count": null,
   "id": "46967cfe",
   "metadata": {},
   "outputs": [],
   "source": []
  },
  {
   "cell_type": "markdown",
   "id": "7abe47f7",
   "metadata": {},
   "source": [
    "## 稍简化 - 以房子为起点, 遍历所有的空地 求其距离\n",
    "- 一定要先判断越界\n",
    "- 再判断是不是墙\n",
    "- 逆向思维从house开始BFS, 否则从empty开始会TLE"
   ]
  },
  {
   "cell_type": "code",
   "execution_count": 93,
   "id": "e3965275",
   "metadata": {
    "ExecuteTime": {
     "end_time": "2021-09-30T01:48:00.161691Z",
     "start_time": "2021-09-30T01:48:00.136692Z"
    }
   },
   "outputs": [
    {
     "name": "stdout",
     "output_type": "stream",
     "text": [
      "\n",
      "dist for  0 1\n",
      "{(0, 1): 0}\n",
      "{(0, 1): 0, (0, 2): 1, (0, 0): 1, (1, 1): 1}\n",
      "{(0, 1): 0, (0, 2): 1, (0, 0): 1, (1, 1): 1, (0, 3): 2, (1, 2): 2}\n",
      "{(0, 1): 0, (0, 2): 1, (0, 0): 1, (1, 1): 1, (0, 3): 2, (1, 2): 2}\n",
      "{(0, 1): 0, (0, 2): 1, (0, 0): 1, (1, 1): 1, (0, 3): 2, (1, 2): 2}\n",
      "{(0, 1): 0, (0, 2): 1, (0, 0): 1, (1, 1): 1, (0, 3): 2, (1, 2): 2, (0, 4): 3}\n",
      "{(0, 1): 0, (0, 2): 1, (0, 0): 1, (1, 1): 1, (0, 3): 2, (1, 2): 2, (0, 4): 3, (2, 2): 3}\n",
      "{(0, 1): 0, (0, 2): 1, (0, 0): 1, (1, 1): 1, (0, 3): 2, (1, 2): 2, (0, 4): 3, (2, 2): 3}\n",
      "{(0, 1): 0, (0, 2): 1, (0, 0): 1, (1, 1): 1, (0, 3): 2, (1, 2): 2, (0, 4): 3, (2, 2): 3, (2, 3): 4}\n",
      "{(0, 1): 0, (0, 2): 1, (0, 0): 1, (1, 1): 1, (0, 3): 2, (1, 2): 2, (0, 4): 3, (2, 2): 3, (2, 3): 4, (2, 4): 5}\n",
      "\n",
      "dist for  1 0\n",
      "{(1, 0): 0}\n",
      "{(1, 0): 0, (1, 1): 1, (2, 0): 1, (0, 0): 1}\n",
      "{(1, 0): 0, (1, 1): 1, (2, 0): 1, (0, 0): 1, (1, 2): 2}\n",
      "{(1, 0): 0, (1, 1): 1, (2, 0): 1, (0, 0): 1, (1, 2): 2}\n",
      "{(1, 0): 0, (1, 1): 1, (2, 0): 1, (0, 0): 1, (1, 2): 2}\n",
      "{(1, 0): 0, (1, 1): 1, (2, 0): 1, (0, 0): 1, (1, 2): 2, (2, 2): 3, (0, 2): 3}\n",
      "{(1, 0): 0, (1, 1): 1, (2, 0): 1, (0, 0): 1, (1, 2): 2, (2, 2): 3, (0, 2): 3, (2, 3): 4}\n",
      "{(1, 0): 0, (1, 1): 1, (2, 0): 1, (0, 0): 1, (1, 2): 2, (2, 2): 3, (0, 2): 3, (2, 3): 4, (0, 3): 4}\n",
      "{(1, 0): 0, (1, 1): 1, (2, 0): 1, (0, 0): 1, (1, 2): 2, (2, 2): 3, (0, 2): 3, (2, 3): 4, (0, 3): 4, (2, 4): 5}\n",
      "{(1, 0): 0, (1, 1): 1, (2, 0): 1, (0, 0): 1, (1, 2): 2, (2, 2): 3, (0, 2): 3, (2, 3): 4, (0, 3): 4, (2, 4): 5, (0, 4): 5}\n",
      "{(1, 0): 0, (1, 1): 1, (2, 0): 1, (0, 0): 1, (1, 2): 2, (2, 2): 3, (0, 2): 3, (2, 3): 4, (0, 3): 4, (2, 4): 5, (0, 4): 5}\n",
      "\n",
      "dist for  1 4\n",
      "{(1, 4): 0}\n",
      "{(1, 4): 0, (2, 4): 1, (0, 4): 1}\n",
      "{(1, 4): 0, (2, 4): 1, (0, 4): 1, (2, 3): 2}\n",
      "{(1, 4): 0, (2, 4): 1, (0, 4): 1, (2, 3): 2, (0, 3): 2}\n",
      "{(1, 4): 0, (2, 4): 1, (0, 4): 1, (2, 3): 2, (0, 3): 2, (2, 2): 3}\n",
      "{(1, 4): 0, (2, 4): 1, (0, 4): 1, (2, 3): 2, (0, 3): 2, (2, 2): 3, (0, 2): 3}\n",
      "{(1, 4): 0, (2, 4): 1, (0, 4): 1, (2, 3): 2, (0, 3): 2, (2, 2): 3, (0, 2): 3, (1, 2): 4}\n",
      "{(1, 4): 0, (2, 4): 1, (0, 4): 1, (2, 3): 2, (0, 3): 2, (2, 2): 3, (0, 2): 3, (1, 2): 4}\n",
      "{(1, 4): 0, (2, 4): 1, (0, 4): 1, (2, 3): 2, (0, 3): 2, (2, 2): 3, (0, 2): 3, (1, 2): 4, (1, 1): 5}\n",
      "\n",
      "dist for  2 1\n",
      "{(2, 1): 0}\n",
      "{(2, 1): 0, (2, 2): 1, (2, 0): 1, (1, 1): 1}\n",
      "{(2, 1): 0, (2, 2): 1, (2, 0): 1, (1, 1): 1, (2, 3): 2, (1, 2): 2}\n",
      "{(2, 1): 0, (2, 2): 1, (2, 0): 1, (1, 1): 1, (2, 3): 2, (1, 2): 2}\n",
      "{(2, 1): 0, (2, 2): 1, (2, 0): 1, (1, 1): 1, (2, 3): 2, (1, 2): 2}\n",
      "{(2, 1): 0, (2, 2): 1, (2, 0): 1, (1, 1): 1, (2, 3): 2, (1, 2): 2, (2, 4): 3}\n",
      "{(2, 1): 0, (2, 2): 1, (2, 0): 1, (1, 1): 1, (2, 3): 2, (1, 2): 2, (2, 4): 3, (0, 2): 3}\n",
      "{(2, 1): 0, (2, 2): 1, (2, 0): 1, (1, 1): 1, (2, 3): 2, (1, 2): 2, (2, 4): 3, (0, 2): 3}\n",
      "{(2, 1): 0, (2, 2): 1, (2, 0): 1, (1, 1): 1, (2, 3): 2, (1, 2): 2, (2, 4): 3, (0, 2): 3, (0, 3): 4}\n",
      "{(2, 1): 0, (2, 2): 1, (2, 0): 1, (1, 1): 1, (2, 3): 2, (1, 2): 2, (2, 4): 3, (0, 2): 3, (0, 3): 4, (0, 4): 5}\n"
     ]
    },
    {
     "data": {
      "text/plain": [
       "8"
      ]
     },
     "execution_count": 93,
     "metadata": {},
     "output_type": "execute_result"
    }
   ],
   "source": [
    "from collections import deque\n",
    "\n",
    "\n",
    "class GridType:  # 写这样的常量, 能非常提高可读性\n",
    "    EMPTY = 0\n",
    "    HOUSE = 1\n",
    "    WALL = 2\n",
    "\n",
    "\n",
    "class Solution:\n",
    "    \"\"\"\n",
    "    @param grid: a 2D grid\n",
    "    @return: An integer\n",
    "    \"\"\"\n",
    "\n",
    "    def shortestDistance(self, grid):\n",
    "        if not grid:\n",
    "            return 0\n",
    "\n",
    "        # write your code here\n",
    "        m, n = len(grid), len(grid[0])\n",
    "        dist_sum = {}\n",
    "        reachable_count = {}\n",
    "        min_dist = float('inf')\n",
    "        all_house = 0\n",
    "        for i in range(m):\n",
    "            for j in range(n):\n",
    "                if grid[i][j] == GridType.HOUSE:\n",
    "                    # 更新 dist_sum 和 reachable_count, 可以用这样的方式直接传入 dict, 然后在function 内部 修改其value即可. 因为不会改变 key\n",
    "                    self.bfs(grid, i, j, dist_sum, reachable_count)\n",
    "                    all_house += 1\n",
    "\n",
    "        for i in range(m):\n",
    "            for j in range(n):\n",
    "                if (i, j) not in reachable_count or reachable_count[(i, j)] != all_house:\n",
    "                    continue\n",
    "                # 遍历HOUSE 离所有 EMPTY的距离\n",
    "                min_dist = min(min_dist, dist_sum[(i, j)])\n",
    "\n",
    "        return min_dist if min_dist != float('inf') else -1\n",
    "\n",
    "\n",
    "    def bfs(self, grid, x, y, dist_sum, reachable_count):  # 这个 方格的 BFS 很有意思,\n",
    "        dist = {(x, y): 0}\n",
    "        queue = deque([(x, y)])\n",
    "#         print('\\ndist for ', x, y)\n",
    "\n",
    "        while queue:\n",
    "            x, y = queue.popleft()  # 看这里要怎样记录 node, 也可以建立一个 矩阵 全局 hash 的映射 去遍历\n",
    "#             print(dist)\n",
    "            # 十字范围 搜索, 以中间点 搜索周围 4个 children, 看是否可达, 然后添加到queue中继续 BFS\n",
    "            for dx, dy in {(1, 0), (-1, 0), (0, 1), (0, -1)}:\n",
    "                adj_x, adj_y = x + dx, y + dy  # 邻接位置\n",
    "                # 只搜索 为0 的 邻接地方, 并且没有 遍历过, (提前进去的 一定越短! )\n",
    "                if not self.is_valid(adj_x, adj_y, grid):  # 只能是 empty\n",
    "                    continue\n",
    "                if (adj_x, adj_y) not in dist:\n",
    "                    queue.append((adj_x, adj_y))\n",
    "                    # 如果可达, 则距离+1, 并且把这个点 添加到 queue 中.\n",
    "                    dist[(adj_x, adj_y)] = dist[(x, y)] + 1 \n",
    "                    # 更新所有房子 到 该空地的总距离 # 这里不是DP????????? \n",
    "                    dist_sum[(adj_x, adj_y)] = dist_sum.get((adj_x, adj_y), 0) + dist[(adj_x, adj_y)]\n",
    "                    reachable_count[(adj_x, adj_y)] = reachable_count.get((adj_x, adj_y), 0) + 1\n",
    "        return dist\n",
    "\n",
    "    def is_valid(self, x, y, grid):\n",
    "        m, n = len(grid), len(grid[0])\n",
    "        # 不越界\n",
    "        if x < 0 or x >= m or y < 0 or y >= n:\n",
    "            return False\n",
    "        # 要是 empty\n",
    "        return grid[x][y] == GridType.EMPTY\n",
    "\n",
    "\n",
    "grid = [[0, 1, 0, 0, 0], [1, 0, 0, 2, 1], [0, 1, 0, 0, 0]]\n",
    "Solution().shortestDistance(grid)"
   ]
  },
  {
   "cell_type": "markdown",
   "id": "2fea0af0",
   "metadata": {},
   "source": [
    "## 精简化 - 网上版本"
   ]
  },
  {
   "cell_type": "code",
   "execution_count": 117,
   "id": "62d74cb9",
   "metadata": {
    "ExecuteTime": {
     "end_time": "2021-09-30T02:32:39.091945Z",
     "start_time": "2021-09-30T02:32:39.060905Z"
    }
   },
   "outputs": [
    {
     "name": "stdout",
     "output_type": "stream",
     "text": [
      "point IDx 0 1\n",
      "level 0 from (0, 1) to (0, 1) inf\n",
      "level 1 from (1, 1) to (0, 1) inf\n",
      "level 1 from (0, 0) to (0, 1) inf\n",
      "level 1 from (0, 2) to (0, 1) inf\n",
      "level 2 from (1, 2) to (0, 1) inf\n",
      "level 2 from (0, 3) to (0, 1) inf\n",
      "level 3 from (2, 2) to (0, 1) inf\n",
      "level 3 from (0, 4) to (0, 1) inf\n",
      "level 4 from (2, 3) to (0, 1) inf\n",
      "level 5 from (2, 4) to (0, 1) inf\n",
      "[[1, 0, 1, 2, 3], [inf, 1, 2, inf, inf], [inf, inf, 3, 4, 5]]\n",
      "point IDx 1 0\n",
      "level 0 from (1, 0) to (1, 0) inf\n",
      "level 1 from (0, 0) to (1, 0) 1\n",
      "level 1 from (2, 0) to (1, 0) inf\n",
      "level 1 from (1, 1) to (1, 0) 1\n",
      "level 2 from (1, 2) to (1, 0) 2\n",
      "level 3 from (0, 2) to (1, 0) 1\n",
      "level 3 from (2, 2) to (1, 0) 3\n",
      "level 4 from (0, 3) to (1, 0) 2\n",
      "level 4 from (2, 3) to (1, 0) 4\n",
      "level 5 from (0, 4) to (1, 0) 3\n",
      "level 5 from (2, 4) to (1, 0) 5\n",
      "[[2, 0, 4, 6, 8], [0, 2, 4, inf, inf], [1, inf, 6, 8, 10]]\n",
      "point IDx 1 4\n",
      "level 0 from (1, 4) to (1, 4) inf\n",
      "level 1 from (0, 4) to (1, 4) 8\n",
      "level 1 from (2, 4) to (1, 4) 10\n",
      "level 2 from (0, 3) to (1, 4) 6\n",
      "level 2 from (2, 3) to (1, 4) 8\n",
      "level 3 from (0, 2) to (1, 4) 4\n",
      "level 3 from (2, 2) to (1, 4) 6\n",
      "level 4 from (1, 2) to (1, 4) 4\n",
      "level 5 from (1, 1) to (1, 4) 2\n",
      "[[2, 0, 7, 8, 9], [0, 7, 8, inf, 0], [1, inf, 9, 10, 11]]\n",
      "point IDx 2 1\n",
      "level 0 from (2, 1) to (2, 1) inf\n",
      "level 1 from (1, 1) to (2, 1) 7\n",
      "level 1 from (2, 0) to (2, 1) 1\n",
      "level 1 from (2, 2) to (2, 1) 9\n",
      "level 2 from (1, 2) to (2, 1) 8\n",
      "level 2 from (2, 3) to (2, 1) 10\n",
      "level 3 from (0, 2) to (2, 1) 7\n",
      "level 3 from (2, 4) to (2, 1) 11\n",
      "level 4 from (0, 3) to (2, 1) 8\n",
      "level 5 from (0, 4) to (2, 1) 9\n",
      "[[2, 0, 10, 12, 14], [0, 8, 10, inf, 0], [2, 0, 10, 12, 14]]\n"
     ]
    },
    {
     "data": {
      "text/plain": [
       "8"
      ]
     },
     "execution_count": 117,
     "metadata": {},
     "output_type": "execute_result"
    }
   ],
   "source": [
    "class GridType:  # 写这样的常量, 能非常提高可读性\n",
    "    EMPTY = 0\n",
    "    HOUSE = 1\n",
    "    WALL = 2\n",
    "    \n",
    "class Solution:\n",
    "    \"\"\"\n",
    "    @param grid: a 2D grid\n",
    "    @return: An integer\n",
    "    \"\"\"\n",
    "    def shortestDistance(self, grid):\n",
    "        # write your code here\n",
    "        if not grid or not grid[0]:\n",
    "            return -1\n",
    "        \n",
    "        n, m = len(grid), len(grid[0])\n",
    "        dist = [[float('inf') for _ in range(m)] for _ in range(n)] # comprehension 这个是用来记录 单个 EMPTY 到 单个, 多个 房子的最短距离的\n",
    "        counts = [[0 for _ in range(m)] for _ in range(n)] # 这个是用来记录: 单个EMPTY 空间上, 叠加了多少次 HOUSE 的距离. 叠加次数 应该等于 HOUSE 总数量\n",
    "        nums = 0\n",
    "        \n",
    "        for i in range(n):\n",
    "            for j in range(m):\n",
    "                # 遍历所有的 HOUSE, 看每一个 HOUSE 距离 所有 EMPTY 空间的最短距离, 并且 距离 叠加起来, 就是 单个 EMPTY 到所有 HOUSE 的距离\n",
    "                if grid[i][j] == GridType.HOUSE:\n",
    "                    self.bfs(grid, i, j, dist, counts)\n",
    "                    nums += 1\n",
    "#                     print(dist)\n",
    "#                     print(counts)\n",
    "        \n",
    "        min_dist = float('inf')\n",
    "        for i in range(n):\n",
    "            for j in range(m):\n",
    "                if counts[i][j] == nums and dist[i][j] < min_dist:\n",
    "                    min_dist = dist[i][j]\n",
    "        \n",
    "        return min_dist if min_dist != float('inf') else -1\n",
    "    \n",
    "    def bfs(self, grid, x, y, dist, counts):\n",
    "        # level 记录 从当前 (x,y) 出发, 到终点 的 距离, 即层次遍历中的 level\n",
    "        # 一定记住, 这里的 BFS 只计算 单个 x,y = EMPTY, 到其他所有的 HOUSE 的距离\n",
    "        x_s, y_s = x,y \n",
    "        print(\"point IDx\", x, y)\n",
    "        from collections import deque\n",
    "        queue = deque([(x, y)]) \n",
    "        visited = set([(x, y)]) # visited 是记录当前 bfs 已经遍历过的 set, 而不管 不同 BFS 之间的 visited. 这样才能把 整个 矩阵 扫完\n",
    "        level = 0 \n",
    "        \n",
    "        # 传染形式遍历 BFS, 具体优先级 和下面的 dx, dy 设置有关系, 但无论如何, 都是遍历整个 graph  \n",
    "        while queue: \n",
    "            n = len(queue) \n",
    "            for _ in range(n): \n",
    "                x, y = queue.popleft()\n",
    "                print(\"level\", level, 'from', (x,y), 'to', (x_s, y_s), dist[x][y])\n",
    "                if dist[x][y] == float('inf'):\n",
    "                    dist[x][y] = 0\n",
    "                dist[x][y] += level # 这里为什么是 加等于, 而不是直接等于?????????????????\n",
    "#                 print(dist[x][y])\n",
    "                \n",
    "                for dx, dy in [(-1, 0), (1, 0), (0, -1), (0, 1)]:\n",
    "                    nx, ny = x + dx, y + dy\n",
    "                    \n",
    "                    if not self.is_valid(grid, nx, ny):\n",
    "                        continue\n",
    "                        \n",
    "                    if (nx, ny) in visited:\n",
    "                        continue\n",
    "                    \n",
    "                    if grid[nx][ny] == GridType.EMPTY:\n",
    "                        counts[nx][ny] += 1 # 多添加一个.\n",
    "                        queue.append((nx, ny)) # 周围临近的点 全都 append 到下一个 level\n",
    "                        visited.add((nx, ny)) # 记录 visited set\n",
    "            \n",
    "            level += 1\n",
    "        print(dist)\n",
    "        return None\n",
    "    \n",
    "    def is_valid(self, grid, x, y):\n",
    "        return 0 <= x < len(grid) and 0 <= y < len(grid[0])\n",
    "    \n",
    "    \n",
    "grid = [[0, 1, 0, 0, 0], [1, 0, 0, 2, 1], [0, 1, 0, 0, 0]]\n",
    "Solution().shortestDistance(grid)"
   ]
  },
  {
   "cell_type": "markdown",
   "id": "5c4fa0b7",
   "metadata": {},
   "source": [
    "## 极精简化 - 网上版本"
   ]
  },
  {
   "cell_type": "code",
   "execution_count": 130,
   "id": "4e9fe505",
   "metadata": {
    "ExecuteTime": {
     "end_time": "2021-09-30T03:52:26.047117Z",
     "start_time": "2021-09-30T03:52:26.026117Z"
    }
   },
   "outputs": [
    {
     "data": {
      "text/plain": [
       "8"
      ]
     },
     "execution_count": 130,
     "metadata": {},
     "output_type": "execute_result"
    }
   ],
   "source": [
    "\"\"\"\n",
    "1. for each house, use `BFS` in level traversal\n",
    "   to count the distance if the cell is empty and reachable\n",
    "2. find the minimum of the total distance in each empty cell,\n",
    "   and it must be reachable for each house\n",
    "\"\"\"\n",
    "\n",
    "\n",
    "class Solution:\n",
    "    EMPTY = 0\n",
    "    HOUSE = 1\n",
    "    WALL = 2\n",
    "\n",
    "    INFINITY = float('inf')\n",
    "    VECTOR = ((0, -1),\n",
    "              (0,  1),\n",
    "              (-1,  0),\n",
    "              (1,  0))\n",
    "\n",
    "    visited_time = None\n",
    "    distance_sum = None\n",
    "\n",
    "    \"\"\"\n",
    "    @param: grid: a 2D grid\n",
    "    @return: An integer\n",
    "    \"\"\"\n",
    "\n",
    "    def shortestDistance(self, grid):\n",
    "        if not grid:\n",
    "            return -1\n",
    "\n",
    "        self.m, self.n = len(grid), len(grid[0])\n",
    "        # 需要 有 HOUSE 的数量次才行\n",
    "        self.visited_time = [[0] * self.n for _ in range(self.m)]\n",
    "        # HOUSE_i - distance 的叠加\n",
    "        self.distance_sum = [[0] * self.n for _ in range(self.m)]\n",
    "\n",
    "        house_count = 0\n",
    "        for x in range(self.m):\n",
    "            for y in range(self.n):\n",
    "                if grid[x][y] == self.HOUSE:\n",
    "                    house_count += 1\n",
    "                    self.bfs(x, y, grid)\n",
    "\n",
    "        min_distance = self.INFINITY\n",
    "        for x in range(self.m):\n",
    "            for y in range(self.n):\n",
    "                if grid[x][y] == self.EMPTY and self.visited_time[x][y] == house_count and self.distance_sum[x][y] < min_distance:\n",
    "                    min_distance = self.distance_sum[x][y]\n",
    "\n",
    "        return min_distance if min_distance < self.INFINITY else -1\n",
    "\n",
    "    def bfs(self, x, y, grid):\n",
    "        queue, _queue = [(x, y)], None\n",
    "        visited = [[False] * self.n for _ in range(self.m)] # 用 Bool 表示 非常合理\n",
    "        distance = 0\n",
    "\n",
    "        while queue:\n",
    "            _queue = []\n",
    "            distance += 1\n",
    "            for x, y in queue:\n",
    "                for dx, dy in self.VECTOR:\n",
    "                    _x = x + dx\n",
    "                    _y = y + dy\n",
    "                    if 0 <= _x < self.m and 0 <= _y < self.n and grid[_x][_y] == self.EMPTY and not visited[_x][_y]:\n",
    "                        visited[_x][_y] = True\n",
    "                        self.visited_time[_x][_y] += 1\n",
    "                        self.distance_sum[_x][_y] += distance\n",
    "                        _queue.append((_x, _y))\n",
    "            queue = _queue # 更新栈\n",
    "            \n",
    "    \n",
    "grid = [[0, 1, 0, 0, 0], [1, 0, 0, 2, 1], [0, 1, 0, 0, 0]]\n",
    "Solution().shortestDistance(grid)"
   ]
  },
  {
   "cell_type": "code",
   "execution_count": null,
   "id": "3b0b4bf0",
   "metadata": {},
   "outputs": [],
   "source": []
  },
  {
   "cell_type": "markdown",
   "id": "3899ae38",
   "metadata": {
    "ExecuteTime": {
     "end_time": "2021-09-30T03:56:43.243531Z",
     "start_time": "2021-09-30T03:56:43.240532Z"
    }
   },
   "source": [
    "# 789 MAZE\n",
    "- 复杂图\n",
    "    - 因为中间是不能停的, 不可达, 只能到达方向边界\n",
    "    - 存在不可达点 => 不是全连接\n",
    "- 需要用SPFA\n",
    "    - 不重复添加\n",
    "    "
   ]
  },
  {
   "cell_type": "markdown",
   "id": "030caa52",
   "metadata": {
    "ExecuteTime": {
     "end_time": "2021-09-30T05:34:38.426025Z",
     "start_time": "2021-09-30T05:34:38.424028Z"
    }
   },
   "source": [
    "## 我的重写版 9.30"
   ]
  },
  {
   "cell_type": "code",
   "execution_count": 252,
   "id": "f210f7c6",
   "metadata": {
    "ExecuteTime": {
     "end_time": "2021-10-01T01:52:54.092971Z",
     "start_time": "2021-10-01T01:52:54.062453Z"
    }
   },
   "outputs": [
    {
     "name": "stdout",
     "output_type": "stream",
     "text": [
      "{(4, 3): (0, '')}\n",
      "current x, y :  4 3 dist, path 0 \n",
      "4 u\n",
      "1 l\n",
      "0 d\n",
      "1 r\n",
      "{(4, 3): (0, ''), (0, 3): (4, 'u'), (4, 2): (1, 'l'), (4, 4): (1, 'r')}\n",
      "current x, y :  0 3 dist, path 4 u\n",
      "4 uu\n",
      "6 ul\n",
      "8 ud\n",
      "5 ur\n",
      "{(4, 3): (0, ''), (0, 3): (4, 'u'), (4, 2): (1, 'l'), (4, 4): (1, 'r'), (0, 1): (6, 'ul'), (0, 4): (5, 'ur')}\n",
      "current x, y :  4 2 dist, path 1 l\n",
      "5 lu\n",
      "1 ll\n",
      "1 ld\n",
      "3 lr\n",
      "{(4, 3): (0, ''), (0, 3): (4, 'u'), (4, 2): (1, 'l'), (4, 4): (1, 'r'), (0, 1): (6, 'ul'), (0, 4): (5, 'ur'), (0, 2): (5, 'lu')}\n",
      "current x, y :  4 4 dist, path 1 r\n",
      "1 ru\n",
      "3 rl\n",
      "1 rd\n",
      "1 rr\n",
      "{(4, 3): (0, ''), (0, 3): (4, 'u'), (4, 2): (1, 'l'), (4, 4): (1, 'r'), (0, 1): (6, 'ul'), (0, 4): (5, 'ur'), (0, 2): (5, 'lu')}\n",
      "current x, y :  0 1 dist, path 6 ul\n",
      "6 ulu\n",
      "6 ull\n",
      "6 uld\n",
      "6 ulr\n",
      "{(4, 3): (0, ''), (0, 3): (4, 'u'), (4, 2): (1, 'l'), (4, 4): (1, 'r'), (0, 1): (6, 'ul'), (0, 4): (5, 'ur'), (0, 2): (5, 'lu')}\n",
      "current x, y :  0 4 dist, path 5 ur\n",
      "5 uru\n",
      "8 url\n",
      "5 urd\n",
      "5 urr\n",
      "{(4, 3): (0, ''), (0, 3): (4, 'u'), (4, 2): (1, 'l'), (4, 4): (1, 'r'), (0, 1): (6, 'ul'), (0, 4): (5, 'ur'), (0, 2): (5, 'lu')}\n",
      "current x, y :  0 2 dist, path 5 lu\n",
      "5 luu\n",
      "6 lul\n",
      "9 lud\n",
      "7 lur\n",
      "{(4, 3): (0, ''), (0, 3): (4, 'u'), (4, 2): (1, 'l'), (4, 4): (1, 'r'), (0, 1): (6, 'lul'), (0, 4): (5, 'ur'), (0, 2): (5, 'lu')}\n",
      "current x, y :  0 1 dist, path 6 lul\n",
      "6 lulu\n",
      "6 lull\n",
      "6 luld\n",
      "6 lulr\n"
     ]
    },
    {
     "data": {
      "text/plain": [
       "'lul'"
      ]
     },
     "execution_count": 252,
     "metadata": {},
     "output_type": "execute_result"
    }
   ],
   "source": [
    "class Solution:\n",
    "\n",
    "    directions = [(-1, 0, 'u'),\n",
    "                  (0, -1, 'l'),\n",
    "                  (1, 0, 'd'),\n",
    "                  (0, 1, 'r')]  # 这里安排的就是 字典序 排序好的\n",
    "    DIRECTION_HASH = {i[2]: (i[0:2]) for i in directions}\n",
    "\n",
    "    space = 0\n",
    "    wall = 1\n",
    "\n",
    "    \"\"\"\n",
    "    @param: grid: a 2D grid\n",
    "    @return: An integer\n",
    "    \"\"\"\n",
    "\n",
    "    def kick_ball(self, x, y, direction, maze, hole):\n",
    "        char, (dx, dy) = direction\n",
    "        _x, _y = x, y\n",
    "        while (_x, _y) != hole and not self.is_wall(_x+dx, _y+dy, maze):\n",
    "            _x = _x + dx\n",
    "            _y = _y + dy\n",
    "        return _x, _y  # _x - dx, _y - dy\n",
    "\n",
    "    def is_wall(self, x, y, maze):\n",
    "        m, n = len(maze), len(maze[0])\n",
    "#         if 0 < x < m and 0 < y < n and maze[x][y] != self.wall:\n",
    "        if 0 <= x < m and 0 <= y < n and maze[x][y] != self.wall:  # 这里需要取等号\n",
    "            return False\n",
    "        return True\n",
    "\n",
    "    def findShortestWay(self, maze, ball, hole):\n",
    "        from collections import deque\n",
    "\n",
    "        if not ball or not hole or not maze or not maze[0]:\n",
    "            return 'impossible'\n",
    "\n",
    "        hole = (hole[0], hole[1])\n",
    "        queue = deque([(ball[0], ball[1])])\n",
    "        distance = {(ball[0], ball[1]): (0, '')}\n",
    "\n",
    "        while queue:  # 这里要遍历所有的 move 方向\n",
    "            print(distance)\n",
    "            x, y = queue.popleft()\n",
    "            # path 变量用来储存 字符移动 结果, dist 储存总的移动距离. 要找到 path 最短的那个\n",
    "            dist, path = distance[(x, y)]\n",
    "            # 利用 BFS 在所有的位置上 记录 最小的 path.\n",
    "            # 每次到达 下一个 点之后, 开始把 这个点 周围的的4个方向 都添加到 queue 中去.\n",
    "            # 如果这个方向的 终点已经在 distance 记录里面, 但是 目前这个方法更短, 则更新 distance 记录. 如果不是 则不 update\n",
    "            # 如果 这个终点没有记录, 则需要 append 到 queue中, 然后在 queue 中继续进行BFS\n",
    "            print(\"current x, y : \", x, y, 'dist, path', dist, path)\n",
    "            for direction in self.DIRECTION_HASH.items():\n",
    "                #                 print(direction)\n",
    "                _x, _y = self.kick_ball(x, y, direction, maze, hole)\n",
    "\n",
    "                ##############\n",
    "                _dist = dist + abs(_x - x) + abs(_y - y)\n",
    "                _path = path + direction[0]\n",
    "                print(_dist, _path)\n",
    "\n",
    "                # distance[(_x, _y)] <= (_dist, _path) 是 隐藏优化, 因为前面 是按字典序最小的 先进来, 所以可以直接 continue\n",
    "                if (_x, _y) in distance and distance[(_x, _y)] <= (_dist, _path):\n",
    "                    continue\n",
    "                ##############\n",
    "\n",
    "                queue.append((_x, _y))\n",
    "                distance[(_x, _y)] = (_dist, _path)\n",
    "#                 distance[(_x, _y)] = (1, direction[0])\n",
    "\n",
    "        if hole in distance:\n",
    "            return distance[hole][1]\n",
    "\n",
    "        return 'impossible'\n",
    "\n",
    "    def findShortestWay_heap(self, maze, ball, hole):\n",
    "        from heapq import heappush, heappop\n",
    "        from collections import deque\n",
    "\n",
    "        if not ball or not hole or not maze or not maze[0]:\n",
    "            return 'impossible'\n",
    "\n",
    "        hole = (hole[0], hole[1])\n",
    "        queue = [(0, '', ball[0], ball[1])]  # 这是核心 diff\n",
    "        distance = {(ball[0], ball[1]): (0, '')}\n",
    "\n",
    "        while queue:\n",
    "\n",
    "            break\n",
    "\n",
    "        if hole in distance:\n",
    "            return distance[hole][1]\n",
    "\n",
    "        return 'impossible'\n",
    "\n",
    "\n",
    "maze = [[0, 0, 0, 0, 0],\n",
    "        [1, 1, 0, 0, 1],\n",
    "        [0, 0, 0, 0, 0],\n",
    "        [0, 1, 0, 0, 1],\n",
    "        [0, 1, 0, 0, 0]]\n",
    "ball = [4, 3]\n",
    "hole = [0, 1]\n",
    "Solution().findShortestWay(maze, ball, hole)\n",
    "# Solution().findShortestWay_heap(maze, ball, hole)"
   ]
  },
  {
   "cell_type": "markdown",
   "id": "cb1f89a6",
   "metadata": {},
   "source": [
    "## 我的重写heap 优化版 9.30"
   ]
  },
  {
   "cell_type": "code",
   "execution_count": 310,
   "id": "8d04f9f9",
   "metadata": {
    "ExecuteTime": {
     "end_time": "2021-10-01T02:58:41.712441Z",
     "start_time": "2021-10-01T02:58:41.688442Z"
    }
   },
   "outputs": [
    {
     "data": {
      "text/plain": [
       "'rd'"
      ]
     },
     "execution_count": 310,
     "metadata": {},
     "output_type": "execute_result"
    }
   ],
   "source": [
    "class Solution:\n",
    "\n",
    "    directions = [(-1, 0, 'u'),\n",
    "                  (0, -1, 'l'),\n",
    "                  (1, 0, 'd'),\n",
    "                  (0, 1, 'r')]  # 这里安排的就是 字典序 排序好的\n",
    "    DIRECTION_HASH = {i[2]: (i[0:2]) for i in directions}\n",
    "\n",
    "    space = 0\n",
    "    wall = 1\n",
    "\n",
    "    \"\"\"\n",
    "    @param: grid: a 2D grid\n",
    "    @return: An integer\n",
    "    \"\"\"\n",
    "\n",
    "    def kick_ball(self, x, y, direction, maze, hole):\n",
    "\n",
    "        dx, dy = self.DIRECTION_HASH[direction]\n",
    "        while (x, y) != hole and not self.is_wall(x+dx, y+dy, maze):\n",
    "            x += dx\n",
    "            y += dy\n",
    "        return x, y\n",
    "\n",
    "    def is_wall(self, x, y, maze):\n",
    "        m, n = len(maze), len(maze[0])\n",
    "        if 0 <= x < m and 0 <= y < n and maze[x][y] != self.wall:\n",
    "            return False\n",
    "        return True\n",
    "\n",
    "    def findShortestWay(self, maze, ball, hole):\n",
    "        from collections import deque\n",
    "        '''\n",
    "        1. 定义初始状态, 并且以 heap 来记录\n",
    "        2. 利用BFS来遍历 下一个 状态 所有接下来的 方向的可能性\n",
    "            2.0 移动到下一个终点, 返回下一个终点的 位置 和 对应的 距离 信息\n",
    "            2.1 如果下一个终点 已经在 记录中, 则看是否 比 已有记录更短, 短则更新\n",
    "            2.2 如果不在记录中, 则添加到 queue 中\n",
    "        3. 返回 最短字符 对应的 起点到终点的 解\n",
    "        '''\n",
    "        verbose = 0\n",
    "        from heapq import heappush, heappop\n",
    "        queue = [(0, '', ball[0], ball[1])]\n",
    "        m, n = len(maze), len(maze[0])\n",
    "#         path = {}\n",
    "        hole = (hole[0], hole[1])\n",
    "        path = {(ball[0], ball[1]): (0, '')} # 这个初始化很重要, 需要记录起点. \n",
    "        while queue:\n",
    "            (dist, way, x, y) = heappop(queue)\n",
    "            if verbose == 1:\n",
    "                print(\"current x, y : \", x, y, 'dist, path', dist, way)\n",
    "                print(path)\n",
    "                print(\"queue\", queue)\n",
    "            for direction in self.DIRECTION_HASH:\n",
    "                \n",
    "                _x, _y = self.kick_ball(x, y, direction, maze, hole)\n",
    "                _dist = dist + abs(_x - x) + abs(_y - y)\n",
    "                print('_dist', _dist) if verbose == 1 else None\n",
    "                _path = way + direction\n",
    "\n",
    "#                 if (_x, _y) not in path:\n",
    "#                     path[(_x, _y)] = (_dist, _path) # 直接初始化 为 这个新的 值\n",
    "#                     heappush(queue, (_dist, _path, _x, _y))\n",
    "#                 elif (_x, _y) in path and path[(_x, _y)] > (_dist, _path):\n",
    "#                     path[(_x, _y)] = (_dist, _path)\n",
    "                \n",
    "                # path[(_x, _y)] <= (_dist, _path) 是 隐藏优化, 因为前面 是按字典序最小的 先进来, 所以可以直接 continue\n",
    "                if (_x, _y) in path and path[(_x, _y)] <= (_dist, _path):\n",
    "                    continue\n",
    "                heappush(queue, (_dist, _path, _x, _y))\n",
    "                path[(_x, _y)] = (_dist, _path)\n",
    "\n",
    "        if hole in path:\n",
    "            return path[hole][1]\n",
    "\n",
    "        return 'impossible'\n",
    "\n",
    "\n",
    "maze = [[0, 0, 0, 0, 0],\n",
    "        [1, 1, 0, 0, 1],\n",
    "        [0, 0, 0, 0, 0],\n",
    "        [0, 1, 0, 0, 1],\n",
    "        [0, 1, 0, 0, 0]]\n",
    "ball = [4, 3]\n",
    "hole = [0, 1]\n",
    "\n",
    "maze = [[0, 0, 0], [0, 0, 0], [0, 0, 0]]\n",
    "ball = [0, 0]\n",
    "hole = [1, 2]\n",
    "# Solution().findShortestWay(maze, ball, hole)\n",
    "Solution().findShortestWay(maze, ball, hole)"
   ]
  },
  {
   "cell_type": "markdown",
   "id": "6caba679",
   "metadata": {
    "ExecuteTime": {
     "end_time": "2021-10-01T04:24:57.668923Z",
     "start_time": "2021-10-01T04:24:57.662924Z"
    }
   },
   "source": [
    "## 我的改编版\n",
    "- 有 heap 优化版 包含 \n",
    "    - heappush\n",
    "    - heappop"
   ]
  },
  {
   "cell_type": "code",
   "execution_count": 213,
   "id": "4d81da8c",
   "metadata": {
    "ExecuteTime": {
     "end_time": "2021-09-30T05:39:03.644566Z",
     "start_time": "2021-09-30T05:39:03.614567Z"
    }
   },
   "outputs": [
    {
     "data": {
      "text/plain": [
       "'lul'"
      ]
     },
     "execution_count": 213,
     "metadata": {},
     "output_type": "execute_result"
    }
   ],
   "source": [
    "class Solution:\n",
    "\n",
    "    directions = [(-1, 0, 'u'), (0, -1, 'l'), (1, 0, 'd'), (0, 1, 'r')] # 这里安排的就是 字典序 排序好的\n",
    "    DIRECTION_HASH = {i[2]: (i[0:2]) for i in directions}\n",
    "\n",
    "    space = 0\n",
    "    wall = 1\n",
    "\n",
    "    \"\"\"\n",
    "    @param: grid: a 2D grid\n",
    "    @return: An integer\n",
    "    \"\"\"\n",
    "\n",
    "    def kick_ball(self, x, y, direction, maze, hole):\n",
    "        dx, dy = self.DIRECTION_HASH[direction]\n",
    "        # 只要没有入洞 或者 触墙, 则一直移动\n",
    "        while (x, y) != hole and not self.is_wall(x, y, maze):\n",
    "            x += dx\n",
    "            y += dy\n",
    "        if (x, y) == hole:\n",
    "            return x, y\n",
    "        return x-dx, y-dy\n",
    "\n",
    "    def is_wall(self, x, y, maze):\n",
    "        if not (0 <= x < len(maze) and 0 <= y < len(maze[0])):\n",
    "            return True\n",
    "        return maze[x][y] == self.wall\n",
    "\n",
    "    def findShortestWay(self, maze, ball, hole):\n",
    "        from collections import deque\n",
    "\n",
    "        if not ball or not hole or not maze or not maze[0]:\n",
    "            return 'impossible'\n",
    "\n",
    "        hole = (hole[0], hole[1])\n",
    "\n",
    "        # 存放 (x,y)\n",
    "        queue = deque([(ball[0], ball[1])])\n",
    "        \n",
    "        distance = {(ball[0], ball[1]): (0, '')}\n",
    "\n",
    "        while queue:\n",
    "            x, y = queue.popleft()\n",
    "            dist, path = distance[(x, y)]\n",
    "\n",
    "            # 循环四个方向\n",
    "            for direction in self.DIRECTION_HASH:\n",
    "                # 找到这个方向的停止点\n",
    "                _x, _y = self.kick_ball(x, y, direction, maze, hole)\n",
    "                _dist = dist + abs(_x - x) + abs(_y - y)\n",
    "                _path = path + direction\n",
    "\n",
    "                if (_x, _y) in distance and distance[(_x, _y)] <= (_dist, _path): # distance[(_x, _y)] <= (_dist, _path) 是 隐藏优化, 因为前面 是按字典序最小的 先进来, 所以可以直接 continue\n",
    "                    continue\n",
    "                    \n",
    "                queue.append((_x, _y))\n",
    "                distance[(_x, _y)] = (_dist, _path)\n",
    "        if hole in distance:\n",
    "            return distance[hole][1]\n",
    "\n",
    "        return 'impossible'\n",
    "\n",
    "    \n",
    "    \n",
    "    def findShortestWay_heap(self, maze, ball, hole):\n",
    "        from heapq import heappush, heappop\n",
    "        from collections import deque\n",
    "\n",
    "        if not ball or not hole or not maze or not maze[0]:\n",
    "            return 'impossible'\n",
    "\n",
    "        hole = (hole[0], hole[1])\n",
    "\n",
    "        # 存放 (x,y)\n",
    "        queue = [(0, '', ball[0], ball[1])] ## 这是核心 diff\n",
    "        \n",
    "        distance = {(ball[0], ball[1]): (0, '')}\n",
    "\n",
    "        while queue:\n",
    "            dist, path, x, y = heappop(queue) # 这里只是优先 pop 距离 最短的 那个 进行检查罢了\n",
    "            # 循环四个方向\n",
    "            for direction in self.DIRECTION_HASH:\n",
    "                if path and path[-1] == direction:\n",
    "                    continue\n",
    "                    \n",
    "                # 找到这个方向的停止点\n",
    "                _x, _y = self.kick_ball(x, y, direction, maze, hole)\n",
    "                _dist = dist + abs(_x - x) + abs(_y - y)\n",
    "                _path = path + direction\n",
    "\n",
    "                if (_x, _y) in distance and distance[(_x, _y)] <= (_dist, _path): # distance[(_x, _y)] <= (_dist, _path) 是 隐藏优化, 因为前面 是按字典序最小的 先进来, 所以可以直接 continue\n",
    "                    continue\n",
    "                    \n",
    "                heappush(queue, (_dist, _path, _x, _y))\n",
    "                distance[(_x, _y)] = (_dist, _path)\n",
    "        if hole in distance:\n",
    "            return distance[hole][1]\n",
    "\n",
    "        return 'impossible'\n",
    "\n",
    "maze = [[0, 0, 0, 0, 0], [1, 1, 0, 0, 1], [\n",
    "    0, 0, 0, 0, 0], [0, 1, 0, 0, 1], [0, 1, 0, 0, 0]]\n",
    "ball = [4, 3]\n",
    "hole = [0, 1]\n",
    "Solution().findShortestWay(maze, ball, hole)\n",
    "Solution().findShortestWay_heap(maze, ball, hole)\n"
   ]
  },
  {
   "cell_type": "code",
   "execution_count": null,
   "id": "4822fd23",
   "metadata": {},
   "outputs": [],
   "source": []
  },
  {
   "cell_type": "markdown",
   "id": "1aef5203",
   "metadata": {},
   "source": [
    "## 九章版本"
   ]
  },
  {
   "cell_type": "code",
   "execution_count": null,
   "id": "1cf074d4",
   "metadata": {},
   "outputs": [],
   "source": [
    "# - 九章算法致力于帮助更多中国人找到好的工作，教师团队均来自硅谷和国内的一线大公司在职工程师。\n",
    "# - 现有的面试培训课程包括：九章算法班，系统设计班，算法强化班，Java入门与基础算法班，Android 项目实战班，\n",
    "# - Big Data 项目实战班，算法面试高频题班, 动态规划专题班\n",
    "# - 更多详情请见官方网站：[http://www.jiuzhang.com/?source=code](http://www.jiuzhang.com/?source=code)\n",
    "\n",
    "class Solution:\n",
    "    def findShortestWay(self, maze, ball, hole):\n",
    "        if not ball and not hole:\n",
    "            return 'impossible'\n",
    "\n",
    "        import heapq\n",
    "        pq = [(0, ball[0], ball[1], '')]\n",
    "        visited = set()\n",
    "        row_end, col_end = len(maze) - 1, len(maze[0]) - 1\n",
    "        directions = [(-1, 0, 'u'), (0, -1, 'l'), (1, 0, 'd'), (0, 1, 'r')]\n",
    "\n",
    "        while len(pq):\n",
    "            (distance, current_x, current_y, path) = heapq.heappop(pq)\n",
    "            if current_x == hole[0] and current_y == hole[1]:\n",
    "                return path\n",
    "            if (current_x, current_y) not in visited: # 是否没访问过 SPFA\n",
    "                visited.add((current_x, current_y))\n",
    "                for (dx, dy, word) in directions:\n",
    "                    d, x, y = distance, current_x, current_y\n",
    "                    while not (x == hole[0] and y == hole[1]) and x >= 0 and x <= row_end and y <= col_end and y >= 0 and maze[x][y] != 1:\n",
    "                        d += 1\n",
    "                        x += dx\n",
    "                        y += dy\n",
    "                    if x != hole[0] or y != hole[1]:\n",
    "                        d -= 1\n",
    "                        x -= dx\n",
    "                        y -= dy\n",
    "                    p = path\n",
    "                    if x != current_x or y != current_y:\n",
    "                        p += word\n",
    "                    heapq.heappush(pq, (d, x, y, p))\n",
    "\n",
    "        return 'impossible'"
   ]
  },
  {
   "cell_type": "code",
   "execution_count": null,
   "id": "7f6ba0bb",
   "metadata": {},
   "outputs": [],
   "source": []
  },
  {
   "cell_type": "markdown",
   "id": "1ffa8658",
   "metadata": {},
   "source": [
    "\n",
    "## SPFA版\n",
    "- 其实就是BFS， 但是一个node只要距离更短可以反复进Queue。\n",
    "- 方法很直接， 走就行， 然后比起之前走1步， 这个一次要走很多步。\n",
    "- 但是我真的被自己蠢死了， 无数个bug， de了好久好久。\n",
    "- 算方向的时候， 我不小心按照平面直角坐标系算的， 导致打出来的string都是错的\n",
    "- 算bound的时候， 右边不小心用了<=\n",
    "- 打平以后， 把重新加入点加到else里面， 导致即使没continue那一块也步跑\n",
    "- 拿tuple和list去比结果步相等。\n",
    "- 忘记把求回滚1格\n",
    "- 碰到目的地的时候不应该回滚1格\n",
    "- 感觉真的面试这个题目， 就挂了。。。"
   ]
  },
  {
   "cell_type": "code",
   "execution_count": 132,
   "id": "81fcf2aa",
   "metadata": {
    "ExecuteTime": {
     "end_time": "2021-09-30T04:13:39.036369Z",
     "start_time": "2021-09-30T04:13:39.017370Z"
    }
   },
   "outputs": [],
   "source": [
    "DIRECTIONS = [(0, 1), (-1, 0), (1, 0), (0, -1)]\n",
    "DIRECTIONS_STR = ['r', 'u', 'd', 'l']\n",
    "\n",
    "class Solution:\n",
    "    \"\"\"\n",
    "    @param maze: the maze\n",
    "    @param ball: the ball position\n",
    "    @param hole: the hole position\n",
    "    @return: the lexicographically smallest way\n",
    "    \"\"\"\n",
    "    def findShortestWay(self, maze, ball, hole):\n",
    "        queue = collections.deque([tuple(ball)])\n",
    "        visited = {}\n",
    "        visited[tuple(ball)] = (0, \"\")\n",
    "        \n",
    "        while len(queue) > 0:\n",
    "            curr_node = queue.popleft()\n",
    "            curr_visit_info = visited.get(curr_node)\n",
    "            for i in range(len(DIRECTIONS)):\n",
    "                distance = 1\n",
    "                new_node = (curr_node[0] + DIRECTIONS[i][0], curr_node[1] + DIRECTIONS[i][1])\n",
    "                while self.inBound(maze, new_node) and not self.hitWall(maze, new_node) and not self.hitHole(maze, hole, new_node):\n",
    "                    new_node = (new_node[0] + DIRECTIONS[i][0], new_node[1] + DIRECTIONS[i][1])\n",
    "                    distance += 1\n",
    "                \n",
    "                if not self.hitHole(maze, hole, new_node):\n",
    "                    new_node = (new_node[0] - DIRECTIONS[i][0], new_node[1] - DIRECTIONS[i][1])\n",
    "                    distance -= 1\n",
    "                if new_node == curr_node:\n",
    "                    continue\n",
    "                if new_node not in visited:\n",
    "                    visited[new_node] = (curr_visit_info[0] + distance, curr_visit_info[1] + self.getDirection(i))\n",
    "                    if not self.hitHole(maze, hole, new_node):\n",
    "                        queue.append(new_node)\n",
    "                else:\n",
    "                    prev_visit = visited.get(new_node)\n",
    "                    if prev_visit[0] < curr_visit_info[0] + distance:\n",
    "                        continue\n",
    "                    elif prev_visit[0] == curr_visit_info[0] + distance:\n",
    "                        if prev_visit[1] < curr_visit_info[1] + self.getDirection(i):\n",
    "                            continue\n",
    "                    visited[new_node] = (curr_visit_info[0] + distance, curr_visit_info[1] + self.getDirection(i))\n",
    "                    if not self.hitHole(maze, hole, new_node):\n",
    "                        queue.append(new_node)\n",
    "        return visited.get(tuple(hole))[1] if tuple(hole) in visited else \"impossible\"\n",
    "        \n",
    "    def inBound(self, maze, node):\n",
    "        return 0 <= node[0] < len(maze) and 0 <= node[1] < len(maze[0])\n",
    "    \n",
    "    def hitWall(self, maze, node):\n",
    "        return maze[node[0]][node[1]] == 1\n",
    "    \n",
    "    def hitHole(self, maze, hole, node):\n",
    "        return tuple(hole) == node\n",
    "    \n",
    "    def getDirection(self, index):\n",
    "        return DIRECTIONS_STR[index]"
   ]
  },
  {
   "cell_type": "code",
   "execution_count": null,
   "id": "da07bab0",
   "metadata": {},
   "outputs": [],
   "source": []
  },
  {
   "cell_type": "markdown",
   "id": "ca3f070e",
   "metadata": {},
   "source": [
    "# 794 Sliding puzzle II\n",
    "- 类似题目\n",
    "    - 120\n",
    "    - 630\n",
    "    - 950 "
   ]
  },
  {
   "cell_type": "markdown",
   "id": "a6d75f0c",
   "metadata": {},
   "source": [
    "## 双向BFS (九章 sample)\n",
    "- 加速 时间优化"
   ]
  },
  {
   "cell_type": "code",
   "execution_count": 322,
   "id": "dbaa4141",
   "metadata": {
    "ExecuteTime": {
     "end_time": "2021-10-01T04:11:22.022929Z",
     "start_time": "2021-10-01T04:11:21.908928Z"
    }
   },
   "outputs": [],
   "source": [
    "class Solution:\n",
    "    \"\"\"\n",
    "    @param init_state: the initial state of chessboard\n",
    "    @param final_state: the final state of chessboard\n",
    "    @return: return an integer, denote the number of minimum moving\n",
    "    \"\"\"\n",
    "\n",
    "    def minMoveStep(self, init_state, final_state):\n",
    "        # # write your code here\n",
    "\n",
    "        return None\n",
    "init_state = [[2, 8, 3],\n",
    "              [1, 0, 4],\n",
    "              [7, 6, 5],]\n",
    "final_state = [[1, 2, 3],\n",
    "               [8, 0, 4],\n",
    "               [7, 6, 5],]\n",
    "\n",
    "Solution().minMoveStep(init_state, final_state)"
   ]
  },
  {
   "cell_type": "markdown",
   "id": "9c2dc29a",
   "metadata": {},
   "source": [
    "## 标准 BFS\n",
    "- 把每一个 string 作为一个 neighbors\n",
    "- 获取 neighbors 的时候就是将对应的位置 进行 swap\n",
    "- 这里一定要有 queue 的层级"
   ]
  },
  {
   "cell_type": "code",
   "execution_count": 366,
   "id": "1decffd4",
   "metadata": {
    "ExecuteTime": {
     "end_time": "2021-10-01T04:59:53.536655Z",
     "start_time": "2021-10-01T04:59:53.518656Z"
    }
   },
   "outputs": [
    {
     "data": {
      "text/plain": [
       "4"
      ]
     },
     "execution_count": 366,
     "metadata": {},
     "output_type": "execute_result"
    }
   ],
   "source": [
    "from collections import deque\n",
    "\n",
    "\n",
    "\n",
    "class Solution:\n",
    "    \"\"\"\n",
    "    @param init_state: the initial state of chessboard\n",
    "    @param final_state: the final state of chessboard\n",
    "    @return: return an integer, denote the number of minimum moving\n",
    "    \"\"\"\n",
    "    DIRECTIONS = [(0, 1), (0, -1), (1, 0), (-1, 0)]\n",
    "\n",
    "    def minMoveStep(self, init_state, final_state):\n",
    "        # # write your code here\n",
    "\n",
    "        source = self.matrix_to_string(init_state)\n",
    "        target = self.matrix_to_string(final_state)\n",
    "        queue = deque()\n",
    "        distance = {}\n",
    "        queue.append(source)\n",
    "        distance[source] = 0\n",
    "\n",
    "        while queue:\n",
    "            size = len(queue) # 为什么一定要定义一层\n",
    "            for _ in range(size):\n",
    "                node = queue.popleft()\n",
    "                if node == target:\n",
    "                    return distance[node]\n",
    "\n",
    "                for neighbor in self.get_neighbors(node):\n",
    "                    if neighbor in distance: # 在里面 意味着什么? 意味着 这个 state 已经存在过了, 之前那个肯定 更优\n",
    "                        continue\n",
    "\n",
    "                    queue.append(neighbor) \n",
    "                    distance[neighbor] = distance[node] + 1 # 因为相比 当前 state, neighbor 的层级 需要 +1\n",
    "#                 print(distance)\n",
    "        return -1\n",
    "\n",
    "    def matrix_to_string(self, matrix):\n",
    "        return \"\".join([str(v) for row in matrix for v in row])\n",
    "\n",
    "\n",
    "    def get_neighbors(self, seq): # hashmap \n",
    "        neighbors = []\n",
    "        zeroIndex = seq.find(\"0\")\n",
    "        x = zeroIndex // 3\n",
    "        y = zeroIndex % 3\n",
    "\n",
    "        for dx, dy in self.DIRECTIONS:\n",
    "            seq_list = list(seq)\n",
    "            _x, _y = x + dx, y + dy\n",
    "            if _x < 0 or _x >= 3 or _y < 0 or _y >= 3:\n",
    "                continue\n",
    "            seq_list[zeroIndex], seq_list[_x * 3 + _y] = seq_list[_x * 3 + _y], seq_list[zeroIndex] # swap 之后 得到新的 状态 作为neighbor\n",
    "            neighbor = \"\".join(seq_list)\n",
    "            neighbors.append(neighbor)\n",
    "#             print(neighbors)\n",
    "        return neighbors\n",
    "    \n",
    "init_state = [[2, 8, 3],\n",
    "              [1, 0, 4],\n",
    "              [7, 6, 5],]\n",
    "final_state = [[1, 2, 3],\n",
    "               [8, 0, 4],\n",
    "               [7, 6, 5],]\n",
    "\n",
    "Solution().minMoveStep(init_state, final_state)"
   ]
  },
  {
   "cell_type": "code",
   "execution_count": null,
   "id": "b2fbd2fe",
   "metadata": {},
   "outputs": [],
   "source": []
  },
  {
   "cell_type": "code",
   "execution_count": null,
   "id": "7649337d",
   "metadata": {},
   "outputs": [],
   "source": []
  },
  {
   "cell_type": "code",
   "execution_count": null,
   "id": "7d1de453",
   "metadata": {},
   "outputs": [],
   "source": []
  },
  {
   "cell_type": "markdown",
   "id": "be0998f6",
   "metadata": {},
   "source": [
    "# DFS - Stack"
   ]
  },
  {
   "cell_type": "code",
   "execution_count": null,
   "id": "9729700e",
   "metadata": {},
   "outputs": [],
   "source": [
    " "
   ]
  },
  {
   "cell_type": "code",
   "execution_count": null,
   "id": "bf8d37cb",
   "metadata": {},
   "outputs": [],
   "source": []
  },
  {
   "cell_type": "code",
   "execution_count": null,
   "id": "67ea6b0d",
   "metadata": {},
   "outputs": [],
   "source": []
  },
  {
   "cell_type": "code",
   "execution_count": null,
   "id": "7d0c5b1e",
   "metadata": {},
   "outputs": [],
   "source": []
  },
  {
   "cell_type": "code",
   "execution_count": null,
   "id": "2673eb31",
   "metadata": {},
   "outputs": [],
   "source": []
  },
  {
   "cell_type": "code",
   "execution_count": null,
   "id": "dc0167d8",
   "metadata": {},
   "outputs": [],
   "source": []
  },
  {
   "cell_type": "code",
   "execution_count": null,
   "id": "194ce8be",
   "metadata": {},
   "outputs": [],
   "source": []
  },
  {
   "cell_type": "code",
   "execution_count": null,
   "id": "f20d0df4",
   "metadata": {},
   "outputs": [],
   "source": []
  }
 ],
 "metadata": {
  "kernelspec": {
   "display_name": "Python 3 (ipykernel)",
   "language": "python",
   "name": "python3"
  },
  "language_info": {
   "codemirror_mode": {
    "name": "ipython",
    "version": 3
   },
   "file_extension": ".py",
   "mimetype": "text/x-python",
   "name": "python",
   "nbconvert_exporter": "python",
   "pygments_lexer": "ipython3",
   "version": "3.7.10"
  },
  "latex_envs": {
   "LaTeX_envs_menu_present": true,
   "autoclose": false,
   "autocomplete": true,
   "bibliofile": "biblio.bib",
   "cite_by": "apalike",
   "current_citInitial": 1,
   "eqLabelWithNumbers": true,
   "eqNumInitial": 1,
   "hotkeys": {
    "equation": "Ctrl-E",
    "itemize": "Ctrl-I"
   },
   "labels_anchors": false,
   "latex_user_defs": false,
   "report_style_numbering": false,
   "user_envs_cfg": false
  },
  "toc": {
   "base_numbering": 1,
   "nav_menu": {},
   "number_sections": true,
   "sideBar": true,
   "skip_h1_title": false,
   "title_cell": "Table of Contents",
   "title_sidebar": "Contents",
   "toc_cell": true,
   "toc_position": {
    "height": "2202px",
    "left": "2016.3px",
    "top": "92px",
    "width": "360.688px"
   },
   "toc_section_display": true,
   "toc_window_display": true
  }
 },
 "nbformat": 4,
 "nbformat_minor": 5
}
